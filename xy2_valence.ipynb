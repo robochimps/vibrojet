{
 "cells": [
  {
   "cell_type": "markdown",
   "metadata": {},
   "source": [
    "# Taylor series expansion of the kinetic energy operator for a triatomic molecule"
   ]
  },
  {
   "cell_type": "code",
   "execution_count": 25,
   "metadata": {},
   "outputs": [],
   "source": [
    "import itertools\n",
    "\n",
    "import jax\n",
    "import jax.numpy as jnp\n",
    "import numpy as np\n",
    "from scipy.special import factorial\n",
    "\n",
    "from vibrojet.keo import Gmat, batch_Gmat, com, eckart\n",
    "from vibrojet.taylor import deriv_list\n",
    "\n",
    "jax.config.update(\"jax_enable_x64\", True)"
   ]
  },
  {
   "cell_type": "markdown",
   "metadata": {},
   "source": [
    "In this example, we compute the Taylor series expansion coefficients for the kinetic-energy $G$-matrix of a triatomic molecule in terms of valence coordinates.\n",
    "\n",
    "To achieve this, we first define a function that transforms an array of valence coordinates into an array of Cartesian coordinates of atoms. Molecular frame constraints can be conveniently applied using function decorators. For instance, the `com` decorator shifts the coordinates to the center of mass, while the `eckart` decorator rotates them into the Eckart frame.\n",
    "\n",
    "The $G$-matrix can be computed for a single set of coordinate values using the `Gmat` function, or for a batch of valence coordinates using `batch_Gmat`.\n",
    "The `Gmat` function outputs an array of shape (`ncoo`+3+3, `ncoo`+3+3), representing the elements of the $G$-matrix. The first `ncoo` elements correspond to vibrational (valence) coordinates, followed by three rotational coordinates and three translational coordinates.\n",
    "The output of `batch_Gmat` extends this by introducing a leading dimension corresponding to the number of points in the batch, effectively computing the $G$-matrix for multiple coordinate sets simultaneously.\n",
    "\n",
    "To compute derivatives or Taylor series expansion coefficients, we use the `deriv_list` function. This function requires three inputs: (1) the function to be differentiated (e.g., `Gmat`), (2) the reference valence coordinate values, and (3) a list of multi-indices specifying the integer exponents for each coordinate in the Taylor series expansion."
   ]
  },
  {
   "cell_type": "code",
   "execution_count": null,
   "metadata": {},
   "outputs": [],
   "source": [
    "# Masses of O, H, H atoms\n",
    "masses = np.array([15.9994, 1.00782505, 1.00782505])\n",
    "\n",
    "# Equilibrium values of valence coordinates\n",
    "r1, r2, alpha = 0.958, 0.958, 1.824\n",
    "x0 = jnp.array([r1, r2, alpha], dtype=jnp.float64)\n",
    "\n",
    "\n",
    "# Valence-to-Cartesian coordinate transformation\n",
    "#   input: array of three valence coordinates\n",
    "#   output: array of shape (number of atoms, 3) containing Cartesian coordinates of atoms\n",
    "# `com` shifts coordinates to the centre of mass\n",
    "# `eckart` rotates coordinates to the Eckart frame\n",
    "@eckart(x0, masses)\n",
    "@com(masses)\n",
    "def valence_to_cartesian(internal_coords):\n",
    "    r1, r2, a = internal_coords\n",
    "    return jnp.array(\n",
    "        [\n",
    "            [0.0, 0.0, 0.0],\n",
    "            [r1 * jnp.sin(a / 2), 0.0, r1 * jnp.cos(a / 2)],\n",
    "            [-r2 * jnp.sin(a / 2), 0.0, r2 * jnp.cos(a / 2)],\n",
    "        ]\n",
    "    )\n",
    "\n",
    "\n",
    "# Generate list of multi-indices specifying the integer exponents for each\n",
    "# coordinate in the Taylor series expansion\n",
    "max_order = 6  # max total expansion order\n",
    "deriv_ind = [\n",
    "    elem\n",
    "    for elem in itertools.product(*[range(0, max_order + 1) for _ in range(len(x0))])\n",
    "    if sum(elem) <= max_order\n",
    "]\n",
    "\n",
    "# Function for computing kinetic G-matrix for given masses of atoms\n",
    "# and internal coordinates\n",
    "func = lambda x: Gmat(x, masses, valence_to_cartesian)\n",
    "\n",
    "# Compute Taylor series expansion coefficients\n",
    "Gmat_coefs = deriv_list(func, deriv_ind, x0, if_taylor=True)\n",
    "\n",
    "print(Gmat_coefs.shape)  # (number of Taylor terms, ncoo+3+3, ncoo+3+3)"
   ]
  },
  {
   "cell_type": "markdown",
   "metadata": {},
   "source": [
    "Optionally, compare the results with more computationally intensive calculations by nesting multiple jacfwd calls for a selected element of $G$-matrix."
   ]
  },
  {
   "cell_type": "code",
   "execution_count": null,
   "metadata": {},
   "outputs": [
    {
     "name": "stdout",
     "output_type": "stream",
     "text": [
      "max difference: 1.1537970578956447e-10\n",
      "(0, 0, 0)    78.644737481988    78.644737481988     0.000000000000\n",
      "(0, 0, 1)     4.445787034604     4.445787034604    -0.000000000000\n",
      "(0, 0, 2)    -0.575189875515    -0.575189875516     0.000000000000\n",
      "(0, 0, 3)    -0.740964505767    -0.740964505767     0.000000000000\n",
      "(0, 0, 4)     0.047932489626     0.047932489626    -0.000000000000\n",
      "(0, 0, 5)     0.037048225288     0.037048225288    -0.000000000000\n",
      "(0, 0, 6)    -0.001597749654    -0.001597749654     0.000000000000\n",
      "(0, 1, 0)   -82.092627851762   -82.092627851762     0.000000000000\n",
      "(0, 1, 1)    -4.640696278292    -4.640696278292    -0.000000000000\n",
      "(0, 1, 2)     0.600406968179     0.600406968179    -0.000000000000\n",
      "(0, 1, 3)     0.773449379716     0.773449379715     0.000000000000\n",
      "(0, 1, 4)    -0.050033914015    -0.050033914015     0.000000000000\n",
      "(0, 1, 5)    -0.038672468984    -0.038672468986     0.000000000001\n",
      "(0, 2, 0)   127.910787901318   127.910787901319    -0.000000000001\n",
      "(0, 2, 1)     4.844150603645     4.844150603645    -0.000000000000\n",
      "(0, 2, 2)    -0.626729611876    -0.626729611878     0.000000000002\n",
      "(0, 2, 3)    -0.807358433946    -0.807358433941    -0.000000000005\n",
      "(0, 2, 4)     0.052227467655     0.052227467656    -0.000000000001\n",
      "(0, 3, 0)  -177.588619478608  -177.588619478609     0.000000000001\n",
      "(0, 3, 1)    -5.056524638458    -5.056524638461     0.000000000002\n",
      "(0, 3, 2)     0.654206275445     0.654206275447    -0.000000000002\n",
      "(0, 3, 3)     0.842754106426     0.842754106410     0.000000000016\n",
      "(0, 4, 0)   231.376483518305   231.376483518306    -0.000000000001\n",
      "(0, 4, 1)     5.278209434722     5.278209434719     0.000000000003\n",
      "(0, 4, 2)    -0.682887552709    -0.682887552658    -0.000000000051\n",
      "(0, 5, 0)  -289.539274739979  -289.539274739984     0.000000000005\n",
      "(0, 5, 1)    -5.509613188715    -5.509613188642    -0.000000000073\n",
      "(0, 6, 0)   352.357214799751   352.357214799777    -0.000000000025\n",
      "(1, 0, 0)   -82.092627851762   -82.092627851762     0.000000000000\n",
      "(1, 0, 1)    -4.640696278292    -4.640696278292    -0.000000000000\n",
      "(1, 0, 2)     0.600406968179     0.600406968179    -0.000000000000\n",
      "(1, 0, 3)     0.773449379715     0.773449379715    -0.000000000000\n",
      "(1, 0, 4)    -0.050033914015    -0.050033914015     0.000000000000\n",
      "(1, 0, 5)    -0.038672468985    -0.038672468986     0.000000000001\n",
      "(1, 1, 0)     1.253459223756     1.253459223756    -0.000000000000\n",
      "(1, 1, 1)     4.844150603645     4.844150603645    -0.000000000000\n",
      "(1, 1, 2)    -0.626729611876    -0.626729611878     0.000000000002\n",
      "(1, 1, 3)    -0.807358433942    -0.807358433941    -0.000000000001\n",
      "(1, 1, 4)     0.052227467651     0.052227467656    -0.000000000006\n",
      "(1, 2, 0)    -1.308412550894    -1.308412550893    -0.000000000000\n",
      "(1, 2, 1)    -5.056524638458    -5.056524638461     0.000000000003\n",
      "(1, 2, 2)     0.654206275430     0.654206275447    -0.000000000017\n",
      "(1, 2, 3)     0.842754106397     0.842754106410    -0.000000000013\n",
      "(1, 3, 0)     1.365775105320     1.365775105317     0.000000000003\n",
      "(1, 3, 1)     5.278209434700     5.278209434719    -0.000000000019\n",
      "(1, 3, 2)    -0.682887552672    -0.682887552658    -0.000000000014\n",
      "(1, 4, 0)    -1.425652510761    -1.425652510769     0.000000000008\n",
      "(1, 4, 1)    -5.509613188757    -5.509613188642    -0.000000000115\n",
      "(1, 5, 0)     1.488155021604     1.488155021679    -0.000000000075\n",
      "(2, 0, 0)   127.910787901318   127.910787901319    -0.000000000001\n",
      "(2, 0, 1)     4.844150603646     4.844150603645     0.000000000000\n",
      "(2, 0, 2)    -0.626729611874    -0.626729611878     0.000000000004\n",
      "(2, 0, 3)    -0.807358433948    -0.807358433941    -0.000000000007\n",
      "(2, 0, 4)     0.052227467658     0.052227467656     0.000000000002\n",
      "(2, 1, 0)    -1.308412550893    -1.308412550893     0.000000000000\n",
      "(2, 1, 1)    -5.056524638454    -5.056524638461     0.000000000007\n",
      "(2, 1, 2)     0.654206275437     0.654206275447    -0.000000000009\n",
      "(2, 1, 3)     0.842754106441     0.842754106410     0.000000000031\n",
      "(2, 2, 0)     1.365775105320     1.365775105317     0.000000000004\n",
      "(2, 2, 1)     5.278209434716     5.278209434719    -0.000000000003\n",
      "(2, 2, 2)    -0.682887552575    -0.682887552658     0.000000000083\n",
      "(2, 3, 0)    -1.425652510783    -1.425652510769    -0.000000000014\n",
      "(2, 3, 1)    -5.509613188574    -5.509613188642     0.000000000068\n",
      "(2, 4, 0)     1.488155021637     1.488155021679    -0.000000000042\n",
      "(3, 0, 0)  -177.588619478608  -177.588619478609     0.000000000001\n",
      "(3, 0, 1)    -5.056524638460    -5.056524638461     0.000000000001\n",
      "(3, 0, 2)     0.654206275447     0.654206275447     0.000000000000\n",
      "(3, 0, 3)     0.842754106419     0.842754106410     0.000000000009\n",
      "(3, 1, 0)     1.365775105319     1.365775105317     0.000000000002\n",
      "(3, 1, 1)     5.278209434695     5.278209434719    -0.000000000024\n",
      "(3, 1, 2)    -0.682887552732    -0.682887552658    -0.000000000074\n",
      "(3, 2, 0)    -1.425652510774    -1.425652510769    -0.000000000005\n",
      "(3, 2, 1)    -5.509613188734    -5.509613188642    -0.000000000092\n",
      "(3, 3, 0)     1.488155021701     1.488155021680     0.000000000022\n",
      "(4, 0, 0)   231.376483518305   231.376483518306    -0.000000000001\n",
      "(4, 0, 1)     5.278209434721     5.278209434719     0.000000000002\n",
      "(4, 0, 2)    -0.682887552700    -0.682887552658    -0.000000000042\n",
      "(4, 1, 0)    -1.425652510764    -1.425652510769     0.000000000005\n",
      "(4, 1, 1)    -5.509613188683    -5.509613188642    -0.000000000041\n",
      "(4, 2, 0)     1.488155021643     1.488155021680    -0.000000000036\n",
      "(5, 0, 0)  -289.539274739979  -289.539274739984     0.000000000005\n",
      "(5, 0, 1)    -5.509613188719    -5.509613188642    -0.000000000077\n",
      "(5, 1, 0)     1.488155021601     1.488155021680    -0.000000000079\n",
      "(6, 0, 0)   352.357214799752   352.357214799777    -0.000000000025\n"
     ]
    }
   ],
   "source": [
    "from vibrojet._keo import Gmat as _Gmat\n",
    "\n",
    "# Select element of G-matrix \n",
    "icoo = 2\n",
    "jcoo = 2\n",
    "func2 = lambda x: _Gmat(x, masses, valence_to_cartesian)[icoo, jcoo]\n",
    "\n",
    "\n",
    "def jacfwd(x0, ind):\n",
    "    f = func2\n",
    "    for _ in range(sum(ind)):\n",
    "        f = jax.jacfwd(f)\n",
    "    i = sum([(i,) * o for i, o in enumerate(ind)], start=tuple())\n",
    "    return f(x0)[i]\n",
    "\n",
    "\n",
    "Gmat_coefs_jacfwd = np.array(\n",
    "    [jacfwd(x0, ind) / np.prod(factorial(ind)) for ind in deriv_ind]\n",
    ")\n",
    "\n",
    "\n",
    "print(\"max difference:\", np.max(np.abs(Gmat_coefs[:, icoo, jcoo] - Gmat_coefs_jacfwd)))\n",
    "for i, ind in enumerate(deriv_ind):\n",
    "    g1 = Gmat_coefs[i, icoo, jcoo]\n",
    "    g2 = Gmat_coefs_jacfwd[i]\n",
    "    print(ind, \"%18.12f\" % g1, \"%18.12f\" % g2, \"%18.12f\" % (g1 - g2))"
   ]
  },
  {
   "cell_type": "markdown",
   "metadata": {},
   "source": [
    "Example of computing $G$-matrix on a batch of coordinate values."
   ]
  },
  {
   "cell_type": "code",
   "execution_count": null,
   "metadata": {},
   "outputs": [
    {
     "name": "stdout",
     "output_type": "stream",
     "text": [
      "(1000000, 9, 9)\n"
     ]
    }
   ],
   "source": [
    "# Generate grid of coordinates\n",
    "r1_arr = np.linspace(r1 - 0.5, r1 + 1, 100)\n",
    "r2_arr = np.linspace(r2 - 0.5, r2 + 1, 100)\n",
    "alpha_arr = np.linspace(alpha - 40 * np.pi / 180, alpha + 40 * np.pi / 180, 100)\n",
    "xa, xb, xc = np.meshgrid(r1_arr, r2_arr, alpha_arr, indexing=\"ij\")\n",
    "x = np.column_stack([xa.ravel(), xb.ravel(), xc.ravel()])\n",
    "\n",
    "Gmat_vals = batch_Gmat(x, masses, valence_to_cartesian)\n",
    "\n",
    "print(Gmat_vals.shape)  # (number of points, ncoo+3+3, ncoo+3+3)"
   ]
  },
  {
   "cell_type": "markdown",
   "metadata": {},
   "source": [
    "Evaluate $G$-matrix from Taylor series"
   ]
  },
  {
   "cell_type": "code",
   "execution_count": 22,
   "metadata": {},
   "outputs": [],
   "source": [
    "@jax.jit\n",
    "def func_taylor(x, x0, ind, c):\n",
    "    \"\"\"Evaluates Taylor series: sum_i c[i] * (x - x0)**ind[i]\"\"\"\n",
    "    dx = x - x0\n",
    "    return jnp.sum(\n",
    "        jnp.prod(dx[:, None, :] ** jnp.asarray(ind)[None, :, :], axis=-1) * c, axis=-1\n",
    "    )\n",
    "\n",
    "g_t = func_taylor(x, x0, deriv_ind, Gmat_coefs[:,2,2])"
   ]
  },
  {
   "cell_type": "code",
   "execution_count": 23,
   "metadata": {},
   "outputs": [
    {
     "data": {
      "text/plain": [
       "np.float64(400.3255771598764)"
      ]
     },
     "execution_count": 23,
     "metadata": {},
     "output_type": "execute_result"
    }
   ],
   "source": [
    "np.max(np.abs(Gmat_vals[:,2,2]-g_t))"
   ]
  },
  {
   "cell_type": "code",
   "execution_count": 24,
   "metadata": {},
   "outputs": [
    {
     "data": {
      "text/plain": [
       "np.float64(67.41711952990254)"
      ]
     },
     "execution_count": 24,
     "metadata": {},
     "output_type": "execute_result"
    }
   ],
   "source": [
    "np.sqrt(np.mean(np.square(Gmat_vals[:,2,2]-g_t)))"
   ]
  },
  {
   "cell_type": "code",
   "execution_count": null,
   "metadata": {},
   "outputs": [],
   "source": []
  }
 ],
 "metadata": {
  "kernelspec": {
   "display_name": "myenv",
   "language": "python",
   "name": "python3"
  },
  "language_info": {
   "codemirror_mode": {
    "name": "ipython",
    "version": 3
   },
   "file_extension": ".py",
   "mimetype": "text/x-python",
   "name": "python",
   "nbconvert_exporter": "python",
   "pygments_lexer": "ipython3",
   "version": "3.13.0"
  }
 },
 "nbformat": 4,
 "nbformat_minor": 2
}
