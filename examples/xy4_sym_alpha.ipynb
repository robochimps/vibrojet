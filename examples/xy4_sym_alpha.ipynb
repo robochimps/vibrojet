{
 "cells": [
  {
   "cell_type": "markdown",
   "metadata": {},
   "source": [
    "# Example of KEO Taylor series expansion for methane\n",
    "\n",
    "Here we use the following internal coordinates:\n",
    "\n",
    "1. $r_1$\n",
    "2. $r_2$\n",
    "3. $r_3$\n",
    "4. $r_4$\n",
    "5. $s_1 = (2\\alpha_{12} - \\alpha_{13} - \\alpha_{14} - \\alpha_{23} - \\alpha_{24} + 2\\alpha_{34})/\\sqrt{12}$\n",
    "6. $s_2=\\alpha_{13} - \\alpha_{14} - \\alpha_{23} + \\alpha_{24}) / 2$\n",
    "7. $s_3=(\\alpha_{24} - \\alpha_{13}) / \\sqrt{2}$\n",
    "8. $s_4=(\\alpha_{23} - \\alpha_{14}) / \\sqrt{2}$\n",
    "9. $s_5=(\\alpha_{34} - \\alpha_{12}) / \\sqrt{2}$,\n",
    "\n",
    "where $r_i\\equiv\\text{C-H}_i$ and $\\alpha_{ij}\\equiv\\text{H}_i\\text{-C-H}_j$"
   ]
  },
  {
   "cell_type": "code",
   "execution_count": 1,
   "metadata": {},
   "outputs": [],
   "source": [
    "import itertools\n",
    "\n",
    "import jax\n",
    "import jax.numpy as jnp\n",
    "import numpy as np\n",
    "from scipy.linalg import expm\n",
    "from scipy.special import factorial\n",
    "\n",
    "from vibrojet.eckart import EckartMethod, eckart\n",
    "from vibrojet.jet_prim import acos, inv\n",
    "from vibrojet.keo import Gmat, G_to_invcm, com\n",
    "from vibrojet.taylor import deriv_list\n",
    "\n",
    "jax.config.update(\"jax_enable_x64\", True)"
   ]
  },
  {
   "cell_type": "markdown",
   "metadata": {},
   "source": [
    "Define a function `from_symmetrized_alpha_to_alpha` to obtain five (six) $\\alpha_{ij}$ valence angular coordinates from the five symmetrized $s_k$ coordinates, defined above."
   ]
  },
  {
   "cell_type": "code",
   "execution_count": 2,
   "metadata": {},
   "outputs": [],
   "source": [
    "def from_symmetrized_alpha_to_alpha(symm_alpha, alpha_ini, no_iter: int = 10):\n",
    "\n",
    "    def symmetrized_alpha(alpha):\n",
    "        alpha12, alpha13, alpha14, alpha23, alpha24 = alpha\n",
    "\n",
    "        cosbeta = (jnp.cos(alpha23) - jnp.cos(alpha12) * jnp.cos(alpha13)) / (\n",
    "            jnp.sin(alpha12) * jnp.sin(alpha13)\n",
    "        )\n",
    "        beta312 = acos(cosbeta)\n",
    "\n",
    "        cosbeta = (jnp.cos(alpha24) - jnp.cos(alpha12) * jnp.cos(alpha14)) / (\n",
    "            jnp.sin(alpha12) * jnp.sin(alpha14)\n",
    "        )\n",
    "        beta412 = acos(cosbeta)\n",
    "\n",
    "        cosa34 = jnp.cos(alpha13) * jnp.cos(alpha14) + jnp.cos(\n",
    "            beta312 + beta412\n",
    "        ) * jnp.sin(alpha13) * jnp.sin(alpha14)\n",
    "        alpha34 = acos(cosa34)\n",
    "\n",
    "        sym = jnp.array(\n",
    "            [\n",
    "                (2 * alpha12 - alpha13 - alpha14 - alpha23 - alpha24 + 2 * alpha34)\n",
    "                / jnp.sqrt(12),\n",
    "                (alpha13 - alpha14 - alpha23 + alpha24) / 2,\n",
    "                (alpha24 - alpha13) / jnp.sqrt(2),\n",
    "                (alpha23 - alpha14) / jnp.sqrt(2),\n",
    "                (alpha34 - alpha12) / jnp.sqrt(2),\n",
    "            ]\n",
    "        )\n",
    "        return sym, alpha34\n",
    "\n",
    "    alpha = alpha_ini\n",
    "\n",
    "    for _ in range(no_iter):\n",
    "        sym, alpha34 = symmetrized_alpha(alpha)\n",
    "        jac = jax.jacrev(symmetrized_alpha)(alpha)[0]\n",
    "        am = jac.T @ jac\n",
    "        ai = inv(am)\n",
    "        bm = (symm_alpha - sym) @ jac\n",
    "        alpha = alpha + ai @ bm\n",
    "\n",
    "    stdev = jnp.sqrt(jnp.mean(jnp.square(symm_alpha - sym)))\n",
    "\n",
    "    return alpha, alpha34, stdev"
   ]
  },
  {
   "cell_type": "markdown",
   "metadata": {},
   "source": [
    "Define a function that computes the rotation matrix based on the equilibrium geometry, aligning it with a reference frame that better reflects the $T_d$ molecular symmetry. This frame rotation may not be necessary in general, it is essential for comparisons with the KEO expansion results obtained from TROVE."
   ]
  },
  {
   "cell_type": "code",
   "execution_count": 3,
   "metadata": {},
   "outputs": [],
   "source": [
    "def rotation_matrix_td_frame(xyz, no_iter: int = 20):\n",
    "    norm = np.linalg.norm(xyz, axis=-1)\n",
    "    assert all(np.abs(norm[1:] - norm[1]) < 1e-14), f\"C-H distances must all be equal\"\n",
    "    xyz_norm = xyz / norm[1]\n",
    "\n",
    "    # reference frame orientation for Td-symmetry molecule\n",
    "    sqrt3 = 1 / np.sqrt(3)\n",
    "    xyz0 = np.array(\n",
    "        [\n",
    "            [0.0, 0.0, 0.0],\n",
    "            [-sqrt3, sqrt3, sqrt3],\n",
    "            [-sqrt3, -sqrt3, -sqrt3],\n",
    "            [sqrt3, sqrt3, -sqrt3],\n",
    "            [sqrt3, -sqrt3, sqrt3],\n",
    "        ]\n",
    "    )\n",
    "\n",
    "    rotmat = np.eye(3)\n",
    "    kappa = np.zeros((3, 3))\n",
    "    zeros = np.zeros(len(xyz))\n",
    "\n",
    "    for _ in range(no_iter):\n",
    "        exp_kappa = expm(kappa).T\n",
    "        rotmat = exp_kappa @ rotmat\n",
    "        lmat = exp_kappa + kappa\n",
    "        xyz_norm = xyz_norm @ exp_kappa.T\n",
    "        amat = np.concatenate(\n",
    "            (\n",
    "                [xyz_norm[:, 1], xyz_norm[:, 2], zeros],\n",
    "                [-xyz_norm[:, 0], zeros, xyz_norm[:, 2]],\n",
    "                [zeros, -xyz_norm[:, 0], -xyz_norm[:, 1]],\n",
    "            ),\n",
    "            axis=-1,\n",
    "        ).T\n",
    "        tmat = xyz_norm @ lmat.T - xyz0\n",
    "        bvec = np.concatenate((tmat[:, 0], tmat[:, 1], tmat[:, 2]), axis=0).T\n",
    "        v, *_ = np.linalg.lstsq(amat, bvec, rcond=None)\n",
    "        kappa = np.array(\n",
    "            [\n",
    "                [0.0, v[0], v[1]],\n",
    "                [-v[0], 0.0, v[2]],\n",
    "                [-v[1], -v[2], 0.0],\n",
    "            ]\n",
    "        )\n",
    "    return rotmat"
   ]
  },
  {
   "cell_type": "markdown",
   "metadata": {},
   "source": [
    "Define a function to compute the Cartesian coordinates of atoms from given symmetry-adapted internal coordinates."
   ]
  },
  {
   "cell_type": "code",
   "execution_count": 4,
   "metadata": {},
   "outputs": [],
   "source": [
    "masses = [\n",
    "    12.0,\n",
    "    1.007825035,\n",
    "    1.007825035,\n",
    "    1.007825035,\n",
    "    1.007825035,\n",
    "]  # masses of C, H1, H2, H3, H4\n",
    "\n",
    "# reference values of internal coordinates\n",
    "r_ref = 1.0859638364\n",
    "q0 = np.array([r_ref, r_ref, r_ref, r_ref, 0.0, 0.0, 0.0, 0.0, 0.0])\n",
    "\n",
    "# initial rotation matrix to a reference frame\n",
    "rotmat = np.eye(3)\n",
    "\n",
    "\n",
    "# @com(masses) # use `com` is `eckart` frame is not necessary\n",
    "@eckart(\n",
    "    q0, masses, method=EckartMethod.exp_kappa)\n",
    "def internal_to_cartesian(internal_coords):\n",
    "    r1, r2, r3, r4 = internal_coords[:4]  # C-H distances\n",
    "\n",
    "    # compute valence bond angles from symmetrized coordinates\n",
    "\n",
    "    symm_alpha = internal_coords[4:]  # s_1, ... s_5\n",
    "    alpha_ini = np.array([109.5 * np.pi / 180] * 5)\n",
    "    alpha, alpha34, stdev = from_symmetrized_alpha_to_alpha(symm_alpha, alpha_ini)\n",
    "    alpha12, alpha13, alpha14, alpha23, alpha24 = alpha\n",
    "\n",
    "    # compute Cartesian coordinates\n",
    "\n",
    "    xyz_C = jnp.array([0.0, 0.0, 0.0])\n",
    "\n",
    "    # H1\n",
    "    xyz_H1 = r1 * jnp.array([0.0, 0.0, 1.0])\n",
    "\n",
    "    # H2\n",
    "    xyz_H2 = r2 * jnp.array([jnp.sin(alpha12), 0.0, jnp.cos(alpha12)])\n",
    "\n",
    "    # H3\n",
    "    alpha = alpha13\n",
    "    beta = alpha23\n",
    "    v12 = xyz_H1\n",
    "    v23 = xyz_H2\n",
    "    n2 = v12 / jnp.linalg.norm(v12)\n",
    "    n3 = jnp.cross(v23, v12)\n",
    "    n3 = n3 / jnp.linalg.norm(n3)\n",
    "    n1 = jnp.cross(n2, n3)\n",
    "    cosa3 = jnp.sum(n2 * v23) / jnp.linalg.norm(v23)\n",
    "    alpha3 = acos(cosa3)\n",
    "    cosphi = (jnp.cos(beta) - jnp.cos(alpha) * jnp.cos(alpha3)) / (\n",
    "        jnp.sin(alpha) * jnp.sin(alpha3)\n",
    "    )\n",
    "    phi = acos(cosphi)\n",
    "    xyz_H3 = r3 * (\n",
    "        jnp.cos(alpha) * n2\n",
    "        + jnp.sin(alpha) * jnp.cos(phi) * n1\n",
    "        + jnp.sin(alpha) * jnp.sin(phi) * n3\n",
    "    )\n",
    "\n",
    "    # H4\n",
    "    alpha = alpha14\n",
    "    beta = alpha24\n",
    "    v12 = xyz_H1\n",
    "    v23 = xyz_H2\n",
    "    n2 = v12 / jnp.linalg.norm(v12)\n",
    "    n3 = jnp.cross(v12, v23)\n",
    "    n3 = n3 / jnp.linalg.norm(n3)\n",
    "    n1 = jnp.cross(n3, n2)\n",
    "    cosa3 = jnp.sum(n2 * v23) / jnp.linalg.norm(v23)\n",
    "    alpha3 = acos(cosa3)\n",
    "    cosphi = (jnp.cos(beta) - jnp.cos(alpha) * jnp.cos(alpha3)) / (\n",
    "        jnp.sin(alpha) * jnp.sin(alpha3)\n",
    "    )\n",
    "    phi = acos(cosphi)\n",
    "    xyz_H4 = r4 * (\n",
    "        jnp.cos(alpha) * n2\n",
    "        + jnp.sin(alpha) * jnp.cos(phi) * n1\n",
    "        + jnp.sin(alpha) * jnp.sin(phi) * n3\n",
    "    )\n",
    "\n",
    "    xyz = jnp.array([xyz_C, xyz_H1, xyz_H2, xyz_H3, xyz_H4])\n",
    "    return xyz @ rotmat.T"
   ]
  },
  {
   "cell_type": "markdown",
   "metadata": {},
   "source": [
    "Compute reference Cartesian coordinates and rotation matrix to a reference $T_d$-symmetry-compatible frame"
   ]
  },
  {
   "cell_type": "code",
   "execution_count": 5,
   "metadata": {},
   "outputs": [
    {
     "name": "stdout",
     "output_type": "stream",
     "text": [
      "Reference internal coordinates:\n",
      " [1.08596384 1.08596384 1.08596384 1.08596384 0.         0.\n",
      " 0.         0.         0.        ]\n",
      "Reference Cartesian coordinates:\n",
      " [[ 2.92903040e-17 -1.37356992e-19  6.92534613e-18]\n",
      " [ 1.02702829e-17 -1.37356992e-19  1.08596384e+00]\n",
      " [ 1.02385652e+00 -1.37356992e-19 -3.61987945e-01]\n",
      " [-5.11928262e-01 -8.86685759e-01 -3.61987945e-01]\n",
      " [-5.11928262e-01  8.86685759e-01 -3.61987945e-01]]\n",
      "Reference Cartesian coordinates in Td-symmetry-compatible frame:\n",
      " [[-3.19271547e-17 -1.01126418e-17  0.00000000e+00]\n",
      " [-6.26981513e-01  6.26981513e-01  6.26981513e-01]\n",
      " [-6.26981513e-01 -6.26981513e-01 -6.26981513e-01]\n",
      " [ 6.26981513e-01  6.26981513e-01 -6.26981513e-01]\n",
      " [ 6.26981513e-01 -6.26981513e-01  6.26981513e-01]]\n"
     ]
    }
   ],
   "source": [
    "xyz = internal_to_cartesian(q0)\n",
    "print(\"Reference internal coordinates:\\n\", q0)\n",
    "print(\"Reference Cartesian coordinates:\\n\", xyz)\n",
    "\n",
    "rotmat = rotation_matrix_td_frame(xyz)\n",
    "\n",
    "xyz = internal_to_cartesian(q0)\n",
    "print(\"Reference Cartesian coordinates in Td-symmetry-compatible frame:\\n\", xyz)"
   ]
  },
  {
   "cell_type": "markdown",
   "metadata": {},
   "source": [
    "Compute Taylor series expansion of G-matrix using Taylor-mode AD"
   ]
  },
  {
   "cell_type": "code",
   "execution_count": 6,
   "metadata": {},
   "outputs": [],
   "source": [
    "# Generate list of multi-indices specifying the integer exponents\n",
    "# for each coordinate in the Taylor series expansion\n",
    "max_order = 3  # max total expansion order\n",
    "deriv_ind = [\n",
    "    elem\n",
    "    for elem in itertools.product(*[range(0, max_order + 1) for _ in range(len(q0))])\n",
    "    if sum(elem) <= max_order\n",
    "]\n",
    "\n",
    "func = lambda x: Gmat(x, masses, internal_to_cartesian)\n",
    "\n",
    "coefs = deriv_list(func, deriv_ind, q0, if_taylor=True)"
   ]
  },
  {
   "cell_type": "markdown",
   "metadata": {},
   "source": [
    "Optionally, compare with Taylor series expansion of G-matrix obtained using nested `jacfwd` calls"
   ]
  },
  {
   "cell_type": "code",
   "execution_count": 7,
   "metadata": {},
   "outputs": [
    {
     "name": "stderr",
     "output_type": "stream",
     "text": [
      "2025-04-07 06:10:24.094588: E external/xla/xla/service/slow_operation_alarm.cc:73] \n",
      "********************************\n",
      "[Compiling module jit_Gmat] Very slow compile? If you want to file a bug, run with envvar XLA_FLAGS=--xla_dump_to=/tmp/foo and attach the results.\n",
      "********************************\n",
      "2025-04-07 06:44:46.431566: E external/xla/xla/service/slow_operation_alarm.cc:140] The operation took 36m22.344026s\n",
      "\n",
      "********************************\n",
      "[Compiling module jit_Gmat] Very slow compile? If you want to file a bug, run with envvar XLA_FLAGS=--xla_dump_to=/tmp/foo and attach the results.\n",
      "********************************\n"
     ]
    },
    {
     "name": "stdout",
     "output_type": "stream",
     "text": [
      "max difference for G-matrix: 3.0127011996228248e-12\n"
     ]
    }
   ],
   "source": [
    "def jacfwd(x0, ind):\n",
    "    f = func\n",
    "    for _ in range(sum(ind)):\n",
    "        f = jax.jacfwd(f)\n",
    "    i = sum([(i,) * o for i, o in enumerate(ind)], start=tuple())\n",
    "    return f(x0)[:, :, *i]\n",
    "\n",
    "\n",
    "coefs2 = np.array([jacfwd(q0, ind) / np.prod(factorial(ind)) for ind in deriv_ind])\n",
    "\n",
    "print(\"max difference for G-matrix:\", np.max(np.abs(coefs - coefs2)))"
   ]
  },
  {
   "cell_type": "markdown",
   "metadata": {},
   "source": [
    "Optionally, compare with results of TROVE expansion"
   ]
  },
  {
   "cell_type": "code",
   "execution_count": 8,
   "metadata": {},
   "outputs": [],
   "source": [
    "from zipfile import ZipFile\n",
    "\n",
    "# Extract G-matrix Taylor series expansion coefficients from TROVE output file.\n",
    "\n",
    "def load_trove_gmat(filename):\n",
    "    deriv_ind = {}\n",
    "    coefs = {}\n",
    "    with ZipFile(filename, \"r\") as z:\n",
    "        files = z.namelist()\n",
    "        with z.open(files[0]) as fl:\n",
    "            read_g = False\n",
    "            for line in fl:\n",
    "                w = line.decode(\"utf-8\").strip().split()\n",
    "                if (\n",
    "                    len(w) == 6\n",
    "                    and w[0] == \"derivatives\"\n",
    "                    and w[1] == \"of\"\n",
    "                    and w[2] == \"G(\"\n",
    "                    and w[5] == \")\"\n",
    "                ):\n",
    "                    i = int(w[3])\n",
    "                    j = int(w[4])\n",
    "                    deriv_ind[(i, j)] = []\n",
    "                    coefs[(i, j)] = []\n",
    "                    read_g = True\n",
    "                    continue\n",
    "                if len(w) == 1 and w[0] == \"expand_kinetic/done\":\n",
    "                    break\n",
    "                if read_g:\n",
    "                    if len(w) == 0:\n",
    "                        read_g = False\n",
    "                    else:\n",
    "                        ind = [int(elem) for elem in w[2:11]]\n",
    "                        c = float(w[12]) / np.prod(factorial(ind)) * G_to_invcm\n",
    "                        deriv_ind[(i, j)].append(ind)\n",
    "                        coefs[(i, j)].append(c)\n",
    "    return deriv_ind, coefs\n",
    "\n",
    "\n",
    "deriv_ind_trove, coefs_trove = load_trove_gmat(\n",
    "    \"../etc/data/methane/ch4_P14curv_fastc_36n_dip_ADF_dms.out.zip\"\n",
    ")"
   ]
  },
  {
   "cell_type": "code",
   "execution_count": 9,
   "metadata": {},
   "outputs": [
    {
     "name": "stdout",
     "output_type": "stream",
     "text": [
      "max difference to TROVE: 2.9913849175500218e-12\n"
     ]
    }
   ],
   "source": [
    "thresh = 1e-06\n",
    "\n",
    "max_diff = np.zeros((15, 15))\n",
    "err = []\n",
    "\n",
    "for i in range(len(deriv_ind)):\n",
    "    ind = deriv_ind[i]\n",
    "    for k in range(coefs[i].shape[0]):\n",
    "        for l in range(k, coefs[i].shape[1]):\n",
    "            c = coefs[i, k, l]\n",
    "            if np.abs(c) > thresh:\n",
    "                try:\n",
    "                    ind_ = deriv_ind_trove[(k + 1, l + 1)].index(list(ind))\n",
    "                except ValueError:\n",
    "                    raise ValueError(\n",
    "                        f\"can't find derivative {ind} for G({k+1},{l+1}) in TROVE output,\"\n",
    "                        + f\"coefficient = {c}\"\n",
    "                    )\n",
    "\n",
    "                c_tr = coefs_trove[(k + 1, l + 1)][ind_]\n",
    "                max_diff[k, l] = max([abs(c - c_tr), max_diff[k, l]])\n",
    "                # print(ind, k, l, c, c_tr, c - c_tr)\n",
    "\n",
    "# print(max_diff)\n",
    "print(\"max difference to TROVE:\", np.max(max_diff))"
   ]
  },
  {
   "cell_type": "code",
   "execution_count": null,
   "metadata": {},
   "outputs": [],
   "source": []
  }
 ],
 "metadata": {
  "kernelspec": {
   "display_name": "myenv",
   "language": "python",
   "name": "python3"
  },
  "language_info": {
   "codemirror_mode": {
    "name": "ipython",
    "version": 3
   },
   "file_extension": ".py",
   "mimetype": "text/x-python",
   "name": "python",
   "nbconvert_exporter": "python",
   "pygments_lexer": "ipython3",
   "version": "3.13.3"
  }
 },
 "nbformat": 4,
 "nbformat_minor": 2
}
