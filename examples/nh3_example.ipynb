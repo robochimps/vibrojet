{
 "cells": [
  {
   "cell_type": "markdown",
   "id": "5edf2428",
   "metadata": {},
   "source": [
    "# Example of Taylor series expansion of kinetic and potential energy operators for ammonia\n",
    "\n",
    "Here, we use the following internal coordinates of ammonia molecule $\\text{NH}_3$\n",
    "\n",
    "1. $r_1$\n",
    "2. $r_2$\n",
    "3. $r_3$\n",
    "4. $s_4 = (2\\alpha_{23}-\\alpha_{13}-\\alpha_{12})/\\sqrt{6}$\n",
    "5. $s_5 = (\\alpha_{13}-\\alpha_{12})/\\sqrt{2}$\n",
    "6. $\\rho$\n",
    "\n",
    "where $r_i\\equiv\\text{N-H}_i$, $\\alpha_{ij}\\equiv\\text{H}_i\\text{-C-H}_j$, and $\\rho$ is an 'umbrella' angle $[0,\\pi]$.\n",
    "\n",
    "We will build expansion of the potential energy surface (PES) in terms of the following 1D functions of internal coordinates:\n",
    "\n",
    "- $y_1=1-\\exp(-a_m(r_1-r_1^{(eq)}))$\n",
    "- $y_2=1-\\exp(-a_m(r_2-r_2^{(eq)}))$\n",
    "- $y_3=1-\\exp(-a_m(r_3-r_3^{(eq)}))$\n",
    "- $y_4=s_4$\n",
    "- $y_5=s_5$\n",
    "- $y_6=\\cos(\\rho)$\n",
    "\n",
    "For expansion of the kinetic energy operator (KEO), we use the following 1D functions of internal coordinates:\n",
    "\n",
    "- $z_1=r_1-r_1^{(eq)}$\n",
    "- $z_2=r_2-r_2^{(eq)}$\n",
    "- $z_3=r_3-r_3^{(eq)}$\n",
    "- $z_4=s_4$\n",
    "- $z_5=s_5$\n",
    "- $z_6=\\cos(\\rho)$"
   ]
  },
  {
   "cell_type": "code",
   "execution_count": 1,
   "id": "b729e55e",
   "metadata": {},
   "outputs": [],
   "source": [
    "import itertools\n",
    "import os\n",
    "\n",
    "import jax\n",
    "import matplotlib.pyplot as plt\n",
    "import numpy as np\n",
    "from jax import config\n",
    "from jax import numpy as jnp\n",
    "from scipy import optimize\n",
    "\n",
    "from vibrojet.jet_prim import acos\n",
    "from vibrojet.keo import Gmat, com, pseudo\n",
    "from vibrojet.potentials import nh3_POK\n",
    "from vibrojet.taylor import deriv_list\n",
    "\n",
    "config.update(\"jax_enable_x64\", True)"
   ]
  },
  {
   "cell_type": "markdown",
   "id": "52f4ba65",
   "metadata": {},
   "source": [
    "Define a function `find_alpha_from_s_delta` to obtain three $\\alpha_{ij}$ valence angular coordinates from the two symmetrized $s_4$, $s_5$ and 'umbrella' angle $\\delta=\\rho-\\pi/2$ coordinates."
   ]
  },
  {
   "cell_type": "code",
   "execution_count": 2,
   "id": "9295f8db",
   "metadata": {},
   "outputs": [],
   "source": [
    "def find_alpha_from_s_delta(s4, s5, delta, no_iter: int = 10):\n",
    "\n",
    "    sqrt2 = jnp.sqrt(2.0)\n",
    "    sqrt3 = jnp.sqrt(3.0)\n",
    "    sqrt6 = jnp.sqrt(6.0)\n",
    "\n",
    "    def calc_s_to_sin_delta(s6, s4, s5):\n",
    "        alpha1 = (sqrt2 * s6 + 2 * s4) / sqrt6\n",
    "        alpha2 = (sqrt2 * s6 - s4 + sqrt3 * s5) / sqrt6\n",
    "        alpha3 = (sqrt2 * s6 - s4 - sqrt3 * s5) / sqrt6\n",
    "        cos_alpha1 = jnp.cos(alpha1)\n",
    "        cos_alpha2 = jnp.cos(alpha2)\n",
    "        cos_alpha3 = jnp.cos(alpha3)\n",
    "        sin_alpha1 = jnp.sin(alpha1)\n",
    "        sin_alpha2 = jnp.sin(alpha2)\n",
    "        sin_alpha3 = jnp.sin(alpha3)\n",
    "        tau_2 = (\n",
    "            1\n",
    "            - cos_alpha1**2\n",
    "            - cos_alpha2**2\n",
    "            - cos_alpha3**2\n",
    "            + 2 * cos_alpha1 * cos_alpha2 * cos_alpha3\n",
    "        )\n",
    "        norm_2 = (\n",
    "            sin_alpha3**2\n",
    "            + sin_alpha2**2\n",
    "            + sin_alpha1**2\n",
    "            + 2 * cos_alpha3 * cos_alpha1\n",
    "            - 2 * cos_alpha2\n",
    "            + 2 * cos_alpha2 * cos_alpha3\n",
    "            - 2 * cos_alpha1\n",
    "            + 2 * cos_alpha2 * cos_alpha1\n",
    "            - 2 * cos_alpha3\n",
    "        )\n",
    "        return tau_2 / norm_2\n",
    "\n",
    "    # initial value for s6\n",
    "    alpha1 = 2 * jnp.pi / 3\n",
    "    s6 = alpha1 * sqrt3\n",
    "    sin_delta = jnp.sin(delta)\n",
    "    sin_delta2 = sin_delta**2\n",
    "\n",
    "    for _ in range(no_iter):\n",
    "        f = calc_s_to_sin_delta(s6, s4, s5)\n",
    "        eps = f - sin_delta2\n",
    "        grad = jax.grad(calc_s_to_sin_delta)(s6, s4, s5)\n",
    "        dx = eps / grad\n",
    "        dx0 = dx\n",
    "        s6 = s6 - dx0\n",
    "\n",
    "    alpha1 = (sqrt2 * s6 + 2 * s4) / sqrt6\n",
    "    alpha2 = (sqrt2 * s6 - s4 + sqrt3 * s5) / sqrt6\n",
    "    alpha3 = (sqrt2 * s6 - s4 - sqrt3 * s5) / sqrt6\n",
    "\n",
    "    return alpha1, alpha2, alpha3"
   ]
  },
  {
   "cell_type": "markdown",
   "id": "9b302f41",
   "metadata": {},
   "source": [
    "Find equilibrium values of internal coordinates"
   ]
  },
  {
   "cell_type": "code",
   "execution_count": 3,
   "id": "7654fc71",
   "metadata": {},
   "outputs": [
    {
     "name": "stdout",
     "output_type": "stream",
     "text": [
      "equilibrium coordinates: [ 1.01159999e+00  1.01159999e+00  1.01159999e+00 -7.40384010e-09\n",
      " -7.51104812e-09  1.95651869e+00]\n",
      "min of the potential: 4.175203295455632e-11\n"
     ]
    }
   ],
   "source": [
    "@jax.jit\n",
    "def poten(q):\n",
    "    r1, r2, r3, s4, s5, rho = q\n",
    "    delta = rho - jnp.pi / 2\n",
    "    alpha1, alpha2, alpha3 = find_alpha_from_s_delta(s4, s5, delta)\n",
    "    v = nh3_POK.poten((r1, r2, r3, alpha1, alpha2, alpha3))\n",
    "    return v\n",
    "\n",
    "vmin = optimize.minimize(poten, [1.1, 1.1, 1.1, 0.5, 0.5, np.pi/2])\n",
    "q0 = vmin.x\n",
    "v0 = vmin.fun\n",
    "print(\"equilibrium coordinates:\", q0)\n",
    "print(\"min of the potential:\", v0)"
   ]
  },
  {
   "cell_type": "markdown",
   "id": "081da1fc",
   "metadata": {},
   "source": [
    "Define mapping from internal coordinates to Cartesian coordinates, to $y$-coordinates used for expansion of PES, and $z$-coordinates used for expansion of KEO."
   ]
  },
  {
   "cell_type": "code",
   "execution_count": 14,
   "id": "b4f906ec",
   "metadata": {},
   "outputs": [],
   "source": [
    "# masses of N, H1, H2, H3\n",
    "masses = [14.00307400, 1.007825035, 1.007825035, 1.007825035]\n",
    "\n",
    "\n",
    "# internal-to-Cartesian coordinate transformation\n",
    "\n",
    "\n",
    "@com(masses)\n",
    "def internal_to_cartesian(internal_coords):\n",
    "    r1, r2, r3, s4, s5, rho = internal_coords\n",
    "    delta = rho - jnp.pi / 2\n",
    "    alpha1, alpha2, alpha3 = find_alpha_from_s_delta(s4, s5, delta)\n",
    "\n",
    "    cos_rho = jnp.cos(rho)\n",
    "    sin_rho = jnp.sin(rho)\n",
    "\n",
    "    # beta3 = acos((jnp.cos(alpha3) - jnp.cos(rho) ** 2) / jnp.sin(rho) ** 2)\n",
    "    # beta2 = acos((jnp.cos(alpha2) - jnp.cos(rho) ** 2) / jnp.sin(rho) ** 2)\n",
    "\n",
    "    cos_beta3 = (jnp.cos(alpha3) - cos_rho**2) / sin_rho**2\n",
    "    cos_beta2 = (jnp.cos(alpha2) - cos_rho**2) / sin_rho**2\n",
    "\n",
    "    sin_beta3 = jnp.sin(acos(cos_beta3))\n",
    "    sin_beta2 = jnp.sin(acos(cos_beta2))\n",
    "\n",
    "    # sin_beta3 = jnp.sqrt(1 - cos_beta3**2)  # 0 < beta3 < pi\n",
    "    # sin_beta2 = jnp.sqrt(1 - cos_beta2**2)  # 0 < beta2 < pi\n",
    "\n",
    "    xyz = jnp.array(\n",
    "        [\n",
    "            [0.0, 0.0, 0.0],\n",
    "            [r1 * sin_rho, 0.0, r1 * cos_rho],\n",
    "            [r2 * sin_rho * cos_beta3, r2 * sin_rho * sin_beta3, r2 * cos_rho],\n",
    "            [r3 * sin_rho * cos_beta2, -r3 * sin_rho * sin_beta2, r3 * cos_rho],\n",
    "        ]\n",
    "    )\n",
    "    return xyz\n",
    "\n",
    "\n",
    "# y-coordinates for expansion of PES\n",
    "\n",
    "# Morse constant necessary for defining y-coordinates for stretches\n",
    "a_morse = 2.0\n",
    "\n",
    "\n",
    "def internal_to_y(q):\n",
    "    r1, r2, r3, s4, s5, rho = q\n",
    "    y1 = 1 - jnp.exp(-a_morse * (r1 - q0[0]))\n",
    "    y2 = 1 - jnp.exp(-a_morse * (r2 - q0[1]))\n",
    "    y3 = 1 - jnp.exp(-a_morse * (r3 - q0[2]))\n",
    "    y4 = s4\n",
    "    y5 = s5\n",
    "    y6 = jnp.sin(rho)\n",
    "    return jnp.array([y1, y2, y3, y4, y5, y6])\n",
    "\n",
    "\n",
    "def y_to_internal(y):\n",
    "    y1, y2, y3, y4, y5, y6 = y\n",
    "    r1 = -jnp.log(1 - y1) / a_morse + q0[0]\n",
    "    r2 = -jnp.log(1 - y2) / a_morse + q0[1]\n",
    "    r3 = -jnp.log(1 - y3) / a_morse + q0[2]\n",
    "    s4 = y4\n",
    "    s5 = y5\n",
    "    rho = np.pi / 2 - acos(y6)  # asin(y6)\n",
    "    return jnp.array([r1, r2, r3, s4, s5, rho])\n",
    "\n",
    "\n",
    "y0 = internal_to_y(q0)\n",
    "\n",
    "\n",
    "# z-coordinates for expansion of KEO\n",
    "\n",
    "\n",
    "def internal_to_z(q):\n",
    "    r1, r2, r3, s4, s5, rho = q\n",
    "    z1 = r1 - q0[0]\n",
    "    z2 = r2 - q0[1]\n",
    "    z3 = r3 - q0[2]\n",
    "    z4 = s4\n",
    "    z5 = s5\n",
    "    z6 = jnp.sin(rho)\n",
    "    return jnp.array([z1, z2, z3, z4, z5, z6])\n",
    "\n",
    "\n",
    "def z_to_internal(z):\n",
    "    z1, z2, z3, z4, z5, z6 = z\n",
    "    r1 = z1 + q0[0]\n",
    "    r2 = z2 + q0[1]\n",
    "    r3 = z3 + q0[2]\n",
    "    s4 = z4\n",
    "    s5 = z5\n",
    "    rho = np.pi / 2 - acos(z6)  # asin(z6)\n",
    "    return jnp.array([r1, r2, r3, s4, s5, rho])\n",
    "\n",
    "\n",
    "z0 = internal_to_z(q0)"
   ]
  },
  {
   "cell_type": "code",
   "execution_count": 15,
   "id": "48a05bb6",
   "metadata": {},
   "outputs": [
    {
     "name": "stdout",
     "output_type": "stream",
     "text": [
      "Reference values of internal coordinates:\n",
      " [ 1.01159999e+00  1.01159999e+00  1.01159999e+00 -7.40384010e-09\n",
      " -7.51104812e-09  1.95651869e+00]\n",
      "Reference values of expansion y-coordinates:\n",
      " [ 0.00000000e+00  0.00000000e+00  0.00000000e+00 -7.40384010e-09\n",
      " -7.51104812e-09  9.26526900e-01]\n",
      "Reference values of expansion z-coordinates:\n",
      " [ 0.00000000e+00  0.00000000e+00  0.00000000e+00 -7.40384010e-09\n",
      " -7.51104812e-09  9.26526900e-01]\n",
      "Reference values of Cartesian coordinates:\n",
      " [[ 3.89532355e-10  3.92221069e-10  6.75834407e-02]\n",
      " [ 9.37274605e-01  3.92221069e-10 -3.13009332e-01]\n",
      " [-4.68637311e-01  8.11703613e-01 -3.13009332e-01]\n",
      " [-4.68637300e-01 -8.11703619e-01 -3.13009332e-01]]\n"
     ]
    }
   ],
   "source": [
    "xyz = internal_to_cartesian(q0)\n",
    "print(\"Reference values of internal coordinates:\\n\", q0)\n",
    "print(\"Reference values of expansion y-coordinates:\\n\", y0)\n",
    "print(\"Reference values of expansion z-coordinates:\\n\", z0)\n",
    "print(\"Reference values of Cartesian coordinates:\\n\", xyz)"
   ]
  },
  {
   "cell_type": "markdown",
   "id": "d51e3615",
   "metadata": {},
   "source": [
    "Generate expansion power indices"
   ]
  },
  {
   "cell_type": "code",
   "execution_count": 16,
   "id": "ca50197a",
   "metadata": {},
   "outputs": [
    {
     "name": "stdout",
     "output_type": "stream",
     "text": [
      "max expansion order: 6\n",
      "number of expansion terms: 924\n"
     ]
    }
   ],
   "source": [
    "max_order = 6  # max total expansion order\n",
    "deriv_ind = [\n",
    "    elem\n",
    "    for elem in itertools.product(*[range(0, max_order + 1) for _ in range(len(q0))])\n",
    "    if sum(elem) <= max_order\n",
    "]\n",
    "print(\"max expansion order:\", max_order)\n",
    "print(\"number of expansion terms:\", len(deriv_ind))"
   ]
  },
  {
   "cell_type": "markdown",
   "id": "3872b10d",
   "metadata": {},
   "source": [
    "Generate expansion of PES in terms of internal coordinates"
   ]
  },
  {
   "cell_type": "code",
   "execution_count": 17,
   "id": "8cf54dac",
   "metadata": {},
   "outputs": [
    {
     "name": "stdout",
     "output_type": "stream",
     "text": [
      "load potential expansion coefs from file nh3_poten_coefs_6.npy\n"
     ]
    }
   ],
   "source": [
    "@jax.jit\n",
    "def poten(q):\n",
    "    r1, r2, r3, s4, s5, rho = q\n",
    "    delta = rho - jnp.pi / 2\n",
    "    alpha1, alpha2, alpha3 = find_alpha_from_s_delta(s4, s5, delta)\n",
    "    v = nh3_POK.poten((r1, r2, r3, alpha1, alpha2, alpha3))\n",
    "    return v\n",
    "\n",
    "\n",
    "poten_file = f\"nh3_poten_coefs_{max_order}.npy\"\n",
    "if os.path.exists(poten_file):\n",
    "    print(f\"load potential expansion coefs from file {poten_file}\")\n",
    "    poten_coefs = np.load(poten_file)\n",
    "else:\n",
    "    poten_coefs = deriv_list(poten, deriv_ind, q0, if_taylor=True)\n",
    "    np.save(poten_file, poten_coefs)"
   ]
  },
  {
   "cell_type": "markdown",
   "id": "0564b0b2",
   "metadata": {},
   "source": [
    "Generate expansion of PES in terms of $y$-coordinates"
   ]
  },
  {
   "cell_type": "code",
   "execution_count": 18,
   "id": "3dd38353",
   "metadata": {},
   "outputs": [
    {
     "name": "stdout",
     "output_type": "stream",
     "text": [
      "load potential expansion coefs from file nh3_poten_in_y_coefs_6.npy\n"
     ]
    }
   ],
   "source": [
    "@jax.jit\n",
    "def poten_in_y(y):\n",
    "    q = y_to_internal(y)\n",
    "    r1, r2, r3, s4, s5, rho = q\n",
    "    delta = rho - jnp.pi / 2\n",
    "    alpha1, alpha2, alpha3 = find_alpha_from_s_delta(s4, s5, delta)\n",
    "    v = nh3_POK.poten((r1, r2, r3, alpha1, alpha2, alpha3))\n",
    "    return v\n",
    "\n",
    "\n",
    "poten_file = f\"nh3_poten_in_y_coefs_{max_order}.npy\"\n",
    "if os.path.exists(poten_file):\n",
    "    print(f\"load potential expansion coefs from file {poten_file}\")\n",
    "    poten_in_y_coefs = np.load(poten_file)\n",
    "else:\n",
    "    poten_in_y_coefs = deriv_list(poten_in_y, deriv_ind, y0, if_taylor=True)\n",
    "    np.save(poten_file, poten_in_y_coefs)"
   ]
  },
  {
   "cell_type": "markdown",
   "id": "02bc0f9c",
   "metadata": {},
   "source": [
    "Generate expansion of KEO in terms of internal coordinates"
   ]
  },
  {
   "cell_type": "code",
   "execution_count": 9,
   "id": "502234bb",
   "metadata": {},
   "outputs": [
    {
     "name": "stdout",
     "output_type": "stream",
     "text": [
      "max expansion order: 4\n",
      "number of expansion terms: 210\n",
      "load G-matrix expansion coefs from file nh3_gmat_coefs_4.npy\n"
     ]
    }
   ],
   "source": [
    "max_order = 4  # max total expansion order\n",
    "deriv_ind = [\n",
    "    elem\n",
    "    for elem in itertools.product(*[range(0, max_order + 1) for _ in range(len(q0))])\n",
    "    if sum(elem) <= max_order\n",
    "]\n",
    "print(\"max expansion order:\", max_order)\n",
    "print(\"number of expansion terms:\", len(deriv_ind))\n",
    "\n",
    "gmat_file = f\"nh3_gmat_coefs_{max_order}.npy\"\n",
    "if os.path.exists(gmat_file):\n",
    "    print(f\"load G-matrix expansion coefs from file {gmat_file}\")\n",
    "    gmat_coefs = np.load(gmat_file)\n",
    "else:\n",
    "    gmat_coefs = deriv_list(\n",
    "        lambda x: Gmat(x, masses, internal_to_cartesian), deriv_ind, q0, if_taylor=True\n",
    "    )\n",
    "    np.save(gmat_file, gmat_coefs)"
   ]
  },
  {
   "cell_type": "markdown",
   "id": "970cfcab",
   "metadata": {},
   "source": [
    "Generate expansion of KEO in terms of $z$-coordinates"
   ]
  },
  {
   "cell_type": "code",
   "execution_count": null,
   "id": "c44b8cab",
   "metadata": {},
   "outputs": [
    {
     "name": "stdout",
     "output_type": "stream",
     "text": [
      "load G-matrix expansion coefs from file nh3_gmat_in_z_coefs_4.npy\n"
     ]
    }
   ],
   "source": [
    "gmat_file = f\"nh3_gmat_in_z_coefs_{max_order}.npy\"\n",
    "if os.path.exists(gmat_file):\n",
    "    print(f\"load G-matrix expansion coefs from file {gmat_file}\")\n",
    "    gmat_in_z_coefs = np.load(gmat_file)\n",
    "else:\n",
    "    gmat_in_z_coefs = deriv_list(\n",
    "        lambda z: Gmat(z_to_internal(z), masses, internal_to_cartesian),\n",
    "        deriv_ind,\n",
    "        z0,\n",
    "        if_taylor=True,\n",
    "    )\n",
    "    np.save(gmat_file, gmat_in_z_coefs)"
   ]
  },
  {
   "cell_type": "code",
   "execution_count": 12,
   "id": "84527c82",
   "metadata": {},
   "outputs": [
    {
     "data": {
      "image/png": "[encoded data removed]",
      "text/plain": [
       "<Figure size 640x480 with 1 Axes>"
      ]
     },
     "metadata": {},
     "output_type": "display_data"
    }
   ],
   "source": [
    "poten_taylor = jax.vmap(\n",
    "    lambda q: jnp.sum(\n",
    "        poten_coefs * jnp.prod((q - q0)[None, :] ** jnp.array(deriv_ind), axis=-1)\n",
    "    ),\n",
    "    in_axes=0,\n",
    ")\n",
    "\n",
    "poten_in_y_taylor = jax.vmap(\n",
    "    lambda q: jnp.sum(\n",
    "        poten_in_y_coefs\n",
    "        * jnp.prod((internal_to_y(q) - y0)[None, :] ** jnp.array(deriv_ind), axis=-1)\n",
    "    ),\n",
    "    in_axes=0,\n",
    ")\n",
    "\n",
    "rho = np.linspace(40 * np.pi / 180, 140 * np.pi / 180, 100)\n",
    "q = np.ones((len(rho), 6)) * np.array(q0)[None, :]\n",
    "q[:, -1] = rho\n",
    "\n",
    "v0 = jax.vmap(poten, in_axes=0)(q)\n",
    "v_taylor = poten_taylor(q)\n",
    "v_in_y_taylor = poten_in_y_taylor(q)\n",
    "\n",
    "plt.plot(rho, v0, \"--\")\n",
    "plt.plot(rho, v_taylor, \"r\")\n",
    "plt.plot(rho, v_in_y_taylor, \"b\")\n",
    "plt.ylim([0,20000])\n",
    "plt.show()"
   ]
  },
  {
   "cell_type": "code",
   "execution_count": null,
   "id": "3e658544",
   "metadata": {},
   "outputs": [],
   "source": []
  }
 ],
 "metadata": {
  "kernelspec": {
   "display_name": "vibrojet",
   "language": "python",
   "name": "python3"
  },
  "language_info": {
   "codemirror_mode": {
    "name": "ipython",
    "version": 3
   },
   "file_extension": ".py",
   "mimetype": "text/x-python",
   "name": "python",
   "nbconvert_exporter": "python",
   "pygments_lexer": "ipython3",
   "version": "3.13.3"
  }
 },
 "nbformat": 4,
 "nbformat_minor": 5
}
