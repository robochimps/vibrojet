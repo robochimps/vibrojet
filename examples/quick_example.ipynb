{
 "cells": [
  {
   "cell_type": "code",
   "execution_count": 1,
   "id": "15e6601e",
   "metadata": {},
   "outputs": [
    {
     "name": "stdout",
     "output_type": "stream",
     "text": [
      "max expansion order: 4\n",
      "number of expansion terms: 35\n",
      "Time for d= 0 : 10.84 s\n",
      "Time for d= 1 : 0.02 s\n",
      "Time for d= 2 : 21.88 s\n",
      "Time for d= 3 : 39.31 s\n",
      "Time for d= 4 : 68.37 s\n"
     ]
    }
   ],
   "source": [
    "import itertools\n",
    "\n",
    "import jax\n",
    "import jax.numpy as jnp\n",
    "\n",
    "from vibrojet.eckart import eckart\n",
    "from vibrojet.keo import Gmat\n",
    "from vibrojet.taylor import deriv_list\n",
    "\n",
    "jax.config.update(\"jax_enable_x64\", True)\n",
    "\n",
    "# Masses of O, H, H atoms\n",
    "masses = [15.9994, 1.00782505, 1.00782505]\n",
    "\n",
    "# Equilibrium values of valence coordinates\n",
    "r1, r2, alpha = 0.958, 0.958, 1.824\n",
    "q0 = [r1, r2, alpha]\n",
    "\n",
    "# Valence-to-Cartesian coordinate transformation\n",
    "#   input: array of three valence coordinates\n",
    "#   output: array of shape (number of atoms, 3)\n",
    "#           containing Cartesian coordinates of atoms\n",
    "\n",
    "\n",
    "@eckart(q0, masses)\n",
    "def valence_to_cartesian(q):\n",
    "    r1, r2, a = q\n",
    "    return jnp.array(\n",
    "        [\n",
    "            [0.0, 0.0, 0.0],\n",
    "            [r1 * jnp.sin(a / 2), 0.0, r1 * jnp.cos(a / 2)],\n",
    "            [-r2 * jnp.sin(a / 2), 0.0, r2 * jnp.cos(a / 2)],\n",
    "        ]\n",
    "    )\n",
    "\n",
    "\n",
    "# Generate list of multi-indices specifying the integer exponents\n",
    "# for each coordinate in the Taylor series expansion\n",
    "\n",
    "max_order = 4  # max total expansion order\n",
    "deriv_ind = [\n",
    "    elem\n",
    "    for elem in itertools.product(*[range(0, max_order + 1) for _ in range(len(q0))])\n",
    "    if sum(elem) <= max_order\n",
    "]\n",
    "print(\"max expansion order:\", max_order)\n",
    "print(\"number of expansion terms:\", len(deriv_ind))\n",
    "\n",
    "# Function for computing kinetic G-matrix for given masses of atoms\n",
    "# and internal coordinates\n",
    "func = lambda x: Gmat(x, masses, valence_to_cartesian)\n",
    "\n",
    "# Compute Taylor series expansion coefficients\n",
    "Gmat_coefs = deriv_list(func, deriv_ind, q0, if_taylor=True)"
   ]
  }
 ],
 "metadata": {
  "kernelspec": {
   "display_name": "myenv",
   "language": "python",
   "name": "python3"
  },
  "language_info": {
   "codemirror_mode": {
    "name": "ipython",
    "version": 3
   },
   "file_extension": ".py",
   "mimetype": "text/x-python",
   "name": "python",
   "nbconvert_exporter": "python",
   "pygments_lexer": "ipython3",
   "version": "3.13.3"
  }
 },
 "nbformat": 4,
 "nbformat_minor": 5
}
