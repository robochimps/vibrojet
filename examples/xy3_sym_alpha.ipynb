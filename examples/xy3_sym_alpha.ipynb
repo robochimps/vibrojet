{
 "cells": [
  {
   "cell_type": "markdown",
   "id": "5edf2428",
   "metadata": {},
   "source": [
    "# Example of KEO Taylor series expansion for ammonia\n",
    "\n",
    "Here, we use the following internal coordinates\n",
    "\n",
    "1. $r_1$\n",
    "2. $r_2$\n",
    "3. $r_3$\n",
    "4. $s_4 = (2\\alpha_{23}-\\alpha_{13}-\\alpha_{12})/\\sqrt{6}$\n",
    "5. $s_5 = (\\alpha_{13}-\\alpha_{12})/\\sqrt{2}$\n",
    "6. $\\rho$\n",
    "\n",
    "where $r_i\\equiv\\text{N-H}_i$, $\\alpha_{ij}\\equiv\\text{H}_i\\text{-C-H}_j$, and $\\rho$ is an 'umbrella' angle $[0,\\pi]$.\n",
    "\n",
    "We will build expansion of the potential energy surface (PES) in terms of the following 1D functions of internal coordinates:\n",
    "\n",
    "- $y_1=1-\\exp(-a_m(r_1-r_1^{(eq)}))$\n",
    "- $y_2=1-\\exp(-a_m(r_2-r_2^{(eq)}))$\n",
    "- $y_3=1-\\exp(-a_m(r_3-r_3^{(eq)}))$\n",
    "- $y_4=s_4$\n",
    "- $y_5=s_5$\n",
    "- $y_6=\\cos(\\rho)$\n",
    "\n",
    "For expansion of the kinetic energy operator (KEO), we use the following 1D functions of internal coordinates:\n",
    "\n",
    "- $z_1=r_1-r_1^{(eq)}$\n",
    "- $z_2=r_2-r_2^{(eq)}$\n",
    "- $z_3=r_3-r_3^{(eq)}$\n",
    "- $z_4=s_4$\n",
    "- $z_5=s_5$\n",
    "- $z_6=\\cos(\\rho)$"
   ]
  },
  {
   "cell_type": "code",
   "execution_count": 1,
   "id": "b729e55e",
   "metadata": {},
   "outputs": [],
   "source": [
    "import itertools\n",
    "import os\n",
    "\n",
    "import jax\n",
    "import matplotlib.pyplot as plt\n",
    "import numpy as np\n",
    "from jax import config\n",
    "from jax import numpy as jnp\n",
    "\n",
    "from vibrojet.keo import Gmat, com, pseudo\n",
    "from vibrojet.potentials import nh3_POK\n",
    "from vibrojet.taylor import deriv_list\n",
    "from vibrojet.jet_prim import acos\n",
    "\n",
    "config.update(\"jax_enable_x64\", True)"
   ]
  },
  {
   "cell_type": "markdown",
   "id": "52f4ba65",
   "metadata": {},
   "source": [
    "Define a function `find_alpha_from_s_delta` to obtain three $\\alpha_{ij}$ valence angular coordinates from the two symmetrized $s_4$, $s_5$ and 'umbrella' angle $\\delta=\\rho-\\pi/2$ coordinates."
   ]
  },
  {
   "cell_type": "code",
   "execution_count": 2,
   "id": "9295f8db",
   "metadata": {},
   "outputs": [],
   "source": [
    "def find_alpha_from_s_delta(s4, s5, delta, no_iter: int = 20):\n",
    "\n",
    "    def calc_s_to_sin_delta(s6, s4, s5):\n",
    "        alpha1 = (jnp.sqrt(2) * s6 + 2.0 * s4) / jnp.sqrt(6)\n",
    "        alpha2 = (jnp.sqrt(2) * s6 - s4 + jnp.sqrt(3) * s5) / jnp.sqrt(6)\n",
    "        alpha3 = (jnp.sqrt(2) * s6 - s4 - jnp.sqrt(3) * s5) / jnp.sqrt(6)\n",
    "        tau_2 = (\n",
    "            1\n",
    "            - jnp.cos(alpha1) ** 2\n",
    "            - jnp.cos(alpha2) ** 2\n",
    "            - jnp.cos(alpha3) ** 2\n",
    "            + 2 * jnp.cos(alpha1) * jnp.cos(alpha2) * jnp.cos(alpha3)\n",
    "        )\n",
    "        norm_2 = (\n",
    "            jnp.sin(alpha3) ** 2\n",
    "            + jnp.sin(alpha2) ** 2\n",
    "            + jnp.sin(alpha1) ** 2\n",
    "            + 2 * jnp.cos(alpha3) * jnp.cos(alpha1)\n",
    "            - 2 * jnp.cos(alpha2)\n",
    "            + 2 * jnp.cos(alpha2) * jnp.cos(alpha3)\n",
    "            - 2 * jnp.cos(alpha1)\n",
    "            + 2 * jnp.cos(alpha2) * jnp.cos(alpha1)\n",
    "            - 2 * jnp.cos(alpha3)\n",
    "        )\n",
    "        return tau_2 / norm_2\n",
    "\n",
    "    # initial value for s6\n",
    "    alpha1 = 2 * jnp.pi / 3\n",
    "    s6 = alpha1 * jnp.sqrt(3)\n",
    "    sin_delta = jnp.sin(delta)\n",
    "\n",
    "    for _ in range(no_iter):\n",
    "        f = calc_s_to_sin_delta(s6, s4, s5)\n",
    "        eps = f - sin_delta**2\n",
    "        grad = jax.grad(calc_s_to_sin_delta)(s6, s4, s5)\n",
    "        dx = eps / grad\n",
    "        dx0 = dx\n",
    "        s6 = s6 - dx0\n",
    "\n",
    "    alpha1 = (jnp.sqrt(2) * s6 + 2 * s4) / jnp.sqrt(6)\n",
    "    alpha2 = (jnp.sqrt(2) * s6 - s4 + jnp.sqrt(3) * s5) / jnp.sqrt(6)\n",
    "    alpha3 = (jnp.sqrt(2) * s6 - s4 - jnp.sqrt(3) * s5) / jnp.sqrt(6)\n",
    "\n",
    "    return alpha1, alpha2, alpha3"
   ]
  },
  {
   "cell_type": "markdown",
   "id": "081da1fc",
   "metadata": {},
   "source": [
    "Define mapping from internal coordinates to Cartesian coordinates, to $y$-coordinates used for expansion of PES, and $z$-coordinates used for expansion of KEO."
   ]
  },
  {
   "cell_type": "code",
   "execution_count": 3,
   "id": "b4f906ec",
   "metadata": {},
   "outputs": [],
   "source": [
    "# masses of N, H1, H2, H3\n",
    "masses = [14.00307400, 1.007825035, 1.007825035, 1.007825035]\n",
    "\n",
    "# reference values of internal coordinates\n",
    "r_ref = 1.01031310  # in Angstrom\n",
    "rho_ref = np.pi / 2\n",
    "q0 = [r_ref, r_ref, r_ref, 0.0, 0.0, rho_ref]\n",
    "\n",
    "# Morse constant necessary for defining y-coordinates for stretches\n",
    "a_morse = 2.15\n",
    "\n",
    "\n",
    "@com(masses)\n",
    "def internal_to_cartesian(internal_coords):\n",
    "    r1, r2, r3, s4, s5, rho = internal_coords\n",
    "    delta = rho - jnp.pi / 2\n",
    "    alpha1, alpha2, alpha3 = find_alpha_from_s_delta(s4, s5, delta)\n",
    "\n",
    "    beta3 = jnp.acos((jnp.cos(alpha3) - jnp.cos(rho) ** 2) / jnp.sin(rho) ** 2)\n",
    "    beta2 = jnp.acos((jnp.cos(alpha2) - jnp.cos(rho) ** 2) / jnp.sin(rho) ** 2)\n",
    "    cartesian = jnp.array(\n",
    "        [\n",
    "            [0.0, 0.0, 0.0],\n",
    "            [r1 * jnp.sin(rho), 0.0, r1 * jnp.cos(rho)],\n",
    "            [\n",
    "                r2 * jnp.sin(rho) * jnp.cos(beta3),\n",
    "                r2 * jnp.sin(rho) * jnp.sin(beta3),\n",
    "                r2 * jnp.cos(rho),\n",
    "            ],\n",
    "            [\n",
    "                r3 * jnp.sin(rho) * jnp.cos(beta2),\n",
    "                -r3 * jnp.sin(rho) * jnp.sin(beta2),\n",
    "                r3 * jnp.cos(rho),\n",
    "            ],\n",
    "        ]\n",
    "    )\n",
    "    return cartesian\n",
    "\n",
    "\n",
    "def internal_to_y(q):\n",
    "    r1, r2, r3, s4, s5, rho = q\n",
    "    y1 = 1 - jnp.exp(-a_morse * (r1 - r_ref))\n",
    "    y2 = 1 - jnp.exp(-a_morse * (r2 - r_ref))\n",
    "    y3 = 1 - jnp.exp(-a_morse * (r3 - r_ref))\n",
    "    y4 = s4\n",
    "    y5 = s5\n",
    "    y6 = jnp.cos(rho)\n",
    "    return jnp.array([y1, y2, y3, y4, y5, y6])\n",
    "\n",
    "\n",
    "def y_to_internal(y):\n",
    "    y1, y2, y3, y4, y5, y6 = y\n",
    "    r1 = -jnp.log(1 - y1) / a_morse + r_ref\n",
    "    r2 = -jnp.log(1 - y2) / a_morse + r_ref\n",
    "    r3 = -jnp.log(1 - y3) / a_morse + r_ref\n",
    "    s4 = y4\n",
    "    s5 = y5\n",
    "    rho = acos(y6)\n",
    "    return jnp.array([r1, r2, r3, s4, s5, rho])\n",
    "\n",
    "\n",
    "y0 = internal_to_y(q0)"
   ]
  },
  {
   "cell_type": "code",
   "execution_count": 4,
   "id": "48a05bb6",
   "metadata": {},
   "outputs": [
    {
     "name": "stdout",
     "output_type": "stream",
     "text": [
      "Reference values of internal coordinates:\n",
      " [1.0103131, 1.0103131, 1.0103131, 0.0, 0.0, 1.5707963267948966]\n",
      "Reference values of expansion y-coordinates:\n",
      " [0.000000e+00 0.000000e+00 0.000000e+00 0.000000e+00 0.000000e+00\n",
      " 6.123234e-17]\n",
      "Reference values of Cartesian coordinates:\n",
      " [[ 2.85580222e-17  2.96388443e-19 -1.09854184e-17]\n",
      " [ 1.01031310e+00  2.96388443e-19  5.08784168e-17]\n",
      " [-5.05156550e-01  8.74956810e-01  5.08784168e-17]\n",
      " [-5.05156550e-01 -8.74956810e-01  5.08784168e-17]]\n"
     ]
    }
   ],
   "source": [
    "xyz = internal_to_cartesian(q0)\n",
    "print(\"Reference values of internal coordinates:\\n\", q0)\n",
    "print(\"Reference values of expansion y-coordinates:\\n\", y0)\n",
    "print(\"Reference values of Cartesian coordinates:\\n\", xyz)"
   ]
  },
  {
   "cell_type": "markdown",
   "id": "d51e3615",
   "metadata": {},
   "source": [
    "Generate expansion power indices"
   ]
  },
  {
   "cell_type": "code",
   "execution_count": 5,
   "id": "ca50197a",
   "metadata": {},
   "outputs": [
    {
     "name": "stdout",
     "output_type": "stream",
     "text": [
      "max expansion order: 6\n",
      "number of expansion terms: 924\n"
     ]
    }
   ],
   "source": [
    "max_order = 6  # max total expansion order\n",
    "deriv_ind = [\n",
    "    elem\n",
    "    for elem in itertools.product(*[range(0, max_order + 1) for _ in range(len(q0))])\n",
    "    if sum(elem) <= max_order\n",
    "]\n",
    "print(\"max expansion order:\", max_order)\n",
    "print(\"number of expansion terms:\", len(deriv_ind))"
   ]
  },
  {
   "cell_type": "markdown",
   "id": "3872b10d",
   "metadata": {},
   "source": [
    "Generate expansion of PES in terms of $y$-coordinates"
   ]
  },
  {
   "cell_type": "code",
   "execution_count": 8,
   "id": "8cf54dac",
   "metadata": {},
   "outputs": [
    {
     "name": "stdout",
     "output_type": "stream",
     "text": [
      "load potential expansion coefs from file _nh3_poten_coefs_6.npy\n"
     ]
    }
   ],
   "source": [
    "@jax.jit\n",
    "def poten_in_y(y):\n",
    "    q = y_to_internal(y)\n",
    "    r1, r2, r3, s4, s5, rho = q\n",
    "    delta = rho - jnp.pi / 2\n",
    "    alpha1, alpha2, alpha3 = find_alpha_from_s_delta(s4, s5, delta)\n",
    "    v = nh3_POK.poten((r1, r2, r3, alpha1, alpha2, alpha3))\n",
    "    return v\n",
    "\n",
    "poten_file = f\"_nh3_poten_coefs_{max_order}.npy\"\n",
    "if os.path.exists(poten_file):\n",
    "    print(f\"load potential expansion coefs from file {poten_file}\")\n",
    "    poten_coefs = np.load(poten_file)\n",
    "else:\n",
    "    poten_coefs = deriv_list(poten_in_y, deriv_ind, y0, if_taylor=True)\n",
    "    np.save(poten_file, poten_coefs)"
   ]
  },
  {
   "cell_type": "markdown",
   "id": "970cfcab",
   "metadata": {},
   "source": [
    "Generate expansion of KEO in terms of $z$-coordinates"
   ]
  },
  {
   "cell_type": "code",
   "execution_count": null,
   "id": "c44b8cab",
   "metadata": {},
   "outputs": [],
   "source": []
  },
  {
   "cell_type": "markdown",
   "id": "04843f38",
   "metadata": {},
   "source": [
    "Test if the original potential `nh3_POK.poten` at planar equilibrium configuration has the same value as the zero-order expansion coefficient in `poten_coefs`"
   ]
  },
  {
   "cell_type": "code",
   "execution_count": 9,
   "id": "2ea3f4e1",
   "metadata": {},
   "outputs": [
    {
     "name": "stdout",
     "output_type": "stream",
     "text": [
      "1930.469934890773 1930.4699348907843 -1.1368683772161603e-11\n"
     ]
    }
   ],
   "source": [
    "alpha_ref = 120 * np.pi / 180\n",
    "pot_planar = nh3_POK.poten((r_ref, r_ref, r_ref, alpha_ref, alpha_ref, alpha_ref))\n",
    "\n",
    "coef0 = poten_coefs[deriv_ind.index(tuple([0] * 6))]\n",
    "\n",
    "print(pot_planar, coef0, pot_planar - coef0)"
   ]
  },
  {
   "cell_type": "code",
   "execution_count": null,
   "id": "84527c82",
   "metadata": {},
   "outputs": [],
   "source": []
  }
 ],
 "metadata": {
  "kernelspec": {
   "display_name": "myenv",
   "language": "python",
   "name": "python3"
  },
  "language_info": {
   "codemirror_mode": {
    "name": "ipython",
    "version": 3
   },
   "file_extension": ".py",
   "mimetype": "text/x-python",
   "name": "python",
   "nbconvert_exporter": "python",
   "pygments_lexer": "ipython3",
   "version": "3.13.3"
  }
 },
 "nbformat": 4,
 "nbformat_minor": 5
}
