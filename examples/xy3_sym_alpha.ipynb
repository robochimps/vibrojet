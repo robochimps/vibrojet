{
 "cells": [
  {
   "cell_type": "markdown",
   "id": "5edf2428",
   "metadata": {},
   "source": [
    "# Example of KEO Taylor series expansion for ammonia\n",
    "\n",
    "Here we use the following internal coordinates\n",
    "\n",
    "1. $r_1$\n",
    "2. $r_2$\n",
    "3. $r_3$\n",
    "4. $s_4 = (2\\alpha_{23}-\\alpha_{13}-\\alpha_{12})/\\sqrt{6}$\n",
    "5. $s_5 = (\\alpha_{13}-\\alpha_{12})/\\sqrt{2}$\n",
    "6. $\\tau$\n",
    "\n",
    "where $r_i\\equiv\\text{N-H}_i$, $\\alpha_{ij}\\equiv\\text{H}_i\\text{-C-H}_j$, and $\\tau$ is an 'umbrella' angle measured from the planar configuration."
   ]
  },
  {
   "cell_type": "code",
   "execution_count": 1,
   "id": "b729e55e",
   "metadata": {},
   "outputs": [],
   "source": [
    "import itertools\n",
    "\n",
    "import jax\n",
    "import matplotlib.pyplot as plt\n",
    "import numpy as np\n",
    "from jax import config\n",
    "from jax import numpy as jnp\n",
    "\n",
    "from vibrojet.keo import Gmat, com, pseudo\n",
    "from vibrojet.potentials import nh3_POK\n",
    "from vibrojet.taylor import deriv_list\n",
    "\n",
    "config.update(\"jax_enable_x64\", True)"
   ]
  },
  {
   "cell_type": "markdown",
   "id": "52f4ba65",
   "metadata": {},
   "source": [
    "Define a function `find_alpha_from_s_delta` to obtain three $\\alpha_{ij}$ valence angular coordinates from the two symmetrized $s_4$, $s_5$ and 'umbrella' angle $\\tau$ coordinates, defined above"
   ]
  },
  {
   "cell_type": "code",
   "execution_count": 2,
   "id": "9295f8db",
   "metadata": {},
   "outputs": [],
   "source": [
    "def find_alpha_from_s_delta(s4, s5, delta, no_iter: int = 20):\n",
    "\n",
    "    def calc_s_to_sin_delta(s6, s4, s5):\n",
    "        alpha1 = (jnp.sqrt(2) * s6 + 2.0 * s4) / jnp.sqrt(6)\n",
    "        alpha2 = (jnp.sqrt(2) * s6 - s4 + jnp.sqrt(3) * s5) / jnp.sqrt(6)\n",
    "        alpha3 = (jnp.sqrt(2) * s6 - s4 - jnp.sqrt(3) * s5) / jnp.sqrt(6)\n",
    "        tau_2 = (\n",
    "            1\n",
    "            - jnp.cos(alpha1) ** 2\n",
    "            - jnp.cos(alpha2) ** 2\n",
    "            - jnp.cos(alpha3) ** 2\n",
    "            + 2 * jnp.cos(alpha1) * jnp.cos(alpha2) * jnp.cos(alpha3)\n",
    "        )\n",
    "        norm_2 = (\n",
    "            jnp.sin(alpha3) ** 2\n",
    "            + jnp.sin(alpha2) ** 2\n",
    "            + jnp.sin(alpha1) ** 2\n",
    "            + 2 * jnp.cos(alpha3) * jnp.cos(alpha1)\n",
    "            - 2 * jnp.cos(alpha2)\n",
    "            + 2 * jnp.cos(alpha2) * jnp.cos(alpha3)\n",
    "            - 2 * jnp.cos(alpha1)\n",
    "            + 2 * jnp.cos(alpha2) * jnp.cos(alpha1)\n",
    "            - 2 * jnp.cos(alpha3)\n",
    "        )\n",
    "        return tau_2 / norm_2\n",
    "\n",
    "    # initial value for s6\n",
    "    alpha1 = 2 * jnp.pi / 3\n",
    "    s6 = alpha1 * jnp.sqrt(3)\n",
    "    sin_delta = jnp.sin(delta)\n",
    "\n",
    "    for _ in range(no_iter):\n",
    "        f = calc_s_to_sin_delta(s6, s4, s5)\n",
    "        eps = f - sin_delta**2\n",
    "        grad = jax.grad(calc_s_to_sin_delta)(s6, s4, s5)\n",
    "        dx = eps / grad\n",
    "        dx0 = dx\n",
    "        s6 = s6 - dx0\n",
    "\n",
    "    alpha1 = (jnp.sqrt(2) * s6 + 2 * s4) / jnp.sqrt(6)\n",
    "    alpha2 = (jnp.sqrt(2) * s6 - s4 + jnp.sqrt(3) * s5) / jnp.sqrt(6)\n",
    "    alpha3 = (jnp.sqrt(2) * s6 - s4 - jnp.sqrt(3) * s5) / jnp.sqrt(6)\n",
    "\n",
    "    return alpha1, alpha2, alpha3"
   ]
  },
  {
   "cell_type": "code",
   "execution_count": 3,
   "id": "b4f906ec",
   "metadata": {},
   "outputs": [],
   "source": [
    "masses = [\n",
    "    14.00307400,\n",
    "    1.007825035,\n",
    "    1.007825035,\n",
    "    1.007825035,\n",
    "]  # masses of N, H1, H2, H3\n",
    "\n",
    "# reference values of internal coordinates\n",
    "r_ref = 1.01031310\n",
    "rho_ref = 1.956454767\n",
    "tau_ref = 0  # rho_ref - np.pi / 2\n",
    "q0 = [r_ref, r_ref, r_ref, 0.0, 0.0, tau_ref]\n",
    "\n",
    "\n",
    "@com(masses)\n",
    "def internal_to_cartesian(internal_coords):\n",
    "    r1, r2, r3, s4, s5, delta = internal_coords\n",
    "    alpha1, alpha2, alpha3 = find_alpha_from_s_delta(s4, s5, delta)\n",
    "    rho = jnp.pi / 2 + delta\n",
    "\n",
    "    beta3 = jnp.acos((jnp.cos(alpha3) - jnp.cos(rho) ** 2) / jnp.sin(rho) ** 2)\n",
    "    beta2 = jnp.acos((jnp.cos(alpha2) - jnp.cos(rho) ** 2) / jnp.sin(rho) ** 2)\n",
    "    cartesian = jnp.array(\n",
    "        [\n",
    "            [0.0, 0.0, 0.0],\n",
    "            [r1 * jnp.sin(rho), 0.0, r1 * jnp.cos(rho)],\n",
    "            [\n",
    "                r2 * jnp.sin(rho) * jnp.cos(beta3),\n",
    "                r2 * jnp.sin(rho) * jnp.sin(beta3),\n",
    "                r2 * jnp.cos(rho),\n",
    "            ],\n",
    "            [\n",
    "                r3 * jnp.sin(rho) * jnp.cos(beta2),\n",
    "                -r3 * jnp.sin(rho) * jnp.sin(beta2),\n",
    "                r3 * jnp.cos(rho),\n",
    "            ],\n",
    "        ]\n",
    "    )\n",
    "    return cartesian"
   ]
  },
  {
   "cell_type": "code",
   "execution_count": 4,
   "id": "48a05bb6",
   "metadata": {},
   "outputs": [
    {
     "name": "stdout",
     "output_type": "stream",
     "text": [
      "Reference internal coordinates:\n",
      " [1.0103131, 1.0103131, 1.0103131, 0.0, 0.0, 0]\n",
      "Reference Cartesian coordinates:\n",
      " [[ 2.85580222e-17  2.96388443e-19 -1.09854184e-17]\n",
      " [ 1.01031310e+00  2.96388443e-19  5.08784168e-17]\n",
      " [-5.05156550e-01  8.74956810e-01  5.08784168e-17]\n",
      " [-5.05156550e-01 -8.74956810e-01  5.08784168e-17]]\n"
     ]
    }
   ],
   "source": [
    "xyz = internal_to_cartesian(q0)\n",
    "print(\"Reference internal coordinates:\\n\", q0)\n",
    "print(\"Reference Cartesian coordinates:\\n\", xyz)"
   ]
  },
  {
   "cell_type": "code",
   "execution_count": null,
   "id": "8cf54dac",
   "metadata": {},
   "outputs": [
    {
     "name": "stdout",
     "output_type": "stream",
     "text": [
      "max expansion order: 4\n",
      "number of expansion terms: 210\n"
     ]
    }
   ],
   "source": [
    "@jax.jit\n",
    "def poten(internal_coords):\n",
    "    r1, r2, r3, s4, s5, delta = internal_coords\n",
    "    alpha1, alpha2, alpha3 = find_alpha_from_s_delta(s4, s5, delta)\n",
    "    v = nh3_POK.poten((r1, r2, r3, alpha1, alpha2, alpha3))\n",
    "    return v\n",
    "\n",
    "batch_poten = jax.jit(jax.vmap(poten, in_axes=0))\n",
    "\n",
    "\n",
    "max_order = 4  # max total expansion order\n",
    "deriv_ind = [\n",
    "    elem\n",
    "    for elem in itertools.product(*[range(0, max_order + 1) for _ in range(len(q0))])\n",
    "    if sum(elem) <= max_order\n",
    "]\n",
    "print(\"max expansion order:\", max_order)\n",
    "print(\"number of expansion terms:\", len(deriv_ind))\n",
    "\n",
    "poten_coefs = deriv_list(poten, deriv_ind, q0, if_taylor=True)\n",
    "\n",
    "tau = np.linspace(-70/180*np.pi, 70/180*np.pi)\n",
    "q = np.ones((len(tau),6)) * np.array(q0)[None,:]\n",
    "q[:,-1] = tau\n",
    "v = batch_poten(q)\n",
    "print(v)"
   ]
  },
  {
   "cell_type": "code",
   "execution_count": null,
   "id": "143138c0",
   "metadata": {},
   "outputs": [
    {
     "data": {
      "text/plain": [
       "[<matplotlib.lines.Line2D at 0x1629db110>]"
      ]
     },
     "execution_count": 27,
     "metadata": {},
     "output_type": "execute_result"
    },
    {
     "data": {
      "image/png": "[encoded data removed]",
      "text/plain": [
       "<Figure size 640x480 with 1 Axes>"
      ]
     },
     "metadata": {},
     "output_type": "display_data"
    }
   ],
   "source": [
    "plt.plot(q[:,-1], v)\n",
    "# print(q.shape, v.shape)"
   ]
  },
  {
   "cell_type": "code",
   "execution_count": null,
   "id": "84527c82",
   "metadata": {},
   "outputs": [],
   "source": []
  }
 ],
 "metadata": {
  "kernelspec": {
   "display_name": "myenv",
   "language": "python",
   "name": "python3"
  },
  "language_info": {
   "codemirror_mode": {
    "name": "ipython",
    "version": 3
   },
   "file_extension": ".py",
   "mimetype": "text/x-python",
   "name": "python",
   "nbconvert_exporter": "python",
   "pygments_lexer": "ipython3",
   "version": "3.13.0"
  }
 },
 "nbformat": 4,
 "nbformat_minor": 5
}
