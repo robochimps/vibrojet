{
 "cells": [
  {
   "cell_type": "code",
   "execution_count": 1,
   "id": "7df6d27c-ef07-49b8-bf7a-d40c41d73bbc",
   "metadata": {},
   "outputs": [],
   "source": [
    "import sys\n",
    "sys.path.insert(1, '../')"
   ]
  },
  {
   "cell_type": "code",
   "execution_count": 2,
   "id": "b729e55e",
   "metadata": {},
   "outputs": [],
   "source": [
    "import itertools\n",
    "import os\n",
    "\n",
    "import jax\n",
    "import matplotlib.pyplot as plt\n",
    "import numpy as np\n",
    "import jax.numpy as jnp\n",
    "\n",
    "from jax import config\n",
    "from scipy import optimize\n",
    "\n",
    "from vibrojet.basis_utils2 import ContrBasis, HermiteBasis, AssociateLegendreBasis, FourierBasis, generate_prod_ind\n",
    "\n",
    "from vibrojet.jet_prim import acos\n",
    "from vibrojet.potentials import nh3_POK\n",
    "from vibrojet.taylor import deriv_list\n",
    "from vibrojet.keo import Gmat, com, pseudo\n",
    "\n",
    "plt.rcParams.update(\n",
    "    {\"text.usetex\": True, \"font.family\": \"serif\", \"font.serif\": [\"Computer Modern\"]}\n",
    ")\n",
    "\n",
    "config.update(\"jax_enable_x64\", True)"
   ]
  },
  {
   "cell_type": "code",
   "execution_count": 3,
   "id": "9295f8db",
   "metadata": {},
   "outputs": [
    {
     "name": "stdout",
     "output_type": "stream",
     "text": [
      "equilibrium coordinates: [1.01159999e+00 1.01159999e+00 1.01159999e+00 6.95693777e-09\n",
      " 2.12708155e-09 3.85722364e-01]\n",
      "min of the potential: 3.4875100712457326e-11\n"
     ]
    }
   ],
   "source": [
    "@jax.jit\n",
    "def poten(q):\n",
    "    r1, r2, r3, s4, s5, tau = q\n",
    "    rho = tau + np.pi / 2\n",
    "\n",
    "    beta1 = jnp.sqrt(6) / 3 * s4 + 2 * np.pi / 3\n",
    "    beta2 = -1 / jnp.sqrt(6) * s4 + 1 / jnp.sqrt(2) * s5 + 2 * np.pi / 3\n",
    "    beta3 = -1 / jnp.sqrt(6) * s4 - 1 / jnp.sqrt(2) * s5 + 2 * np.pi / 3\n",
    "\n",
    "    cosrho = jnp.cos(rho)\n",
    "    sinrho = jnp.sin(rho)\n",
    "    cosrho2 = cosrho * cosrho\n",
    "    sinrho2 = sinrho * sinrho\n",
    "\n",
    "    cosalpha2 = cosrho2 + sinrho2 * jnp.cos(beta2)\n",
    "    cosalpha3 = cosrho2 + sinrho2 * jnp.cos(beta3)\n",
    "    cosalpha1 = cosrho2 + sinrho2 * jnp.cos(beta2 + beta3)\n",
    "    alpha1 = acos(cosalpha1)\n",
    "    alpha2 = acos(cosalpha2)\n",
    "    alpha3 = acos(cosalpha3)\n",
    "    v = nh3_POK.poten((r1, r2, r3, alpha1, alpha2, alpha3))\n",
    "    return v\n",
    "\n",
    "\n",
    "vmin = optimize.minimize(poten, [1.1, 1.1, 1.1, 0.1, 0.1, 0.1])\n",
    "q0 = vmin.x\n",
    "v0 = vmin.fun\n",
    "\n",
    "print(\"equilibrium coordinates:\", q0)\n",
    "print(\"min of the potential:\", v0)"
   ]
  },
  {
   "cell_type": "markdown",
   "id": "9b302f41",
   "metadata": {},
   "source": [
    "Find equilibrium values of internal coordinates"
   ]
  },
  {
   "cell_type": "code",
   "execution_count": 13,
   "id": "712dbd86-e0b7-4e63-a209-81d33aa6e4dd",
   "metadata": {},
   "outputs": [
    {
     "name": "stdout",
     "output_type": "stream",
     "text": [
      "Reference values of internal coordinates:\n",
      " [1.01159999e+00 1.01159999e+00 1.01159999e+00 6.95693777e-09\n",
      " 2.12708155e-09 3.85722364e-01]\n"
     ]
    }
   ],
   "source": [
    "print(\"Reference values of internal coordinates:\\n\", q0)"
   ]
  },
  {
   "cell_type": "code",
   "execution_count": 14,
   "id": "b4f906ec",
   "metadata": {},
   "outputs": [],
   "source": [
    "# masses of N, H1, H2, H3\n",
    "masses = [14.00307400, 1.007825035, 1.007825035, 1.007825035]\n",
    "\n",
    "# internal-to-Cartesian coordinate transformation\n",
    "@com(masses)\n",
    "def internal_to_cartesian(internal_coords):\n",
    "    r1, r2, r3, s4, s5, tau = internal_coords\n",
    "    rho = tau + np.pi / 2\n",
    "\n",
    "    beta1 = jnp.sqrt(6) / 3 * s4 + 2 * np.pi / 3\n",
    "    beta2 = -1 / jnp.sqrt(6) * s4 + 1 / jnp.sqrt(2) * s5 + 2 * np.pi / 3\n",
    "    beta3 = -1 / jnp.sqrt(6) * s4 - 1 / jnp.sqrt(2) * s5 + 2 * np.pi / 3\n",
    "\n",
    "    cos_rho = jnp.cos(rho)\n",
    "    sin_rho = jnp.sin(rho)\n",
    "    cos_beta2 = jnp.cos(beta2)\n",
    "    cos_beta3 = jnp.cos(beta3)\n",
    "    sin_beta2 = jnp.sin(beta2)\n",
    "    sin_beta3 = jnp.sin(beta3)\n",
    "\n",
    "    xyz = jnp.array(\n",
    "        [\n",
    "            [0.0, 0.0, 0.0],\n",
    "            [r1 * sin_rho, 0.0, r1 * cos_rho],\n",
    "            [r2 * sin_rho * cos_beta3, r2 * sin_rho * sin_beta3, r2 * cos_rho],\n",
    "            [r3 * sin_rho * cos_beta2, -r3 * sin_rho * sin_beta2, r3 * cos_rho],\n",
    "        ]\n",
    "    )\n",
    "    return xyz"
   ]
  },
  {
   "cell_type": "code",
   "execution_count": 15,
   "id": "48a05bb6",
   "metadata": {},
   "outputs": [
    {
     "name": "stdout",
     "output_type": "stream",
     "text": [
      "Reference values of internal coordinates:\n",
      " [1.01159999e+00 1.01159999e+00 1.01159999e+00 6.95693777e-09\n",
      " 2.12708155e-09 3.85722364e-01]\n",
      "Reference values of Cartesian coordinates:\n",
      " [[-2.61354318e-10 -2.97060229e-10  6.75834408e-02]\n",
      " [ 9.37274605e-01 -2.97060229e-10 -3.13009332e-01]\n",
      " [-4.68637300e-01  8.11703622e-01 -3.13009333e-01]\n",
      " [-4.68637301e-01 -8.11703618e-01 -3.13009331e-01]]\n"
     ]
    }
   ],
   "source": [
    "xyz = internal_to_cartesian(q0)\n",
    "print(\"Reference values of internal coordinates:\\n\", q0)\n",
    "print(\"Reference values of Cartesian coordinates:\\n\", xyz)"
   ]
  },
  {
   "cell_type": "markdown",
   "id": "d51e3615",
   "metadata": {},
   "source": [
    "Generate expansion power indices"
   ]
  },
  {
   "cell_type": "code",
   "execution_count": 16,
   "id": "ca50197a",
   "metadata": {},
   "outputs": [
    {
     "name": "stdout",
     "output_type": "stream",
     "text": [
      "max expansion power: 2\n",
      "number of expansion terms: 28\n"
     ]
    }
   ],
   "source": [
    "ncoo = len(q0)\n",
    "max_order = 2\n",
    "powers = [np.arange(max_order + 1)] * ncoo\n",
    "deriv_ind, deriv_mind = next(\n",
    "    generate_prod_ind(powers, select=lambda ind: np.sum(ind) <= max_order)\n",
    ")\n",
    "\n",
    "print(\"max expansion power:\", max_order)\n",
    "print(\"number of expansion terms:\", len(deriv_ind))"
   ]
  },
  {
   "cell_type": "markdown",
   "id": "3872b10d",
   "metadata": {},
   "source": [
    "Generate expansion of PES in terms of internal coordinates"
   ]
  },
  {
   "cell_type": "code",
   "execution_count": 18,
   "id": "8cf54dac",
   "metadata": {},
   "outputs": [
    {
     "name": "stdout",
     "output_type": "stream",
     "text": [
      "load potential expansion coefs from file nh3_poten_coefs_2.npy\n"
     ]
    }
   ],
   "source": [
    "poten_file = f\"nh3_poten_coefs_{max_order}.npy\"\n",
    "if os.path.exists(poten_file):\n",
    "    print(f\"load potential expansion coefs from file {poten_file}\")\n",
    "    poten_coefs = np.load(poten_file)\n",
    "else:\n",
    "    print(f\"calculate potential expansion coefs and save to {poten_file}\")\n",
    "    poten_coefs = deriv_list(poten, deriv_ind, q0, if_taylor=True)\n",
    "    np.save(poten_file, poten_coefs)"
   ]
  },
  {
   "cell_type": "code",
   "execution_count": 19,
   "id": "502234bb",
   "metadata": {},
   "outputs": [
    {
     "name": "stdout",
     "output_type": "stream",
     "text": [
      "load G-matrix expansion coefs from file nh3_gmat_coefs_2.npy\n"
     ]
    }
   ],
   "source": [
    "gmat_file = f\"nh3_gmat_coefs_{max_order}.npy\"\n",
    "if os.path.exists(gmat_file):\n",
    "    print(f\"load G-matrix expansion coefs from file {gmat_file}\")\n",
    "    gmat_coefs = np.load(gmat_file)\n",
    "else:\n",
    "    print(f\"calculate G-matrix expansion coefs and save to {gmat_file}\")\n",
    "    gmat_coefs = deriv_list(\n",
    "        lambda x: Gmat(x, masses, internal_to_cartesian), deriv_ind, q0, if_taylor=True\n",
    "    )\n",
    "    np.save(gmat_file, gmat_coefs)\n"
   ]
  },
  {
   "cell_type": "code",
   "execution_count": 38,
   "id": "80d886a3-8fc8-4c0b-8582-20ef9c19ad1a",
   "metadata": {},
   "outputs": [
    {
     "name": "stdout",
     "output_type": "stream",
     "text": [
      "x->r linear mapping parameters 'a': [0.10007533 0.10007533 0.10007533 1.90985932 1.59154943 0.38197186]\n",
      "x->r linear mapping parameters 'b': [ 1.01159999  1.01159999  1.01159999 -2.5        -2.5        -1.2       ]\n"
     ]
    }
   ],
   "source": [
    "mask = deriv_ind != 0\n",
    "ind0 = np.where(mask.sum(axis=1) == 0)[0][0]\n",
    "mu = np.diag(gmat_coefs[ind0])[:ncoo]\n",
    "\n",
    "ind2 = np.array(\n",
    "    [\n",
    "        np.where((mask.sum(axis=1) == 1) & (deriv_ind[:, icoo] == 2))[0][0]\n",
    "        for icoo in range(ncoo)\n",
    "    ]\n",
    ")\n",
    "freq = poten_coefs[ind2] * 2\n",
    "\n",
    "lin_a = jnp.sqrt(jnp.sqrt(mu / freq))\n",
    "lin_b = q0\n",
    "\n",
    "list_herm = [0,1,2]\n",
    "list_leg = [3,4]\n",
    "list_fourier = [5]\n",
    "\n",
    "limits_r = [[0,jnp.inf],[0,jnp.inf],[0,jnp.inf],[-2.5,3.5],[-2.5,2.5],[-1.2,1.2]]\n",
    "\n",
    "lin_a = jnp.array([jnp.sqrt(jnp.sqrt(mu[i] / freq[i])) if i in list_herm\n",
    "                    else (limits_r[i][1]-limits_r[i][0])/np.pi if i in list_leg\n",
    "                    else (limits_r[i][1]-limits_r[i][0])/(2*np.pi)\n",
    "                    for i in range(ncoo)])\n",
    "\n",
    "lin_b = jnp.array([q0[i] if i in list_herm\n",
    "                    else limits_r[i][0] if i in list_leg\n",
    "                    else limits_r[i][0]\n",
    "                    for i in range(ncoo)])\n",
    "\n",
    "print(\"x->r linear mapping parameters 'a':\", lin_a)\n",
    "print(\"x->r linear mapping parameters 'b':\", lin_b)\n",
    "\n",
    "# x->r linear mapping function\n",
    "x_to_r_map = lambda x, icoo: lin_a[icoo] * x + lin_b[icoo]\n",
    "jac_x_to_r_map = lambda x, icoo: np.ones_like(x) * lin_a[icoo]\n",
    "\n",
    "#Functions for change of coordinates for Taylor expansion\n",
    "r_to_y_pes = lambda x, icoo: x - q0[icoo]\n",
    "r_to_y_gmat = lambda x, icoo: x - q0[icoo]\n",
    "\n"
   ]
  },
  {
   "cell_type": "code",
   "execution_count": 40,
   "id": "145d4c80-6f5a-4a8e-9183-16cac8073304",
   "metadata": {},
   "outputs": [],
   "source": [
    "nbas = [80] * ncoo\n",
    "npoints = [101] * ncoo\n",
    "\n",
    "p0, p1, p2, p3, p4, p5 = [\n",
    "    HermiteBasis(\n",
    "        icoo, nbas[icoo], npoints[icoo], lambda x, icoo=icoo: x_to_r_map(x, icoo),\n",
    "        lambda x, icoo=icoo: r_to_y_pes(x, icoo), lambda x, icoo=icoo: r_to_y_gmat(x, icoo),\n",
    "        q0[icoo], deriv_ind[:, icoo])\n",
    "    if icoo in list_herm else\n",
    "    AssociateLegendreBasis(\n",
    "        icoo, nbas[icoo], npoints[icoo], lambda x, icoo=icoo: x_to_r_map(x, icoo),\n",
    "        lambda x, icoo=icoo: r_to_y_pes(x, icoo), lambda x, icoo=icoo: r_to_y_gmat(x, icoo),\n",
    "        q0[icoo], deriv_ind[:, icoo], m=1)\n",
    "    if icoo in list_leg else\n",
    "    FourierBasis(\n",
    "        icoo, nbas[icoo], npoints[icoo], lambda x, icoo=icoo: x_to_r_map(x, icoo),\n",
    "        lambda x, icoo=icoo: r_to_y_pes(x, icoo), lambda x, icoo=icoo: r_to_y_gmat(x, icoo),\n",
    "        q0[icoo], deriv_ind[:, icoo])\n",
    "    for icoo in range(ncoo)\n",
    "]\n"
   ]
  },
  {
   "cell_type": "code",
   "execution_count": 41,
   "id": "e08e5fb2-5171-4ceb-9e87-d7cc0f9661b8",
   "metadata": {},
   "outputs": [
    {
     "name": "stdout",
     "output_type": "stream",
     "text": [
      "Number of states: 80\n",
      "batch no: 0  out of: 1\n",
      "iteration time: 0.33\n",
      "[ 1790.36106604  5371.0831981   8951.80533018 12532.52746224\n",
      " 16113.24959431 19693.97172638 23274.69385845 26855.41599052\n",
      " 30436.13812259 34016.86025466]\n",
      "Saving integrals...\n",
      "batch no: 0 out of: 1\n",
      "iteration time: 0.01\n",
      "Number of states: 80\n",
      "batch no: 0  out of: 1\n",
      "iteration time: 0.02\n",
      "[ 1790.36105196  5371.08315589  8951.80525982 12532.52736375\n",
      " 16113.24946767 19693.9715716  23274.69367553 26855.41577946\n",
      " 30436.13788338 34016.85998731]\n",
      "Saving integrals...\n",
      "batch no: 0 out of: 1\n",
      "iteration time: 0.01\n",
      "Number of states: 80\n",
      "batch no: 0  out of: 1\n",
      "iteration time: 0.03\n",
      "[ 1790.36107778  5371.08323334  8951.80538891 12532.52754447\n",
      " 16113.24970003 19693.9718556  23274.69401116 26855.41616672\n",
      " 30436.13832228 34016.86047785]\n",
      "Saving integrals...\n",
      "batch no: 0 out of: 1\n",
      "iteration time: 0.01\n",
      "Number of states: 80\n",
      "batch no: 0  out of: 1\n",
      "iteration time: 0.03\n",
      "[  842.59554806  2526.18181642  4210.94173487  5896.88108242\n",
      "  7584.00554605  9272.32072188 10961.83211624 12652.54514686\n",
      " 14344.46514394 16037.59735127]\n",
      "Saving integrals...\n",
      "batch no: 0 out of: 1\n",
      "iteration time: 0.01\n",
      "Number of states: 80\n",
      "batch no: 0  out of: 1\n",
      "iteration time: 0.03\n",
      "[  842.85074612  2527.45501551  4214.24311435  5903.21082069\n",
      "  7594.35393965  9287.66830319 10983.14976982 12680.79422429\n",
      " 14380.59757736 16082.5557655 ]\n",
      "Saving integrals...\n",
      "batch no: 0 out of: 1\n",
      "iteration time: 0.01\n",
      "Number of states: 80\n",
      "batch no: 0  out of: 1\n",
      "iteration time: 0.03\n",
      "[  545.01919633  1635.43944301  2724.9358882   3813.50697599\n",
      "  4901.15114078  5987.86680713  7073.65238968  8158.50629306\n",
      "  9242.42691174 10325.41262999]\n",
      "Saving integrals...\n",
      "batch no: 0 out of: 1\n",
      "iteration time: 0.01\n"
     ]
    }
   ],
   "source": [
    "sum_deriv_ind = np.sum(deriv_ind,axis=1)\n",
    "poten_coefs_1d = lambda icoo: np.array([poten_coefs[i] if deriv_ind[i,icoo]==sum_deriv_ind[i] else 0.0 for i in range(len(sum_deriv_ind))])\n",
    "gmat_coefs_1d = lambda icoo: np.array([gmat_coefs[i] if deriv_ind[i,icoo]==sum_deriv_ind[i] else np.zeros_like(gmat_coefs[i]) for i in range(len(sum_deriv_ind))])\n",
    "\n",
    "c0, c1, c2, c3, c4, c5 = [\n",
    "    ContrBasis(\n",
    "        (icoo,), (p0, p1, p2, p3, p4, p5), lambda _: True, gmat_coefs_1d(icoo), poten_coefs_1d(icoo), store_int = True,\n",
    "    )\n",
    "    for icoo in range(ncoo)\n",
    "]"
   ]
  },
  {
   "cell_type": "code",
   "execution_count": 46,
   "id": "4f36e3ae-49ed-472e-a256-ee00c664a01a",
   "metadata": {},
   "outputs": [
    {
     "name": "stdout",
     "output_type": "stream",
     "text": [
      "Number of states: 969\n",
      "batch no: 0  out of: 1\n",
      "iteration time: 1.86\n",
      "[ 6484.88743915  9980.66926004 10107.62978074 10108.0491876\n",
      " 13476.45108094 13603.41160164 13603.8310085  13730.37212234\n",
      " 13730.7915292  13731.21093606]\n",
      "Saving integrals...\n",
      "batch no: 0 out of: 1\n",
      "iteration time: 1.6\n",
      "6484.887439149066 [   0.         3495.7818209  3622.74234159 3623.16174845 6991.56364179]\n"
     ]
    }
   ],
   "source": [
    "# couple CH1 and CH2\n",
    "p_coefs = np.array([1, 1, 1, 1, 1, 1])\n",
    "pmax = 60\n",
    "emax_trunc_ = 60000\n",
    "\n",
    "e0,e1,e2,e3,e4,e5 = c0.enr,c1.enr,c2.enr,c3.enr,c4.enr,c5.enr\n",
    "e_sum = [e0 - e0[0],e1 - e1[0],e2 - e2[0],e3 - e3[0],e4 - e4[0],e5 - e5[0],]\n",
    "#Make energy truncation a part of basis generation for speed.\n",
    "f_e_sum = lambda ind: np.sum(np.array([e_sum[i][ind[i]] for i in range(len(ind))])) < emax_trunc_\n",
    "f_pmax = lambda ind: np.sum(np.array(ind) * p_coefs[:len(ind)]) <= pmax\n",
    "\n",
    "c012 = ContrBasis(\n",
    "    (0, 1, 2),\n",
    "    (c0, c1, c2, c3, c4, c5),\n",
    "    f_e_sum or f_pmax,\n",
    "    gmat_coefs,\n",
    "    poten_coefs,\n",
    "    emax=30000,\n",
    "    batch_size = 1000000,\n",
    "    store_int = True,\n",
    ")\n",
    "\n",
    "e012 = c012.enr\n",
    "print(e012[0], e012[0:5] - e012[0])"
   ]
  },
  {
   "cell_type": "code",
   "execution_count": 52,
   "id": "7bf717e4-7242-4fbb-90c7-e5c12b9ffed9",
   "metadata": {},
   "outputs": [
    {
     "name": "stdout",
     "output_type": "stream",
     "text": [
      "Number of states: 662\n",
      "batch no: 0  out of: 1\n",
      "iteration time: 0.49\n",
      "[4669.01333965 6381.29503916 6381.29504496 8087.6684551  8101.91140702\n",
      " 8101.91140704 9802.38996118 9802.38997276 9830.84209984 9830.89555738]\n",
      "Saving integrals...\n",
      "batch no: 0 out of: 1\n",
      "iteration time: 0.31\n",
      "4669.0133396497595 [   0.         1712.28169951 1712.28170531 3418.65511545 3432.89806737]\n"
     ]
    }
   ],
   "source": [
    "# couple CH1 and CH2\n",
    "p_coefs = np.array([1, 1, 1, 1, 1, 1])\n",
    "pmax = 60\n",
    "emax_trunc_ = 60000\n",
    "\n",
    "#Make energy truncation a part of basis generation for speed.\n",
    "f_e_sum = lambda ind: np.sum(np.array([e_sum[i][ind[i]] for i in range(len(ind))])) < emax_trunc_\n",
    "f_pmax = lambda ind: np.sum(np.array(ind) * p_coefs[:len(ind)]) <= pmax\n",
    "\n",
    "c34 = ContrBasis(\n",
    "    (3, 4),\n",
    "    (c0, c1, c2, c3, c4, c5),\n",
    "    f_e_sum or f_pmax,\n",
    "    gmat_coefs,\n",
    "    poten_coefs,\n",
    "    emax=30000,\n",
    "    batch_size = 1000000,\n",
    "    store_int = True,\n",
    ")\n",
    "\n",
    "e34 = c34.enr\n",
    "print(e34[0], e34[0:5] - e34[0])"
   ]
  },
  {
   "cell_type": "code",
   "execution_count": 53,
   "id": "77c9602b-f5cd-42e8-8296-3dd277a6a6cb",
   "metadata": {},
   "outputs": [
    {
     "name": "stdout",
     "output_type": "stream",
     "text": [
      "e012 6484.887439149066 [   0.         3495.7818209  3622.74234159 3623.16174845 6991.56364179]\n",
      "e34 4669.0133396497595 [   0.         1712.28169951 1712.28170531 3418.65511545 3432.89806737]\n",
      "e5 545.0191963303099 [   0.         1090.42024668 2179.91669187 3268.48777966 4356.13194445]\n"
     ]
    }
   ],
   "source": [
    "e5 = c5.enr\n",
    "\n",
    "print('e012',e012[0], e012[0:5] - e012[0])\n",
    "print('e34',e34[0], e34[0:5] - e34[0])\n",
    "print('e5',e5[0], e5[0:5] - e5[0])"
   ]
  },
  {
   "cell_type": "code",
   "execution_count": 56,
   "id": "e259ae3c-7509-46ab-9326-ca30ac51825f",
   "metadata": {},
   "outputs": [
    {
     "name": "stdout",
     "output_type": "stream",
     "text": [
      "Number of states: 229\n",
      "batch no: 0  out of: 1\n",
      "iteration time: 0.6\n",
      "[ 7579.96128534  8662.02853184  9266.51697334  9266.51838097\n",
      "  9740.51039791 10371.45781481 10371.4611865  10820.651369\n",
      " 10905.12238972 10947.97052226]\n",
      "7579.961285336338 [   0.         1082.0672465  1686.555688   1686.55709563 2160.54911258\n",
      " 2791.49652948 2791.49990117 3240.69008366 3325.16110439 3368.00923692\n",
      " 3368.01105746 3537.40217788 3635.34846431 3635.34984348 3898.59015068\n",
      " 3898.59328554 4323.29137193 4459.81229012 4506.09748471 4506.09853061]\n"
     ]
    }
   ],
   "source": [
    "# couple all together\n",
    "p_coefs = np.array([1, 1, 1])\n",
    "pmax = 300\n",
    "emax_trunc_ = 10000\n",
    "e_sum = [e012 - e012[0],e34 - e34[0],e5 - e5[0]]\n",
    "#Make energy truncation a part of basis generation for speed.\n",
    "f_e_sum = lambda ind: np.sum(np.array([e_sum[i][ind[i]] for i in range(len(ind))])) < emax_trunc_\n",
    "f_pmax = lambda ind: np.sum(np.array(ind) * p_coefs[:len(ind)]) <= pmax\n",
    "c = ContrBasis(\n",
    "    (0, 1, 2),\n",
    "    (c012, c34, c5),\n",
    "    f_e_sum or f_pmax,\n",
    "    gmat_coefs,\n",
    "    poten_coefs,\n",
    "    store_int = False,\n",
    "    emax=30000,\n",
    "    batch_size = 100000,\n",
    ")\n",
    "e = c.enr\n",
    "print(e[0], e[0:20] - e[0])\n"
   ]
  },
  {
   "cell_type": "code",
   "execution_count": null,
   "id": "6067a098-4a17-4ff2-8c96-8b5aebf5909e",
   "metadata": {},
   "outputs": [],
   "source": [
    "# x = np.linspace(-np.pi,5,1000)\n",
    "# q = np.ones(len(x))[:,None]*q0\n",
    "# q[:,3] = x\n",
    "# v = poten(q.T)\n",
    "\n",
    "# plt.plot(x,v)\n",
    "# plt.ylim([0,50000])\n",
    "# plt.xlim([-2.5,3.5])\n",
    "\n",
    "# limits_r = [[0,jnp.inf],[0,jnp.inf],[0,jnp.inf],[-2.5,3.5],[-2.5,2.5],[-1.2,1.2]]"
   ]
  }
 ],
 "metadata": {
  "kernelspec": {
   "display_name": "py313",
   "language": "python",
   "name": "py313"
  },
  "language_info": {
   "codemirror_mode": {
    "name": "ipython",
    "version": 3
   },
   "file_extension": ".py",
   "mimetype": "text/x-python",
   "name": "python",
   "nbconvert_exporter": "python",
   "pygments_lexer": "ipython3",
   "version": "3.13.3"
  }
 },
 "nbformat": 4,
 "nbformat_minor": 5
}
