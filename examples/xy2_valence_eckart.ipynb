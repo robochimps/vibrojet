{
 "cells": [
  {
   "cell_type": "markdown",
   "metadata": {},
   "source": [
    "# Taylor series expansion of the rovibrational kinetic energy operator for a triatomic molecule using the Eckart frame\n",
    "\n",
    "In this example, we compute Taylor series expansion coefficients for the rovibrational kinetic energy $G$-matrix and pseudopotential of a triatomic molecule (water) in terms of valence coordinates, in the molecular frame defined by the Eckart conditions."
   ]
  },
  {
   "cell_type": "code",
   "execution_count": 1,
   "metadata": {},
   "outputs": [],
   "source": [
    "import itertools\n",
    "\n",
    "import jax\n",
    "import jax.numpy as jnp\n",
    "import numpy as np\n",
    "from scipy.special import factorial\n",
    "\n",
    "from vibrojet.eckart import eckart, EckartMethod\n",
    "from vibrojet.keo import Gmat, batch_Gmat, batch_pseudo, pseudo\n",
    "from vibrojet.taylor import deriv_list\n",
    "\n",
    "jax.config.update(\"jax_enable_x64\", True)"
   ]
  },
  {
   "cell_type": "markdown",
   "metadata": {},
   "source": [
    "Use Taylor-mode automatic differentiation to compute expansion of $G$-matrix."
   ]
  },
  {
   "cell_type": "code",
   "execution_count": 2,
   "metadata": {},
   "outputs": [
    {
     "name": "stdout",
     "output_type": "stream",
     "text": [
      "max expansion order: 4\n",
      "number of expansion terms: 35\n",
      "Time for d= 0 : 3.14 s\n",
      "Time for d= 1 : 0.02 s\n",
      "Time for d= 2 : 5.82 s\n",
      "Time for d= 3 : 10.01 s\n",
      "Time for d= 4 : 15.83 s\n",
      "(35, 9, 9)\n"
     ]
    }
   ],
   "source": [
    "# Masses of O, H, H atoms\n",
    "masses = np.array([15.9994, 1.00782505, 1.00782505])\n",
    "\n",
    "# Equilibrium values of valence coordinates\n",
    "r1, r2, alpha = 0.958, 0.958, 1.824\n",
    "q0 = jnp.array([r1, r2, alpha], dtype=jnp.float64)\n",
    "\n",
    "\n",
    "# Valence-to-Cartesian coordinate transformation\n",
    "#   input: array of three valence coordinates\n",
    "#   output: array of shape (number of atoms, 3) containing Cartesian coordinates of atoms\n",
    "# `eckart` rotates coordinates to the Eckart frame\n",
    "@eckart(q0, masses, method=EckartMethod.quaternion)\n",
    "def valence_to_cartesian(q):\n",
    "    r1, r2, a = q\n",
    "    return jnp.array(\n",
    "        [\n",
    "            [0.0, 0.0, 0.0],\n",
    "            [r1 * jnp.sin(a / 2), 0.0, r1 * jnp.cos(a / 2)],\n",
    "            [-r2 * jnp.sin(a / 2), 0.0, r2 * jnp.cos(a / 2)],\n",
    "        ]\n",
    "    )\n",
    "\n",
    "\n",
    "# Generate list of multi-indices specifying the integer exponents for each\n",
    "# coordinate in the Taylor series expansion\n",
    "max_order = 4  # max total expansion order\n",
    "deriv_ind = [\n",
    "    elem\n",
    "    for elem in itertools.product(*[range(0, max_order + 1) for _ in range(len(q0))])\n",
    "    if sum(elem) <= max_order\n",
    "]\n",
    "print(\"max expansion order:\", max_order)\n",
    "print(\"number of expansion terms:\", len(deriv_ind))\n",
    "\n",
    "# Function for computing kinetic G-matrix for given masses of atoms\n",
    "# and internal coordinates\n",
    "func = lambda x: Gmat(x, masses, valence_to_cartesian)\n",
    "\n",
    "# Compute Taylor series expansion coefficients\n",
    "Gmat_coefs = deriv_list(func, deriv_ind, q0, if_taylor=True)\n",
    "\n",
    "print(Gmat_coefs.shape)  # (number of expansion terms, ncoo+3+3, ncoo+3+3)"
   ]
  },
  {
   "cell_type": "markdown",
   "metadata": {},
   "source": [
    "Optionally, compare the results with computationally more intensive calculations using nested `jacfwd` calls."
   ]
  },
  {
   "cell_type": "code",
   "execution_count": 3,
   "metadata": {},
   "outputs": [
    {
     "name": "stdout",
     "output_type": "stream",
     "text": [
      "max difference for G-matrix: 5.737632591262809e-12\n"
     ]
    }
   ],
   "source": [
    "def jacfwd(x0, ind):\n",
    "    f = func\n",
    "    for _ in range(sum(ind)):\n",
    "        f = jax.jacfwd(f)\n",
    "    i = sum([(i,) * o for i, o in enumerate(ind)], start=tuple())\n",
    "    return f(x0)[:, :, *i]\n",
    "\n",
    "\n",
    "Gmat_coefs2 = np.array([jacfwd(q0, ind) / np.prod(factorial(ind)) for ind in deriv_ind])\n",
    "\n",
    "print(\"max difference for G-matrix:\", np.max(np.abs(Gmat_coefs - Gmat_coefs2)))"
   ]
  },
  {
   "cell_type": "markdown",
   "metadata": {},
   "source": [
    "Compute expansion of pseudopotential."
   ]
  },
  {
   "cell_type": "code",
   "execution_count": 4,
   "metadata": {},
   "outputs": [
    {
     "name": "stdout",
     "output_type": "stream",
     "text": [
      "max expansion order: 2\n",
      "number of expansion terms: 10\n",
      "Time for d= 0 : 49.73 s\n",
      "Time for d= 1 : 0.02 s\n",
      "Time for d= 2 : 105.22 s\n"
     ]
    }
   ],
   "source": [
    "max_order = 2  # max total expansion order\n",
    "deriv_ind = [\n",
    "    elem\n",
    "    for elem in itertools.product(*[range(0, max_order + 1) for _ in range(len(q0))])\n",
    "    if sum(elem) <= max_order\n",
    "]\n",
    "print(\"max expansion order:\", max_order)\n",
    "print(\"number of expansion terms:\", len(deriv_ind))\n",
    "\n",
    "func = lambda x: pseudo(x, masses, valence_to_cartesian)\n",
    "\n",
    "pseudo_coefs = deriv_list(func, deriv_ind, q0, if_taylor=True)"
   ]
  },
  {
   "cell_type": "markdown",
   "metadata": {},
   "source": [
    "Optionally, compare the results with calculations using nested `jacfwd` calls."
   ]
  },
  {
   "cell_type": "code",
   "execution_count": 5,
   "metadata": {},
   "outputs": [
    {
     "name": "stdout",
     "output_type": "stream",
     "text": [
      "max difference for pseudopotential: 1.3713474800169934e-12\n"
     ]
    }
   ],
   "source": [
    "def jacfwd(x0, ind):\n",
    "    f = func\n",
    "    for _ in range(sum(ind)):\n",
    "        f = jax.jacfwd(f)\n",
    "    i = sum([(i,) * o for i, o in enumerate(ind)], start=tuple())\n",
    "    return f(x0)[*i]\n",
    "\n",
    "\n",
    "pseudo_coefs2 = np.array(\n",
    "    [jacfwd(q0, ind) / np.prod(factorial(ind)) for ind in deriv_ind]\n",
    ")\n",
    "\n",
    "print(\n",
    "    \"max difference for pseudopotential:\", np.max(np.abs(pseudo_coefs - pseudo_coefs2))\n",
    ")"
   ]
  },
  {
   "cell_type": "markdown",
   "metadata": {},
   "source": [
    "Example of computing $G$-matrix and pseudopotential on a batch of coordinate values."
   ]
  },
  {
   "cell_type": "code",
   "execution_count": 6,
   "metadata": {},
   "outputs": [
    {
     "name": "stdout",
     "output_type": "stream",
     "text": [
      "(1000, 9, 9)\n",
      "(1000,)\n"
     ]
    }
   ],
   "source": [
    "# Generate grid of coordinates\n",
    "r1_arr = np.linspace(r1 - 0.5, r1 + 1, 10)\n",
    "r2_arr = np.linspace(r2 - 0.5, r2 + 1, 10)\n",
    "alpha_arr = np.linspace(alpha - 40 * np.pi / 180, alpha + 40 * np.pi / 180, 10)\n",
    "xa, xb, xc = np.meshgrid(r1_arr, r2_arr, alpha_arr, indexing=\"ij\")\n",
    "x = np.column_stack([xa.ravel(), xb.ravel(), xc.ravel()])\n",
    "\n",
    "Gmat_vals = batch_Gmat(x, masses, valence_to_cartesian)\n",
    "print(Gmat_vals.shape)  # (number of points, ncoo+3+3, ncoo+3+3)\n",
    "\n",
    "pseudo_vals = batch_pseudo(x, masses, valence_to_cartesian)\n",
    "print(pseudo_vals.shape)  # (number of points, )"
   ]
  }
 ],
 "metadata": {
  "kernelspec": {
   "display_name": "myenv",
   "language": "python",
   "name": "python3"
  },
  "language_info": {
   "codemirror_mode": {
    "name": "ipython",
    "version": 3
   },
   "file_extension": ".py",
   "mimetype": "text/x-python",
   "name": "python",
   "nbconvert_exporter": "python",
   "pygments_lexer": "ipython3",
   "version": "3.13.3"
  }
 },
 "nbformat": 4,
 "nbformat_minor": 2
}
