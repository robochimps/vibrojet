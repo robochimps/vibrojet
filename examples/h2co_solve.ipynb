{
 "cells": [
  {
   "cell_type": "code",
   "execution_count": 1,
   "id": "ce48a54e",
   "metadata": {},
   "outputs": [],
   "source": [
    "import itertools\n",
    "import os\n",
    "\n",
    "import jax\n",
    "import jax.numpy as jnp\n",
    "import numpy as np\n",
    "from numpy.polynomial.hermite import hermgauss\n",
    "\n",
    "from vibrojet.basis_utils import ContrBasis, HermiteBasis\n",
    "from vibrojet.keo import Gmat, com, pseudo\n",
    "from vibrojet.potentials import h2co_AYTY\n",
    "from vibrojet.taylor import deriv_list\n",
    "\n",
    "jax.config.update(\"jax_enable_x64\", True)"
   ]
  },
  {
   "cell_type": "markdown",
   "id": "ab333b0f",
   "metadata": {},
   "source": [
    "Equilibrium coordinates, around which the Taylor series expansions will be build"
   ]
  },
  {
   "cell_type": "code",
   "execution_count": 2,
   "id": "59171cc5",
   "metadata": {},
   "outputs": [],
   "source": [
    "r0 = np.array([1.20337419, 1.10377465, 1.10377465, 2.1265833, 2.1265833, np.pi])"
   ]
  },
  {
   "cell_type": "markdown",
   "id": "19c92c6e",
   "metadata": {},
   "source": [
    "Define internal to Cartesian coordinate transformation"
   ]
  },
  {
   "cell_type": "code",
   "execution_count": 3,
   "id": "9393262b",
   "metadata": {},
   "outputs": [],
   "source": [
    "masses = [12.0, 15.99491463, 1.00782505, 1.00782505]  # masses of C, O, H, H\n",
    "\n",
    "ncoo = len(r0)\n",
    "\n",
    "\n",
    "# @eckart(r0, masses)\n",
    "@com(masses)\n",
    "def internal_to_cartesian(internal_coords):\n",
    "    rCO, rCH1, rCH2, aOCH1, aOCH2, tau = internal_coords\n",
    "    xyz = [\n",
    "        [0.0, 0.0, 0.0],\n",
    "        [0.0, 0.0, rCO],\n",
    "        [\n",
    "            rCH1 * jnp.sin(aOCH1) * jnp.cos(tau * 0.5),\n",
    "            -rCH1 * jnp.sin(aOCH1) * jnp.sin(tau * 0.5),\n",
    "            rCH1 * jnp.cos(aOCH1),\n",
    "        ],\n",
    "        [\n",
    "            rCH2 * jnp.sin(aOCH2) * jnp.cos(tau * 0.5),\n",
    "            rCH2 * jnp.sin(aOCH2) * jnp.sin(tau * 0.5),\n",
    "            rCH2 * jnp.cos(aOCH2),\n",
    "        ],\n",
    "    ]\n",
    "    return jnp.array(xyz, dtype=jnp.float64)"
   ]
  },
  {
   "cell_type": "markdown",
   "id": "da2a4b51",
   "metadata": {},
   "source": [
    "Generate expansions for the KEO and PES"
   ]
  },
  {
   "cell_type": "code",
   "execution_count": 4,
   "id": "a957dd76",
   "metadata": {},
   "outputs": [
    {
     "name": "stdout",
     "output_type": "stream",
     "text": [
      "max expansion order for G-matrix: 4\n",
      "number of expansion terms in G-matrix: 210\n",
      "load G-matrix expansion coefs from file _h2co_gmat_coefs_4.npy (delete file to recompute coefficients)\n",
      "load pseudopotential expansion coefs from file _h2co_pseudo_coefs_4.npy (delete file to recompute coefficients)\n"
     ]
    }
   ],
   "source": [
    "gmat_max_order = 4  # max total expansion order\n",
    "\n",
    "gmat_terms = np.array(\n",
    "    [\n",
    "        elem\n",
    "        for elem in itertools.product(\n",
    "            *[range(0, gmat_max_order + 1) for _ in range(len(r0))]\n",
    "        )\n",
    "        if sum(elem) <= gmat_max_order\n",
    "    ]\n",
    ")\n",
    "pseudo_terms = gmat_terms\n",
    "print(\"max expansion order for G-matrix:\", gmat_max_order)\n",
    "print(\"number of expansion terms in G-matrix:\", len(gmat_terms))\n",
    "\n",
    "# expansion of G-matrix\n",
    "\n",
    "gmat_file = f\"_h2co_gmat_coefs_{gmat_max_order}.npy\"\n",
    "if os.path.exists(gmat_file):\n",
    "    print(\n",
    "        f\"load G-matrix expansion coefs from file {gmat_file} (delete file to recompute coefficients)\"\n",
    "    )\n",
    "    gmat_coefs = np.load(gmat_file)\n",
    "else:\n",
    "    gmat_coefs = deriv_list(\n",
    "        lambda x: Gmat(x, masses, internal_to_cartesian), gmat_terms, r0, if_taylor=True\n",
    "    )\n",
    "    np.save(gmat_file, gmat_coefs)\n",
    "\n",
    "# expansion of pseudopotential\n",
    "\n",
    "pseudo_file = f\"_h2co_pseudo_coefs_{gmat_max_order}.npy\"\n",
    "if os.path.exists(pseudo_file):\n",
    "    print(\n",
    "        f\"load pseudopotential expansion coefs from file {pseudo_file} (delete file to recompute coefficients)\"\n",
    "    )\n",
    "    pseudo_coefs = np.load(pseudo_file)\n",
    "else:\n",
    "    pseudo_coefs = deriv_list(\n",
    "        lambda x: pseudo(x, masses, internal_to_cartesian),\n",
    "        gmat_terms,\n",
    "        r0,\n",
    "        if_taylor=True,\n",
    "    )\n",
    "    np.save(pseudo_file, pseudo_coefs)"
   ]
  },
  {
   "cell_type": "code",
   "execution_count": 5,
   "id": "54538299",
   "metadata": {},
   "outputs": [
    {
     "name": "stdout",
     "output_type": "stream",
     "text": [
      "max expansion order for PES: 6\n",
      "number of expansion terms in PES: 924\n",
      "load potential expansion coefs from file _h2co_poten_coefs_6.npy (delete file to recompute coefficients)\n"
     ]
    }
   ],
   "source": [
    "poten_max_order = 6\n",
    "\n",
    "poten_terms = np.array(\n",
    "    [\n",
    "        elem\n",
    "        for elem in itertools.product(\n",
    "            *[range(0, poten_max_order + 1) for _ in range(len(r0))]\n",
    "        )\n",
    "        if sum(elem) <= poten_max_order\n",
    "    ]\n",
    ")\n",
    "print(\"max expansion order for PES:\", poten_max_order)\n",
    "print(\"number of expansion terms in PES:\", len(poten_terms))\n",
    "\n",
    "poten_file = f\"_h2co_poten_coefs_{poten_max_order}.npy\"\n",
    "if os.path.exists(poten_file):\n",
    "    print(\n",
    "        f\"load potential expansion coefs from file {poten_file} (delete file to recompute coefficients)\"\n",
    "    )\n",
    "    poten_coefs = np.load(poten_file)\n",
    "else:\n",
    "    poten_coefs = deriv_list(h2co_AYTY.poten, poten_terms, r0, if_taylor=True)\n",
    "    np.save(poten_file, poten_coefs)"
   ]
  },
  {
   "cell_type": "markdown",
   "id": "e59ff1af",
   "metadata": {},
   "source": [
    "Define linear mapping between coordinates of Hermite functions and internal coordinates"
   ]
  },
  {
   "cell_type": "code",
   "execution_count": 22,
   "id": "b7a0f44b",
   "metadata": {},
   "outputs": [
    {
     "name": "stdout",
     "output_type": "stream",
     "text": [
      "x->r linear mapping parameters 'a': [0.05265804 0.11094744 0.11094744 0.15432971 0.15432971 0.30023422]\n",
      "x->r linear mapping parameters 'b': [1.20337419 1.10377465 1.10377465 2.1265833  2.1265833  3.14159265]\n"
     ]
    }
   ],
   "source": [
    "mask = gmat_terms != 0\n",
    "ind0 = np.where(mask.sum(axis=1) == 0)[0][0]\n",
    "mu = np.diag(gmat_coefs[ind0])[:ncoo]\n",
    "\n",
    "mask = poten_terms != 0\n",
    "ind2 = np.array(\n",
    "    [\n",
    "        np.where((mask.sum(axis=1) == 1) & (poten_terms[:, icoo] == 2))[0][0]\n",
    "        for icoo in range(ncoo)\n",
    "    ]\n",
    ")\n",
    "freq = poten_coefs[ind2] * 2\n",
    "\n",
    "lin_a = np.sqrt(np.sqrt(mu / freq))\n",
    "lin_b = r0\n",
    "\n",
    "print(\"x->r linear mapping parameters 'a':\", lin_a)\n",
    "print(\"x->r linear mapping parameters 'b':\", lin_b)\n",
    "\n",
    "# x->r linear mapping function\n",
    "x_to_r_map = lambda x, icoo: lin_a[icoo] * x + lin_b[icoo]"
   ]
  },
  {
   "cell_type": "code",
   "execution_count": 23,
   "id": "e62e2f25",
   "metadata": {},
   "outputs": [
    {
     "name": "stdout",
     "output_type": "stream",
     "text": [
      "[  5.24143941  16.21994982  25.31138578  33.42785598  40.91734058\n",
      "  47.9590202   54.66034877  61.09214917  67.30423167  73.33333905\n",
      "  79.20758838  84.94913598  90.57586679  96.10251385 101.54142755\n",
      " 106.90312083 112.19666571 117.42998853 122.61009416 127.7432395\n",
      " 132.83507    137.89072877 142.91494519 147.91210793 152.88632609\n",
      " 157.84148112 162.78127185 167.70925403 172.62887596 177.54351112\n",
      " 182.45648888 187.37112404 192.29074597 197.21872815 202.15851888\n",
      " 207.11367391 212.08789207 217.08505481 222.10927123 227.16493\n",
      " 232.2567605  237.38990584 242.57001147 247.80333429 253.09687917\n",
      " 258.45857245 263.89748615 269.42413321 275.05086402 280.79241162\n",
      " 286.66666095 292.69576833 298.90785083 305.33965123 312.0409798\n",
      " 319.08265942 326.57214402 334.68861422 343.78005018 354.75856059]\n"
     ]
    }
   ],
   "source": [
    "x, w = hermgauss(60)\n",
    "r = x_to_r_map(x, 5)\n",
    "print(r * 180 / np.pi)"
   ]
  },
  {
   "cell_type": "markdown",
   "id": "fc3b2129",
   "metadata": {},
   "source": [
    "Define primitive Hermite basis"
   ]
  },
  {
   "cell_type": "code",
   "execution_count": 24,
   "id": "f80d024f",
   "metadata": {},
   "outputs": [],
   "source": [
    "ncoo = len(r0)\n",
    "nbas = [40] * ncoo\n",
    "npoints = [60] * ncoo\n",
    "\n",
    "p_r1, p_r2, p_r3, p_alpha1, p_alpha2, p_tau = [\n",
    "    HermiteBasis(\n",
    "        icoo,\n",
    "        nbas[icoo],\n",
    "        npoints[icoo],\n",
    "        lambda x: x_to_r_map(x, icoo),\n",
    "        lambda r: r - r0[icoo],\n",
    "        lambda r: r - r0[icoo],\n",
    "        gmat_terms[:, icoo],\n",
    "        poten_terms[:, icoo],\n",
    "    )\n",
    "    for icoo in range(ncoo)\n",
    "]"
   ]
  },
  {
   "cell_type": "code",
   "execution_count": 25,
   "id": "4916386f",
   "metadata": {},
   "outputs": [
    {
     "name": "stdout",
     "output_type": "stream",
     "text": [
      "Solutions for r1 mode:\n",
      " zpe = 3483.6927559110927\n",
      " [    0.          1765.27547405  3507.40314087  5226.49187839\n",
      "  6922.76974337  8596.62232014 10248.6357592  11879.64246453\n",
      " 13490.76562907 15083.45676233 16659.51853446 18221.10459613\n",
      " 19770.6898851 ]\n",
      "\n",
      "Solutions for r2 mode:\n",
      " zpe = 3740.4495793707006\n",
      " [    0.          2842.82311428  5577.85927463  8244.31092918\n",
      " 10904.25731537 13618.17641528 16424.97968172 19342.60244015\n",
      " 22376.86563032 25527.97855985 28793.77458816 32171.16489894\n",
      " 35656.78470197 39247.28063583 42939.43561429 46730.22135124\n",
      " 50616.82865708 54596.69263528 58667.53244527]\n",
      "\n",
      "Solutions for r3 mode:\n",
      " zpe = 3740.4495793706997\n",
      " [    0.          2842.82311428  5577.85927463  8244.31092918\n",
      " 10904.25731537 13618.17641528 16424.97968172 19342.60244015\n",
      " 22376.86563032 25527.97855985 28793.77458816 32171.16489894\n",
      " 35656.78470197 39247.28063583 42939.43561429 46730.22135124\n",
      " 50616.82865708 54596.69263528 58667.53244527]\n",
      "Solutions for alpha1 mode:\n",
      " zpe = 3419.781207227418\n",
      " [    0.          1493.22978792  2986.25314965  4479.05192626\n",
      "  5971.60659021  7463.89624397  8955.89861661 10447.59005838\n",
      " 11938.94553305 13429.93860811 14920.54144255 16410.72477223\n",
      " 17900.45789265 19389.70863905 20878.44336367 22366.62691\n",
      " 23854.22258395 25341.19212155 26827.49565326 28313.09166439\n",
      " 29797.9369516  31281.98657507 32765.19380613 34247.51006983\n",
      " 35728.88488288 37209.2658158  38688.59834207 40166.82657759\n",
      " 41643.90167854 43119.75806685 44594.58847945 46069.28663629\n",
      " 47543.02584676 49035.41214221 50549.15357426 52045.85495098\n",
      " 53855.06283967 55606.78765246 57130.540557  ]\n",
      "Solutions for alpha2 mode:\n",
      " zpe = 3419.7812072274173\n",
      " [    0.          1493.22978792  2986.25314965  4479.05192626\n",
      "  5971.60659021  7463.89624397  8955.89861661 10447.59005838\n",
      " 11938.94553305 13429.93860811 14920.54144255 16410.72477223\n",
      " 17900.45789265 19389.70863905 20878.44336367 22366.62691\n",
      " 23854.22258395 25341.19212155 26827.49565326 28313.09166439\n",
      " 29797.9369516  31281.98657507 32765.19380613 34247.51006983\n",
      " 35728.88488288 37209.2658158  38688.59834207 40166.82657759\n",
      " 41643.90167854 43119.75806685 44594.58847945 46069.28663629\n",
      " 47543.02584676 49035.41214221 50549.15357426 52045.85495098\n",
      " 53855.06283967 55606.78765246 57130.540557  ]\n",
      "Solutions for tau mode:\n",
      " zpe = 3349.015288316686\n",
      " [    0.          1214.81135502  2445.61343717  3691.24956856\n",
      "  4950.70819072  6223.09625215  7507.61891347  8803.56376909\n",
      " 10110.28837397 11427.21023836 12753.79869816 14089.56823334\n",
      " 15434.07291978 16786.90177955 18147.67485125 19516.03984357]\n"
     ]
    }
   ],
   "source": [
    "emax = [20000, 60000, 60000, 60000, 60000, 20000]\n",
    "c_r1, c_r2, c_r3, c_alpha1, c_alpha2, c_tau = [\n",
    "    ContrBasis(\n",
    "        (icoo,),\n",
    "        [p_r1, p_r2, p_r3, p_alpha1, p_alpha2, p_tau],\n",
    "        lambda _: True,\n",
    "        gmat_terms,\n",
    "        gmat_coefs,\n",
    "        poten_terms,\n",
    "        poten_coefs,\n",
    "        emax=emax[icoo],\n",
    "    )\n",
    "    for icoo in range(ncoo)\n",
    "]\n",
    "\n",
    "e = c_r1.enr\n",
    "print(\"Solutions for r1 mode:\\n\", f\"zpe = {e[0]}\\n\", e - e[0])\n",
    "e = c_r2.enr\n",
    "print(\"\\nSolutions for r2 mode:\\n\", f\"zpe = {e[0]}\\n\", e - e[0])\n",
    "e = c_r3.enr\n",
    "print(\"\\nSolutions for r3 mode:\\n\", f\"zpe = {e[0]}\\n\", e - e[0])\n",
    "e = c_alpha1.enr\n",
    "print(\"Solutions for alpha1 mode:\\n\", f\"zpe = {e[0]}\\n\", e - e[0])\n",
    "e = c_alpha2.enr\n",
    "print(\"Solutions for alpha2 mode:\\n\", f\"zpe = {e[0]}\\n\", e - e[0])\n",
    "e = c_tau.enr\n",
    "print(\"Solutions for tau mode:\\n\", f\"zpe = {e[0]}\\n\", e - e[0])"
   ]
  },
  {
   "cell_type": "code",
   "execution_count": 26,
   "id": "9e3bc06a",
   "metadata": {},
   "outputs": [
    {
     "name": "stdout",
     "output_type": "stream",
     "text": [
      "36\n",
      "Solutions for r2+r3 modes:\n",
      " zpe = 4444.493288948901\n",
      " [    0.          2825.50801119  2868.25536019  5570.57073722\n",
      "  5587.29561921  5711.65639325  8245.48621281  8250.52713442\n",
      "  8410.0695873   8486.07039932 10906.36125018 10908.37904348\n",
      " 11078.08621035 11126.21098375 11229.24307216 13612.41040624\n",
      " 13614.47340166 13739.63319222 13776.79531468 13858.87458617\n",
      " 13941.25567198 16370.05123268 16386.67786219 16436.91322465\n",
      " 16485.39315793 16539.26878668 16594.16639695 16647.48768492\n",
      " 19061.04780205 19146.22362543 19215.10909151 19272.68532529\n",
      " 19325.4977921  19354.34563678 19419.15901601 19421.81998357]\n"
     ]
    }
   ],
   "source": [
    "c_r2_r3 = ContrBasis(\n",
    "    (1, 2),\n",
    "    [c_r1, c_r2, c_r3, c_alpha1, c_alpha2, c_tau],\n",
    "    lambda _: True,\n",
    "    gmat_terms,\n",
    "    gmat_coefs,\n",
    "    poten_terms,\n",
    "    poten_coefs,\n",
    "    emax=20000,\n",
    ")\n",
    "\n",
    "e = c_r2_r3.enr\n",
    "print(len(e))\n",
    "print(\"Solutions for r2+r3 modes:\\n\", f\"zpe = {e[0]}\\n\", e - e[0])"
   ]
  },
  {
   "cell_type": "code",
   "execution_count": 27,
   "id": "bdee8d4e",
   "metadata": {},
   "outputs": [
    {
     "name": "stdout",
     "output_type": "stream",
     "text": [
      "114\n",
      "Solutions for alpha1+alpha2 modes:\n",
      " zpe = 3674.3337387464044\n",
      " [    0.          1265.58748343  1581.90790143  2534.58011322\n",
      "  2843.75156213  3164.51359183  3807.72370557  4109.40087904\n",
      "  4422.4520763   4747.29498495  5085.73111723  5379.63971414\n",
      "  5684.58438613  6001.18924374  6329.7082676   6369.27867078\n",
      "  6655.21278761  6951.73228495  7259.65248017  7579.44344281\n",
      "  7659.00363651  7911.18309056  7936.82120593  8224.67172422\n",
      "  8523.54381924  8834.10867403  8955.50269253  9156.67082741\n",
      "  9225.11950245  9491.1168999   9504.12765102  9793.66937009\n",
      " 10094.59957387 10259.33124914 10407.43409565 10520.71406694\n",
      " 10732.29816529 10790.77085648 11068.86814808 11070.77648013\n",
      " 11361.75099062 11571.00350458 11664.40384725 11824.16277662\n",
      " 11979.08272331 12034.89888895 12085.21665249 12305.71666431\n",
      " 12355.55063112 12636.33084956 12643.74803297 12890.99309225\n",
      " 12928.44200973 13135.97560878 13232.43549741 13388.02507398\n",
      " 13548.47568949 13648.61462789 13876.27447027 13919.03730924\n",
      " 14200.33495032 14215.01027889 14219.73425788 14456.61599489\n",
      " 14493.24370305 14699.70226769 14798.14258203 14950.52962311\n",
      " 15114.99435924 15210.49869512 15443.26740293 15480.79127718\n",
      " 15557.62310521 15762.30978855 15781.83827655 15786.50305293\n",
      " 16020.70267834 16055.6280413  16261.79749055 16360.93583477\n",
      " 16511.27556093 16677.97177869 16770.44236445 16905.01963725\n",
      " 17005.9273251  17040.35056042 17126.01288883 17321.74811758\n",
      " 17343.3285967  17351.43277724 17582.86393053 17615.03139794\n",
      " 17821.86421597 17920.18058012 18069.84587539 18236.68192615\n",
      " 18262.24934977 18327.99758981 18475.48262053 18563.40728171\n",
      " 18597.22569796 18692.25144187 18878.1082114  18898.46942153\n",
      " 18914.1244039  19142.70072597 19170.84671837 19379.49044542\n",
      " 19475.18651724 19625.8028973  19629.60528308 19790.32594856\n",
      " 19835.21184515 19882.68949105]\n"
     ]
    }
   ],
   "source": [
    "c_alpha1_alpha2 = ContrBasis(\n",
    "    (3, 4),\n",
    "    [c_r1, c_r2, c_r3, c_alpha1, c_alpha2, c_tau],\n",
    "    lambda _: True,\n",
    "    gmat_terms,\n",
    "    gmat_coefs,\n",
    "    poten_terms,\n",
    "    poten_coefs,\n",
    "    emax=20000,\n",
    ")\n",
    "\n",
    "e = c_alpha1_alpha2.enr\n",
    "print(len(e))\n",
    "print(\"Solutions for alpha1+alpha2 modes:\\n\", f\"zpe = {e[0]}\\n\", e - e[0])"
   ]
  },
  {
   "cell_type": "code",
   "execution_count": 28,
   "id": "bdd744a7",
   "metadata": {},
   "outputs": [
    {
     "name": "stdout",
     "output_type": "stream",
     "text": [
      "Solutions:\n",
      " zpe = 5801.481866567859\n",
      " [    0.          1175.10683215  1255.24139737 ... 12756.13531386\n",
      " 13165.14611739 13168.8743292 ]\n"
     ]
    }
   ],
   "source": [
    "e_max = 12000\n",
    "\n",
    "e1 = np.copy(c_r1.enr - c_r1.enr[0])\n",
    "e23 = np.copy(c_r2_r3.enr - c_r2_r3.enr[0])\n",
    "e45 = np.copy(c_alpha1_alpha2.enr - c_alpha1_alpha2.enr[0])\n",
    "e6 = np.copy(c_tau.enr - c_tau.enr[0])\n",
    "\n",
    "\n",
    "def select_quanta(ind):\n",
    "    i1, i23, i45, i6 = ind\n",
    "    cond = e1[i1] + e23[i23] + e45[i45] + e6[i6] <= e_max\n",
    "    return cond\n",
    "\n",
    "\n",
    "sol = ContrBasis(\n",
    "    (0, 1, 2, 3),\n",
    "    [c_r1, c_r2_r3, c_alpha1_alpha2, c_tau],\n",
    "    select_quanta,\n",
    "    gmat_terms,\n",
    "    gmat_coefs,\n",
    "    poten_terms,\n",
    "    poten_coefs,\n",
    "    emax=20000,\n",
    "    store_me=False,\n",
    ")\n",
    "\n",
    "e = sol.enr\n",
    "print(\"Solutions:\\n\", f\"zpe = {e[0]}\\n\", e - e[0])"
   ]
  },
  {
   "cell_type": "code",
   "execution_count": null,
   "id": "2f020785",
   "metadata": {},
   "outputs": [],
   "source": []
  }
 ],
 "metadata": {
  "kernelspec": {
   "display_name": "myenv",
   "language": "python",
   "name": "python3"
  },
  "language_info": {
   "codemirror_mode": {
    "name": "ipython",
    "version": 3
   },
   "file_extension": ".py",
   "mimetype": "text/x-python",
   "name": "python",
   "nbconvert_exporter": "python",
   "pygments_lexer": "ipython3",
   "version": "3.13.3"
  }
 },
 "nbformat": 4,
 "nbformat_minor": 5
}
