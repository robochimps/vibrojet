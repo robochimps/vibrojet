{
 "cells": [
  {
   "cell_type": "markdown",
   "id": "36e1554a",
   "metadata": {},
   "source": [
    "# Example of computing vibrational energy levels of a hexatomic molecule using the Taylor series expansion approximation for the kinetic and potential energy operators\n",
    "\n",
    "Compute vibrational states of $\\text{H}_2\\text{CO}$ molecule using the potential energy surface from\n",
    "[AAl-Refaie, A. F., Yachmenev, A., Tennyson, J.Yurchenko, S. N., \"ExoMol line lists VIII: A variationally computed line list for hot formaldehyde\",\n",
    "Monthly Notices of the Royal Astronomical Society 448, 1704-1714 (2015).]\n"
   ]
  },
  {
   "cell_type": "code",
   "execution_count": 2,
   "id": "ce48a54e",
   "metadata": {},
   "outputs": [],
   "source": [
    "import sys\n",
    "\n",
    "sys.path.insert(1, \"../\")\n",
    "\n",
    "from typing import Callable, List\n",
    "\n",
    "import jax\n",
    "import jax.numpy as jnp\n",
    "import numpy as np\n",
    "from numpy.polynomial.hermite import hermder, hermgauss, hermval\n",
    "from scipy import optimize\n",
    "from scipy.special import factorial\n",
    "from vibrojet.keo import Gmat, com\n",
    "from vibrojet.potentials import h2co_AYTY\n",
    "from vibrojet.taylor import deriv_list\n",
    "\n",
    "jax.config.update(\"jax_enable_x64\", True)"
   ]
  },
  {
   "cell_type": "markdown",
   "id": "6fcbef87",
   "metadata": {},
   "source": [
    "Compute equilibrium coordinates, around which the Taylor series expansions will be built"
   ]
  },
  {
   "cell_type": "code",
   "execution_count": 3,
   "id": "59171cc5",
   "metadata": {},
   "outputs": [
    {
     "name": "stdout",
     "output_type": "stream",
     "text": [
      "Equilibrium coordinates: [1.19999999 1.09999999 1.09999999 2.13       2.13       3.14159265]\n",
      "Min of the potential: 3.0383371388387545e-11\n"
     ]
    }
   ],
   "source": [
    "potential = h2co_AYTY.poten\n",
    "vmin = optimize.minimize(potential, [1.2, 1.1, 1.1, 120.0*np.pi/180,  120.0*np.pi/180, np.pi])\n",
    "r0 = vmin.x\n",
    "v0 = vmin.fun\n",
    "print(\"Equilibrium coordinates:\", r0)\n",
    "print(\"Min of the potential:\", v0)"
   ]
  },
  {
   "cell_type": "markdown",
   "id": "f6fdbbd2",
   "metadata": {},
   "source": [
    "Define mapping function from internal valence coordinates, $r_{CO}$, $r_{CH1}$, $r_{CH2}$, $\\alpha_{OCH1}$, $\\alpha_{OCH2}$, and $\\tau$, to Cartesian coordinates"
   ]
  },
  {
   "cell_type": "code",
   "execution_count": 4,
   "id": "9393262b",
   "metadata": {},
   "outputs": [],
   "source": [
    "masses = [12.0, 15.99491463, 1.00782505, 1.00782505] # masses of C, O, H, H\n",
    "ncoo = len(r0)\n",
    "\n",
    "@com(masses)\n",
    "def internal_to_cartesian(internal_coords):\n",
    "    rCO, rCH1, rCH2, aOCH1, aOCH2, tau = internal_coords\n",
    "    xyz =[[0.0, 0.0, 0.0],\n",
    "          [0.0, 0.0, rCO],\n",
    "          [rCH1 * jnp.sin(aOCH1) * jnp.cos(tau * 0.5), -rCH1 * jnp.sin(aOCH1) * jnp.sin(tau * 0.5), rCH1 * jnp.cos(aOCH1)],\n",
    "          [rCH2 * jnp.sin(aOCH2) * jnp.cos(tau * 0.5), rCH2 * jnp.sin(aOCH2) * jnp.sin(tau * 0.5), rCH2 * jnp.cos(aOCH2)]]\n",
    "    return jnp.array(xyz, dtype=jnp.float64)\n",
    "    "
   ]
  },
  {
   "cell_type": "markdown",
   "id": "492c67df",
   "metadata": {},
   "source": [
    "Utility function for generating index combinations corresponding to products of primitive basis functions as well as derivative indices used in the expansion of operators"
   ]
  },
  {
   "cell_type": "code",
   "execution_count": 5,
   "id": "c48df55c",
   "metadata": {},
   "outputs": [],
   "source": [
    "def generate_prod_ind(\n",
    "    indices: List[List[int]],\n",
    "    select: Callable[[List[int]], bool] = lambda _: True,\n",
    "    batch_size: int = None,\n",
    "):\n",
    "    no_elem = np.array(\n",
    "        [len(elem) for elem in indices]\n",
    "    )  # Highest order (z) + 1  - [x^0,x^1,...,x^z] -> z+1 terms\n",
    "    tot_size = np.prod(\n",
    "        no_elem\n",
    "    )  # Total possible number of combinations (z_0*z_1*...*z_N)\n",
    "    if batch_size is None:\n",
    "        batch_size = tot_size\n",
    "    # no_batches = (tot_size + batch_size - 1) // batch_size\n",
    "    no_batches = int(np.ceil(tot_size / batch_size))\n",
    "    for ibatch in range(no_batches):  # Loop over batches\n",
    "        start_ind = ibatch * batch_size  # Start index from end index of previous batch.\n",
    "        end_ind = np.minimum(start_ind + batch_size, tot_size)\n",
    "        batch_ind = np.arange(start_ind, end_ind)  # Counting index\n",
    "        multi_ind = np.array(\n",
    "            np.unravel_index(batch_ind, no_elem)\n",
    "        )  # N-dimensional indexes (N x 1D basis indexes)\n",
    "        indices_out = np.array(\n",
    "            [indices[icoo][multi_ind[icoo, :]] for icoo in range(len(indices))]\n",
    "        ).T  # All possible N-dimensional indexes\n",
    "        select_ind = np.where(\n",
    "            np.asarray([select(elem) for elem in indices_out])\n",
    "        )  # Truncation for combinations\n",
    "        yield indices_out[select_ind], multi_ind[\n",
    "            :, select_ind[0]\n",
    "        ]  # Output indexes that adhere to the select truncation"
   ]
  },
  {
   "cell_type": "markdown",
   "id": "c886e0dc-137c-4b02-a782-b8ab21d74d05",
   "metadata": {},
   "source": [
    "Compute Taylor series expansion of the $G$-matrix and potential\n",
    "\n",
    "$$\n",
    "G_{\\lambda,\\mu}=\\sum_{\\mathbf{t}} g_{\\mathbf{t},\\lambda,\\mu} \\prod_i (r_i-r_i^\\text{(eq)})^{t_i},\n",
    "$$\n",
    "\n",
    "$$\n",
    "V=\\sum_{\\mathbf{t}} f_{\\mathbf{t}} \\prod_i (r_i-r_i^\\text{(eq)})^{t_i},\n",
    "$$\n",
    "\n",
    " where the derivative multi-index $\\mathbf{t}$ is stored in `deriv_ind`, and the expansion coefficients $g_{\\mathbf{t},\\lambda,\\mu}$ and $f_{\\mathbf{t}}$ in `Gmat_coefs[:len(deriv_ind),:3N, :3N]` and `poten_coefs[:len(deriv_ind)]` respectively, where $N$ is the number of atoms\n"
   ]
  },
  {
   "cell_type": "code",
   "execution_count": 6,
   "id": "fc1a8b33",
   "metadata": {},
   "outputs": [
    {
     "name": "stdout",
     "output_type": "stream",
     "text": [
      "Max expansion power: 2\n",
      "Total number of terms before truncation: 729\n",
      "Number of expansion terms after truncation: 28\n"
     ]
    }
   ],
   "source": [
    "max_pow = 2  # Degree of Taylor Expansion\n",
    "powers = [np.arange(max_pow + 1)] * ncoo  # 1D possible powers\n",
    "tot_size = np.prod([len(p) for p in powers])  # Number of terms before truncation\n",
    "batch_size = tot_size  # batch size - tot_size => one batch\n",
    "no_batches = int(np.ceil(tot_size / batch_size))\n",
    "select = lambda ind: np.sum(ind) <= max_pow  # Truncation criterion for Taylor expansion\n",
    "gen_prod_ind = generate_prod_ind(powers, select=lambda ind: np.sum(ind) <= max_pow, batch_size=batch_size)\n",
    "deriv_ind_list, deriv_mind_list = [], []  # Create empty lists to append to\n",
    "for i in range(no_batches):  # Loop over batches\n",
    "    _deriv_ind, _deriv_mind = next(gen_prod_ind)\n",
    "    deriv_ind_list.append(_deriv_ind)  # Append indexes\n",
    "    deriv_mind_list.append(_deriv_mind)\n",
    "\n",
    "# Concatenate lists of indexes\n",
    "deriv_ind, deriv_mind = np.concatenate(deriv_ind_list, axis=0), np.concatenate(\n",
    "    deriv_mind_list, axis=1\n",
    ")\n",
    "\n",
    "print(\"Max expansion power:\", max_pow)\n",
    "print(\"Total number of terms before truncation:\", tot_size)\n",
    "print(\"Number of expansion terms after truncation:\", len(deriv_ind))"
   ]
  },
  {
   "cell_type": "code",
   "execution_count": 7,
   "id": "26fb2f9d-6b18-4df4-9939-eccdae40cf12",
   "metadata": {},
   "outputs": [
    {
     "name": "stdout",
     "output_type": "stream",
     "text": [
      "Compute expansion of potential ...\n",
      "Time for d= 0 : 32.51 s\n",
      "Time for d= 1 : 26.48 s\n",
      "Time for d= 2 : 63.88 s\n"
     ]
    }
   ],
   "source": [
    "print(\"Compute expansion of potential ...\")\n",
    "poten_coefs = deriv_list(potential, deriv_ind, r0, if_taylor=True)"
   ]
  },
  {
   "cell_type": "code",
   "execution_count": 8,
   "id": "82a2b6d3",
   "metadata": {},
   "outputs": [
    {
     "name": "stdout",
     "output_type": "stream",
     "text": [
      "Compute expansion of G-matrix ...\n",
      "Time for d= 0 : 1.67 s\n",
      "Time for d= 1 : 1.34 s\n",
      "Time for d= 2 : 3.7 s\n"
     ]
    }
   ],
   "source": [
    "print(\"Compute expansion of G-matrix ...\")\n",
    "Gmat_coefs = deriv_list(\n",
    "    lambda x: Gmat(x, masses, internal_to_cartesian), deriv_ind, r0, if_taylor=True\n",
    ")"
   ]
  },
  {
   "cell_type": "markdown",
   "id": "6737c968",
   "metadata": {},
   "source": [
    "Define primitive Hermite basis functions $\\mathcal{H}_n(x)$ and their derivatives $d\\mathcal{H}_n(x)/dx$"
   ]
  },
  {
   "cell_type": "code",
   "execution_count": 9,
   "id": "d44ce9bf",
   "metadata": {},
   "outputs": [],
   "source": [
    "def hermite(x, n):\n",
    "    sqsqpi = np.sqrt(np.sqrt(np.pi))\n",
    "    c = np.diag(1.0 / np.sqrt(2.0**n * factorial(n)) / sqsqpi) #Normalization constants\n",
    "    f = hermval(np.asarray(x), c) * np.exp(-(x**2) / 2) #Hermite polynomial times square root of weight function\n",
    "    return f.T\n",
    "\n",
    "\n",
    "def hermite_deriv(x, n):\n",
    "    sqsqpi = np.sqrt(np.sqrt(np.pi))\n",
    "    c = np.diag(1.0 / np.sqrt(2.0**n * factorial(n)) / sqsqpi) #Normalization constants\n",
    "    h = hermval(np.asarray(x), c) #Hermite polynomial \n",
    "    dh = hermval(np.asarray(x), hermder(c, m=1)) #Derivative of Hermite polynomial (H_l(x))\n",
    "    f = (dh - h * x) * np.exp(-(x**2) / 2) #w'(x)H_l(x) + w(x)H_l'(x), where w: weight function, w(x) = np.exp(-x**2)\n",
    "    return f.T"
   ]
  },
  {
   "cell_type": "markdown",
   "id": "d678846e",
   "metadata": {},
   "source": [
    "Define mapping between the coordinate $x\\in (-\\infty, \\infty)$ of Hermite basis functions and the internal valence coordinates as $r_1=a_1 x_1 + b_1$, $r_2=a_2x_2+b_2$, $\\alpha=a_3x_3+b_3$. The parameters $a_1,b_1,...,b_3$ are determined by mapping the vibrational Hamiltonian in valence coordinates onto the harmonic-oscillator Hamiltonian."
   ]
  },
  {
   "cell_type": "code",
   "execution_count": 10,
   "id": "b7a0f44b",
   "metadata": {},
   "outputs": [
    {
     "name": "stdout",
     "output_type": "stream",
     "text": [
      "x->r linear mapping parameters 'a': [0.05234934 0.11034365 0.11034365 0.15434545 0.15434545 0.30038996]\n",
      "x->r linear mapping parameters 'b': [1.19999999 1.09999999 1.09999999 2.13       2.13       3.14159265]\n"
     ]
    }
   ],
   "source": [
    "mask = deriv_ind != 0  # Mask for derivatives\n",
    "\n",
    "# Vibrational G-matrix elements at equilibrium geometry\n",
    "ind0 = np.where(mask.sum(axis=1) == 0)[0][0] #Equilibrium indexes\n",
    "mu = np.diag(Gmat_coefs[ind0])[:ncoo]\n",
    "\n",
    "# Second-order derivative of potential at equilibrium\n",
    "ind2 = np.array(\n",
    "    [   np.where((mask.sum(axis=1) == 1) & (deriv_ind[:, icoo] == 2))[0][0]\n",
    "        for icoo in range(ncoo)]\n",
    ")\n",
    "\n",
    "freq = poten_coefs[ind2] * 2\n",
    "\n",
    "# Linear mapping parameters\n",
    "lin_a = jnp.sqrt(jnp.sqrt(mu / freq))\n",
    "lin_b = r0\n",
    "\n",
    "print(\"x->r linear mapping parameters 'a':\", lin_a)\n",
    "print(\"x->r linear mapping parameters 'b':\", lin_b)\n",
    "\n",
    "# Linear mapping function and its derivative\n",
    "x_to_r_map = lambda x, icoo: lin_a[icoo] * x + lin_b[icoo]\n",
    "jac_x_to_r_map = lambda x, icoo: np.ones_like(x) * lin_a[icoo]"
   ]
  },
  {
   "cell_type": "markdown",
   "id": "46679b1c",
   "metadata": {},
   "source": [
    "Precompute matrix elements of expansion terms in Hermite basis, i.e., $\\langle\\mathcal{H}_i|r_\\lambda^{t_\\lambda}|\\mathcal{H}_j\\rangle$, $\\langle\\mathcal{H}_i|r_\\lambda^{t_\\lambda}|\\partial_{r_\\lambda}\\mathcal{H}_j\\rangle$, and $\\langle\\partial_{r_\\lambda}\\mathcal{H}_i|r_\\lambda^{t_\\lambda}|\\partial_{r_\\lambda}\\mathcal{H}_j\\rangle$, for three internal valence coordinates $\\lambda =1..3$."
   ]
  },
  {
   "cell_type": "code",
   "execution_count": 11,
   "id": "7a25270c",
   "metadata": {},
   "outputs": [],
   "source": [
    "no_bas = [10] * ncoo #Number of primitive basis functions\n",
    "npoints = [80] * ncoo #Number of quadrature points\n",
    "\n",
    "prim_me = []\n",
    "prim_dme = []\n",
    "prim_d2me = []\n",
    "\n",
    "for icoo in range(ncoo):\n",
    "    x, w = hermgauss(npoints[icoo]) #Generate quadrature\n",
    "    w /= np.exp(-(x**2))            #Divide by weight function, because it is a part of the basis\n",
    "    r = x_to_r_map(x, icoo)         #Obtain r (coordinate values) from x (quadrature values)\n",
    "    dr = r - r0[icoo]               #Displacement coordinate (subtraction of equilibrium geometry, r0)\n",
    "    r_pow = dr[:, None] ** powers[icoo][None, :] #Generate powers of r\n",
    "    psi = hermite(x, np.arange(no_bas[icoo] + 1))#Primitive basis functions\n",
    "    dpsi = hermite_deriv(x, np.arange(no_bas[icoo] + 1)) / jac_x_to_r_map(x, icoo)[:, None] #Derivative of primitive basis functions\n",
    "    me = jnp.einsum(\"gi,gt,gj,g->tij\", psi, r_pow, psi, w)     #For Potential and p_i G_ij(q_k)p_j (averaging over q_k).\n",
    "    dme = jnp.einsum(\"gi,gt,gj,g->tij\", psi, r_pow, dpsi, w)   #For p_i G_ij p_j terms, j != i\n",
    "    d2me = jnp.einsum(\"gi,gt,gj,g->tij\", dpsi, r_pow, dpsi, w) #For p_i G_ii p_i terms (j=i)\n",
    "    prim_me.append(me)\n",
    "    prim_dme.append(dme)\n",
    "    prim_d2me.append(d2me)"
   ]
  },
  {
   "cell_type": "markdown",
   "id": "022b822d",
   "metadata": {},
   "source": [
    "Solve contracted problems with basis |i>|0>|0> with i = 0...no_bas for each mode (averaging over lowest basis function for inactive modes)."
   ]
  },
  {
   "cell_type": "code",
   "execution_count": 54,
   "id": "9d2eaf1e-9dff-4855-ad9e-9445f45211f9",
   "metadata": {},
   "outputs": [
    {
     "name": "stdout",
     "output_type": "stream",
     "text": [
      "Set: [0]\n",
      "total number of basis products: 11\n",
      "5989.644145445383 [    0.          1795.0533239   3590.1066478   5385.15997171\n",
      "  7180.21329561  8975.26661951 10770.31994341 12565.37326731\n",
      " 14360.42659252 16155.48205888]\n",
      "Set: [1, 2]\n",
      "total number of basis products: 66\n",
      "5987.54975201514 [   0.         2964.11680031 3018.06403995 5928.23360062 5982.18084026\n",
      " 6036.12807991 8892.35040093 8946.29764057 9000.24488022 9054.19211986]\n",
      "Set: [3, 4]\n",
      "total number of basis products: 66\n",
      "5949.260044150832 [   0.         1309.18557136 1637.9787706  2617.52762174 2947.08990076\n",
      " 3275.34704664 3925.064509   4255.37633901 4584.3969917  4912.11410064]\n",
      "Set: [5]\n",
      "total number of basis products: 11\n",
      "5989.535360609758 [    0.          1215.37310202  2426.86228443  3634.44867331\n",
      "  4838.11306799  6037.83919907  7233.6041187   8426.67676882\n",
      "  9615.10924075 10809.62296162]\n"
     ]
    }
   ],
   "source": [
    "contraction_sets = [[0],[1,2],[3,4],[5]] #Contraction sets\n",
    "prim_poly_coefs = np.array([1, 1, 1, 1, 1, 1]) #Primitive polyadd numbers\n",
    "pmax_sets = [no_bas[0],10,10,no_bas[5]]\n",
    "_bas_ind = [np.arange(no_bas[icoo]) for icoo in range(ncoo)]\n",
    "\n",
    "contr_vec = []\n",
    "count = 0\n",
    "for sets in contraction_sets:\n",
    "    bas_ind = [np.arange(no_bas[icoo] + 1) if icoo_ in sets else np.arange(1) for icoo_ in range(ncoo)]\n",
    "    bas_ind, bas_mind = next(generate_prod_ind(bas_ind,select=lambda ind: np.sum(ind * prim_poly_coefs) <= pmax_sets[count]))\n",
    "    count = count + 1\n",
    "    print('Set:',sets)\n",
    "    print(\"total number of basis products:\", len(bas_ind))\n",
    "\n",
    "    me = np.prod(\n",
    "        [\n",
    "            prim_me[icoo_][\n",
    "                np.ix_(deriv_mind[icoo_, :], bas_mind[icoo_, :], bas_mind[icoo_, :])\n",
    "            ]\n",
    "            for icoo_ in range(ncoo)\n",
    "        ],\n",
    "        axis=0,\n",
    "    )\n",
    "\n",
    "    vme = me.T @ poten_coefs\n",
    "\n",
    "    gme = 0\n",
    "    fac = {}\n",
    "    for icoo in range(ncoo):\n",
    "        for jcoo in range(ncoo):\n",
    "            fac[icoo] = 1\n",
    "            fac[jcoo] = -1\n",
    "    \n",
    "            if icoo != jcoo:\n",
    "                dme = np.prod(\n",
    "                    [\n",
    "                        (\n",
    "                            fac[icoo_]\n",
    "                            * prim_dme[icoo_][\n",
    "                                np.ix_(\n",
    "                                    deriv_mind[icoo_, :],\n",
    "                                    bas_mind[icoo_, :],\n",
    "                                    bas_mind[icoo_, :],\n",
    "                                )\n",
    "                            ]\n",
    "                            if icoo_ == icoo or icoo_ == jcoo\n",
    "                            else prim_me[icoo_][\n",
    "                                np.ix_(\n",
    "                                    deriv_mind[icoo_, :],\n",
    "                                    bas_mind[icoo_, :],\n",
    "                                    bas_mind[icoo_, :],\n",
    "                                )\n",
    "                            ]\n",
    "                        )\n",
    "                        for icoo_ in range(ncoo)\n",
    "                    ],\n",
    "                    axis=0,\n",
    "                )\n",
    "            else:\n",
    "                dme = np.prod(\n",
    "                    [\n",
    "                        (\n",
    "                            prim_d2me[icoo_][\n",
    "                                np.ix_(\n",
    "                                    deriv_mind[icoo_, :],\n",
    "                                    bas_mind[icoo_, :],\n",
    "                                    bas_mind[icoo_, :],\n",
    "                                )\n",
    "                            ]\n",
    "                            if icoo_ == icoo\n",
    "                            else prim_me[icoo_][\n",
    "                                np.ix_(\n",
    "                                    deriv_mind[icoo_, :],\n",
    "                                    bas_mind[icoo_, :],\n",
    "                                    bas_mind[icoo_, :],\n",
    "                                )\n",
    "                            ]\n",
    "                        )\n",
    "                        for icoo_ in range(ncoo)\n",
    "                    ],\n",
    "                    axis=0,\n",
    "                )\n",
    "            gme += dme.T @ Gmat_coefs[:, icoo, jcoo]\n",
    "\n",
    "    hme = 0.5 * gme + vme\n",
    "    e, v = np.linalg.eigh(hme)\n",
    "    print(e[0], e[0:10] - e[0])\n",
    "    contr_vec.append(v)\n",
    "\n"
   ]
  },
  {
   "cell_type": "code",
   "execution_count": 12,
   "id": "7c2b1ee8",
   "metadata": {},
   "outputs": [
    {
     "name": "stdout",
     "output_type": "stream",
     "text": [
      "0 3433.1162189891284 [    0.          1794.40311262  3588.80622523  5383.20933785\n",
      "  7177.61245046  8972.01556308 10766.41867569 12560.82178831\n",
      " 14355.22490092 16149.62801354 17944.03112615]\n",
      "1 3729.0932481839013 [    0.          2978.31122939  5956.62245879  8934.93368818\n",
      " 11913.24491758 14891.55614697 17869.86737637 20848.17860576\n",
      " 23826.48983516 26804.80106455 29783.11229394]\n",
      "2 3729.093248201243 [    0.          2978.31122946  5956.62245893  8934.93368839\n",
      " 11913.24491786 14891.55614732 17869.86737678 20848.17860625\n",
      " 23826.48983571 26804.80106517 29783.11229464]\n",
      "3 3363.07787336123 [    0.          1505.42938282  3010.15775822  4514.18431188\n",
      "  6017.50823878  7520.12906957  9022.04770159 10523.3506244\n",
      " 12027.20153236 13529.9575809  15045.33937193]\n",
      "4 3363.077873363351 [    0.          1505.42938283  3010.15775823  4514.18431191\n",
      "  6017.50823882  7520.12906961  9022.04770164 10523.35062446\n",
      " 12027.20153243 13529.95758098 15045.33937202]\n",
      "5 3292.6115092708274 [    0.          1215.44847204  2427.01302623  3634.67479155\n",
      "  4838.41456859  6038.21539204  7234.05500867  8427.26083772\n",
      "  9615.79748601 10808.17278789 11990.83105686]\n"
     ]
    }
   ],
   "source": [
    "contr_vec = []\n",
    "for icoo in range(ncoo):\n",
    "    bas_ind = [\n",
    "        np.arange(no_bas[icoo] + 1) if icoo_ == icoo else np.arange(1)\n",
    "        for icoo_ in range(ncoo)\n",
    "    ]\n",
    "    bas_ind, bas_mind = next(generate_prod_ind(bas_ind))\n",
    "    \n",
    "    me = np.prod(\n",
    "        [\n",
    "            prim_me[icoo_][\n",
    "                np.ix_(deriv_mind[icoo_, :], bas_mind[icoo_, :], bas_mind[icoo_, :])\n",
    "            ]\n",
    "            for icoo_ in range(ncoo)\n",
    "        ],\n",
    "        axis=0,\n",
    "    )\n",
    "\n",
    "    d2me = np.prod(\n",
    "        [\n",
    "            (\n",
    "                prim_d2me[icoo_][\n",
    "                    np.ix_(deriv_mind[icoo_, :], bas_mind[icoo_, :], bas_mind[icoo_, :])\n",
    "                ]\n",
    "                if icoo_ == icoo\n",
    "                else prim_me[icoo_][\n",
    "                    np.ix_(deriv_mind[icoo_, :], bas_mind[icoo_, :], bas_mind[icoo_, :])\n",
    "                ]\n",
    "            )\n",
    "            for icoo_ in range(ncoo)\n",
    "        ],\n",
    "        axis=0,\n",
    "    )\n",
    "\n",
    "    vme = me.T @ poten_coefs\n",
    "    gme = d2me.T @ Gmat_coefs[:, icoo, icoo]\n",
    "    hme = 0.5 * gme + vme\n",
    "    e, v = np.linalg.eigh(hme)\n",
    "    print(icoo, e[0], e - e[0])\n",
    "    contr_vec.append(v)"
   ]
  },
  {
   "cell_type": "markdown",
   "id": "d43199d1",
   "metadata": {},
   "source": [
    "Transform primitive matrix elements to the contracted basis"
   ]
  },
  {
   "cell_type": "code",
   "execution_count": 13,
   "id": "a5f3f7d4",
   "metadata": {},
   "outputs": [],
   "source": [
    "contr_me = [contr_vec[icoo].T @ prim_me[icoo] @ contr_vec[icoo] for icoo in range(ncoo)]\n",
    "contr_dme = [contr_vec[icoo].T @ prim_dme[icoo] @ contr_vec[icoo] for icoo in range(ncoo)]\n",
    "contr_d2me = [ contr_vec[icoo].T @ prim_d2me[icoo] @ contr_vec[icoo] for icoo in range(ncoo)]"
   ]
  },
  {
   "cell_type": "markdown",
   "id": "754b1f31",
   "metadata": {},
   "source": [
    "Final solution "
   ]
  },
  {
   "cell_type": "code",
   "execution_count": 15,
   "id": "a8bb3f2b",
   "metadata": {},
   "outputs": [
    {
     "name": "stdout",
     "output_type": "stream",
     "text": [
      "polyad contraction number: 2\n",
      "total number of basis products: 13\n",
      "5948.743855619348 [   0.         1252.4796963  1381.18702282 1684.95745763 1851.7804148\n",
      " 2467.5008949  2615.99346788 2751.76895052 2957.7549153  3003.97965958\n",
      " 3026.95871591 3133.69027549 3415.2052134 ]\n"
     ]
    }
   ],
   "source": [
    "pmax = 2\n",
    "poly_coefs = np.array([2, 2, 2, 1, 1, 1])\n",
    "\n",
    "bas_ind = [np.arange(np.ceil(pmax/poly_coefs[icoo]) + 1) for icoo in range(ncoo)]\n",
    "bas_ind, bas_mind = next(\n",
    "    generate_prod_ind(bas_ind, select=lambda ind: np.sum(ind * poly_coefs) <= pmax)\n",
    ") #Polyad truncation: np.sum(ind * poly_coefs) <= pmax\n",
    "print(\"polyad contraction number:\", pmax)\n",
    "print(\"total number of basis products:\", len(bas_ind))\n",
    "\n",
    "me = np.prod(\n",
    "    [\n",
    "        contr_me[icoo_][\n",
    "            np.ix_(deriv_mind[icoo_, :], bas_mind[icoo_, :], bas_mind[icoo_, :])\n",
    "        ]\n",
    "        for icoo_ in range(ncoo)\n",
    "    ],\n",
    "    axis=0,\n",
    ")\n",
    "\n",
    "vme = me.T @ poten_coefs\n",
    "\n",
    "gme = 0\n",
    "fac = {}\n",
    "for icoo in range(ncoo):\n",
    "    for jcoo in range(ncoo):\n",
    "        fac[icoo] = 1\n",
    "        fac[jcoo] = -1\n",
    "\n",
    "        if icoo != jcoo:\n",
    "            dme = np.prod(\n",
    "                [\n",
    "                    (\n",
    "                        fac[icoo_]\n",
    "                        * contr_dme[icoo_][\n",
    "                            np.ix_(\n",
    "                                deriv_mind[icoo_, :],\n",
    "                                bas_mind[icoo_, :],\n",
    "                                bas_mind[icoo_, :],\n",
    "                            )\n",
    "                        ]\n",
    "                        if icoo_ == icoo or icoo_ == jcoo\n",
    "                        else contr_me[icoo_][\n",
    "                            np.ix_(\n",
    "                                deriv_mind[icoo_, :],\n",
    "                                bas_mind[icoo_, :],\n",
    "                                bas_mind[icoo_, :],\n",
    "                            )\n",
    "                        ]\n",
    "                    )\n",
    "                    for icoo_ in range(ncoo)\n",
    "                ],\n",
    "                axis=0,\n",
    "            )\n",
    "        else:\n",
    "            dme = np.prod(\n",
    "                [\n",
    "                    (\n",
    "                        contr_d2me[icoo_][\n",
    "                            np.ix_(\n",
    "                                deriv_mind[icoo_, :],\n",
    "                                bas_mind[icoo_, :],\n",
    "                                bas_mind[icoo_, :],\n",
    "                            )\n",
    "                        ]\n",
    "                        if icoo_ == icoo\n",
    "                        else contr_me[icoo_][\n",
    "                            np.ix_(\n",
    "                                deriv_mind[icoo_, :],\n",
    "                                bas_mind[icoo_, :],\n",
    "                                bas_mind[icoo_, :],\n",
    "                            )\n",
    "                        ]\n",
    "                    )\n",
    "                    for icoo_ in range(ncoo)\n",
    "                ],\n",
    "                axis=0,\n",
    "            )\n",
    "        gme += dme.T @ Gmat_coefs[:, icoo, jcoo]\n",
    "\n",
    "\n",
    "hme = 0.5 * gme + vme\n",
    "e, v = np.linalg.eigh(hme)\n",
    "print(e[0], e - e[0])"
   ]
  },
  {
   "cell_type": "code",
   "execution_count": null,
   "id": "cfb933ee-23d7-450f-b873-676ef0df4c50",
   "metadata": {},
   "outputs": [],
   "source": []
  }
 ],
 "metadata": {
  "kernelspec": {
   "display_name": "py310_clone",
   "language": "python",
   "name": "py310_clone"
  },
  "language_info": {
   "codemirror_mode": {
    "name": "ipython",
    "version": 3
   },
   "file_extension": ".py",
   "mimetype": "text/x-python",
   "name": "python",
   "nbconvert_exporter": "python",
   "pygments_lexer": "ipython3",
   "version": "3.10.14"
  }
 },
 "nbformat": 4,
 "nbformat_minor": 5
}
