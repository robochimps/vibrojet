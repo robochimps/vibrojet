{
 "cells": [
  {
   "cell_type": "markdown",
   "metadata": {},
   "source": [
    "# Taylor series expansion of the vibrational kinetic energy operator for a triatomic molecule\n",
    "\n",
    "In this example, we compute Taylor series expansion coefficients for the pure vibrational part of $G$-matrix and pseudopotential of a triatomic molecule (water) in terms of valence coordinates."
   ]
  },
  {
   "cell_type": "code",
   "execution_count": 1,
   "metadata": {},
   "outputs": [],
   "source": [
    "import itertools\n",
    "\n",
    "import jax\n",
    "import jax.numpy as jnp\n",
    "import numpy as np\n",
    "from scipy.special import factorial\n",
    "\n",
    "from vibrojet.keo import Gmat, pseudo, com\n",
    "from vibrojet.taylor import deriv_list\n",
    "\n",
    "jax.config.update(\"jax_enable_x64\", True)"
   ]
  },
  {
   "cell_type": "markdown",
   "metadata": {},
   "source": [
    "Use Taylor-mode automatic differentiation to compute Taylor expansion of $G$-matrix."
   ]
  },
  {
   "cell_type": "code",
   "execution_count": 2,
   "metadata": {},
   "outputs": [
    {
     "name": "stdout",
     "output_type": "stream",
     "text": [
      "max expansion order: 4\n",
      "number of expansion terms: 35\n",
      "(35, 9, 9)\n"
     ]
    }
   ],
   "source": [
    "# Masses of O, H, H atoms\n",
    "masses = np.array([15.9994, 1.00782505, 1.00782505])\n",
    "\n",
    "# Equilibrium values of valence coordinates\n",
    "r1, r2, alpha = 0.958, 0.958, 1.824\n",
    "q0 = jnp.array([r1, r2, alpha], dtype=jnp.float64)\n",
    "\n",
    "\n",
    "# Valence-to-Cartesian coordinate transformation\n",
    "#   input: array of three valence coordinates\n",
    "#   output: array of shape (number of atoms, 3) containing Cartesian coordinates of atoms\n",
    "# `com` shifts origin to the centre of mass\n",
    "@com(masses)\n",
    "def valence_to_cartesian(q):\n",
    "    r1, r2, a = q\n",
    "    return jnp.array(\n",
    "        [\n",
    "            [0.0, 0.0, 0.0],\n",
    "            [r1 * jnp.sin(a / 2), 0.0, r1 * jnp.cos(a / 2)],\n",
    "            [-r2 * jnp.sin(a / 2), 0.0, r2 * jnp.cos(a / 2)],\n",
    "        ]\n",
    "    )\n",
    "\n",
    "\n",
    "# Generate list of multi-indices specifying the integer exponents for each\n",
    "# coordinate in the Taylor series expansion\n",
    "max_order = 4  # max total expansion order\n",
    "deriv_ind = [\n",
    "    elem\n",
    "    for elem in itertools.product(*[range(0, max_order + 1) for _ in range(len(q0))])\n",
    "    if sum(elem) <= max_order\n",
    "]\n",
    "print(\"max expansion order:\", max_order)\n",
    "print(\"number of expansion terms:\", len(deriv_ind))\n",
    "\n",
    "# Function for computing kinetic G-matrix for given masses of atoms\n",
    "# and internal coordinates\n",
    "func = lambda x: Gmat(x, masses, valence_to_cartesian)\n",
    "\n",
    "# Compute Taylor series expansion coefficients\n",
    "Gmat_coefs = deriv_list(func, deriv_ind, q0, if_taylor=True)\n",
    "\n",
    "print(Gmat_coefs.shape)  # (number of expansion terms, ncoo+3+3, ncoo+3+3)"
   ]
  },
  {
   "cell_type": "markdown",
   "metadata": {},
   "source": [
    "Optionally, compare the results with computationally more intensive calculations using nested `jacfwd` calls"
   ]
  },
  {
   "cell_type": "code",
   "execution_count": 3,
   "metadata": {},
   "outputs": [
    {
     "name": "stdout",
     "output_type": "stream",
     "text": [
      "max difference for G-matrix: 4.416911281168723e-12\n"
     ]
    }
   ],
   "source": [
    "def jacfwd(x0, ind):\n",
    "    f = func\n",
    "    for _ in range(sum(ind)):\n",
    "        f = jax.jacfwd(f)\n",
    "    i = sum([(i,) * o for i, o in enumerate(ind)], start=tuple())\n",
    "    return f(x0)[:, :, *i]\n",
    "\n",
    "\n",
    "Gmat_coefs2 = np.array([jacfwd(q0, ind) / np.prod(factorial(ind)) for ind in deriv_ind])\n",
    "\n",
    "print(\"max difference for G-matrix:\", np.max(np.abs(Gmat_coefs - Gmat_coefs2)))"
   ]
  },
  {
   "cell_type": "markdown",
   "metadata": {},
   "source": [
    "Compute expansion for pseudopotential"
   ]
  },
  {
   "cell_type": "code",
   "execution_count": 4,
   "metadata": {},
   "outputs": [
    {
     "name": "stdout",
     "output_type": "stream",
     "text": [
      "max expansion order: 2\n",
      "number of expansion terms: 10\n"
     ]
    }
   ],
   "source": [
    "max_order = 2  # max total expansion order\n",
    "deriv_ind = [\n",
    "    elem\n",
    "    for elem in itertools.product(*[range(0, max_order + 1) for _ in range(len(q0))])\n",
    "    if sum(elem) <= max_order\n",
    "]\n",
    "print(\"max expansion order:\", max_order)\n",
    "print(\"number of expansion terms:\", len(deriv_ind))\n",
    "\n",
    "func = lambda x: pseudo(x, masses, valence_to_cartesian)\n",
    "\n",
    "pseudo_coefs = deriv_list(func, deriv_ind, q0, if_taylor=True)"
   ]
  },
  {
   "cell_type": "markdown",
   "metadata": {},
   "source": [
    "Optionally, compare the results with calculations using nested `jacfwd` calls"
   ]
  },
  {
   "cell_type": "code",
   "execution_count": 5,
   "metadata": {},
   "outputs": [
    {
     "name": "stdout",
     "output_type": "stream",
     "text": [
      "max difference for pseudopotential: 8.79474271187064e-12\n"
     ]
    }
   ],
   "source": [
    "def jacfwd(x0, ind):\n",
    "    f = func\n",
    "    for _ in range(sum(ind)):\n",
    "        f = jax.jacfwd(f)\n",
    "    i = sum([(i,) * o for i, o in enumerate(ind)], start=tuple())\n",
    "    return f(x0)[*i]\n",
    "\n",
    "\n",
    "pseudo_coefs2 = np.array(\n",
    "    [jacfwd(q0, ind) / np.prod(factorial(ind)) for ind in deriv_ind]\n",
    ")\n",
    "\n",
    "print(\n",
    "    \"max difference for pseudopotential:\", np.max(np.abs(pseudo_coefs - pseudo_coefs2))\n",
    ")"
   ]
  },
  {
   "cell_type": "code",
   "execution_count": null,
   "metadata": {},
   "outputs": [],
   "source": []
  }
 ],
 "metadata": {
  "kernelspec": {
   "display_name": "myenv",
   "language": "python",
   "name": "python3"
  },
  "language_info": {
   "codemirror_mode": {
    "name": "ipython",
    "version": 3
   },
   "file_extension": ".py",
   "mimetype": "text/x-python",
   "name": "python",
   "nbconvert_exporter": "python",
   "pygments_lexer": "ipython3",
   "version": "3.13.0"
  }
 },
 "nbformat": 4,
 "nbformat_minor": 2
}
