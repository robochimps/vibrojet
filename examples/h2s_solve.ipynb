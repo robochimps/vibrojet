{
 "cells": [
  {
   "cell_type": "markdown",
   "id": "36e1554a",
   "metadata": {},
   "source": [
    "# Example of computing vibrational energy levels of a triatomic molecule using the Taylor series expansion approximation for the kinetic and potential energy operators\n",
    "\n",
    "Compute vibrational states of $\\text{H}_2\\text{S}$ molecule using the potential energy surface from\n",
    "[A. A. A. Azzam, J. Tennyson, S. N. Yurchenko, O. V. Naumenko, \"ExoMol molecular line lists - XVI. The rotation–vibration spectrum of hot H2S\", MNRAS 460, 4063–4074 (2016)](https://doi.org/10.1093/mnras/stw1133)\n"
   ]
  },
  {
   "cell_type": "code",
   "execution_count": 1,
   "id": "ce48a54e",
   "metadata": {},
   "outputs": [],
   "source": [
    "import itertools\n",
    "import os\n",
    "\n",
    "import jax\n",
    "import jax.numpy as jnp\n",
    "import numpy as np\n",
    "from scipy import optimize\n",
    "\n",
    "from vibrojet.basis_utils import ContrBasis, HermiteBasis\n",
    "from vibrojet.keo import Gmat, pseudo, com\n",
    "from vibrojet.potentials import h2s_AYT2\n",
    "from vibrojet.taylor import deriv_list\n",
    "\n",
    "jax.config.update(\"jax_enable_x64\", True)"
   ]
  },
  {
   "cell_type": "markdown",
   "id": "6fcbef87",
   "metadata": {},
   "source": [
    "Compute equilibrium coordinates, around which the Taylor series expansions will be built"
   ]
  },
  {
   "cell_type": "code",
   "execution_count": 2,
   "id": "59171cc5",
   "metadata": {},
   "outputs": [
    {
     "name": "stdout",
     "output_type": "stream",
     "text": [
      "Equilibrium coordinates: [1.3358387  1.3358387  1.61042427]\n",
      "Min of the potential: -0.0007846164047977397\n"
     ]
    }
   ],
   "source": [
    "vmin = optimize.minimize(h2s_AYT2.poten, [1, 1, 90 * np.pi / 180])\n",
    "r0 = vmin.x\n",
    "v0 = vmin.fun\n",
    "print(\"Equilibrium coordinates:\", r0)\n",
    "print(\"Min of the potential:\", v0)"
   ]
  },
  {
   "cell_type": "markdown",
   "id": "f6fdbbd2",
   "metadata": {},
   "source": [
    "Define mapping function from internal valence coordinates, $r_1$, $r_2$, and $\\alpha$, to Cartesian coordinates"
   ]
  },
  {
   "cell_type": "code",
   "execution_count": 3,
   "id": "9393262b",
   "metadata": {},
   "outputs": [],
   "source": [
    "masses = [31.97207070, 1.00782505, 1.00782505]  # masses of S, H, H\n",
    "\n",
    "ncoo = len(r0)\n",
    "\n",
    "\n",
    "@com(masses)\n",
    "def internal_to_cartesian(coords):\n",
    "    r1, r2, alpha = coords\n",
    "    return jnp.array(\n",
    "        [\n",
    "            [0.0, 0.0, 0.0],\n",
    "            [r1 * jnp.cos(alpha / 2), 0.0, r1 * jnp.sin(alpha / 2)],\n",
    "            [r2 * jnp.cos(alpha / 2), 0.0, -r2 * jnp.sin(alpha / 2)],\n",
    "        ]\n",
    "    )"
   ]
  },
  {
   "cell_type": "markdown",
   "id": "d960bfae-2dd9-49ec-9837-44e4749538b6",
   "metadata": {},
   "source": [
    "Compute Taylor series expansion of the $G$-matrix and potential\n",
    "\n",
    "$$\n",
    "G_{\\lambda,\\mu}=\\sum_{\\mathbf{t}} g_{\\mathbf{t},\\lambda,\\mu} (r_1-r_1^\\text{(eq)})^{t_1}(r_2-r_2^\\text{(eq)})^{t_2}(\\alpha-\\alpha^\\text{(eq)})^{t_3},\n",
    "$$\n",
    "\n",
    "$$\n",
    "V=\\sum_{\\mathbf{t}} f_{\\mathbf{t}} (r_1-r_1^\\text{(eq)})^{t_1}(r_2-r_2^\\text{(eq)})^{t_2}(\\alpha-\\alpha^\\text{(eq)})^{t_3},\n",
    "$$\n",
    "\n",
    " where the derivative multi-index $\\mathbf{t}$ is stored in `gmat_terms` and `poten_terms`, and the expansion coefficients $g_{\\mathbf{t},\\lambda,\\mu}$ and $f_{\\mathbf{t}}$ in `gmat_coefs[:len(gmat_terms),:3N, :3N]` and `poten_coefs[:len(poten_terms)]` respectively, where $N$ is the number of atoms\n"
   ]
  },
  {
   "cell_type": "code",
   "execution_count": 4,
   "id": "78fcf11c",
   "metadata": {},
   "outputs": [
    {
     "name": "stdout",
     "output_type": "stream",
     "text": [
      "max expansion order for G-matrix: 8\n",
      "number of expansion terms in G-matrix: 165\n",
      "load G-matrix expansion coefs from file _h2s_gmat_coefs_8.npy (delete file to recompute coefficients)\n",
      "load pseudopotential expansion coefs from file _h2s_pseudo_coefs_8.npy (delete file to recompute coefficients)\n"
     ]
    }
   ],
   "source": [
    "gmat_max_order = 8  # max total expansion order\n",
    "\n",
    "gmat_terms = np.array(\n",
    "    [\n",
    "        elem\n",
    "        for elem in itertools.product(\n",
    "            *[range(0, gmat_max_order + 1) for _ in range(len(r0))]\n",
    "        )\n",
    "        if sum(elem) <= gmat_max_order\n",
    "    ]\n",
    ")\n",
    "pseudo_terms = gmat_terms\n",
    "print(\"max expansion order for G-matrix:\", gmat_max_order)\n",
    "print(\"number of expansion terms in G-matrix:\", len(gmat_terms))\n",
    "\n",
    "# expansion of G-matrix\n",
    "\n",
    "gmat_file = f\"_h2s_gmat_coefs_{gmat_max_order}.npy\"\n",
    "if os.path.exists(gmat_file):\n",
    "    print(\n",
    "        f\"load G-matrix expansion coefs from file {gmat_file} (delete file to recompute coefficients)\"\n",
    "    )\n",
    "    gmat_coefs = np.load(gmat_file)\n",
    "else:\n",
    "    gmat_coefs = deriv_list(\n",
    "        lambda x: Gmat(x, masses, internal_to_cartesian), gmat_terms, r0, if_taylor=True\n",
    "    )\n",
    "    np.save(gmat_file, gmat_coefs)\n",
    "\n",
    "# expansion of pseudopotential\n",
    "\n",
    "pseudo_file = f\"_h2s_pseudo_coefs_{gmat_max_order}.npy\"\n",
    "if os.path.exists(pseudo_file):\n",
    "    print(\n",
    "        f\"load pseudopotential expansion coefs from file {pseudo_file} (delete file to recompute coefficients)\"\n",
    "    )\n",
    "    pseudo_coefs = np.load(pseudo_file)\n",
    "else:\n",
    "    pseudo_coefs = deriv_list(\n",
    "        lambda x: pseudo(x, masses, internal_to_cartesian),\n",
    "        gmat_terms,\n",
    "        r0,\n",
    "        if_taylor=True,\n",
    "    )\n",
    "    np.save(pseudo_file, pseudo_coefs)"
   ]
  },
  {
   "cell_type": "code",
   "execution_count": 5,
   "id": "66790ea2",
   "metadata": {},
   "outputs": [
    {
     "name": "stdout",
     "output_type": "stream",
     "text": [
      "max expansion order for PES: 8\n",
      "number of expansion terms in PES: 165\n",
      "load potential expansion coefs from file _h2s_poten_coefs_8.npy (delete file to recompute coefficients)\n"
     ]
    }
   ],
   "source": [
    "poten_max_order = 8\n",
    "\n",
    "poten_terms = np.array(\n",
    "    [\n",
    "        elem\n",
    "        for elem in itertools.product(\n",
    "            *[range(0, poten_max_order + 1) for _ in range(len(r0))]\n",
    "        )\n",
    "        if sum(elem) <= poten_max_order\n",
    "    ]\n",
    ")\n",
    "print(\"max expansion order for PES:\", poten_max_order)\n",
    "print(\"number of expansion terms in PES:\", len(poten_terms))\n",
    "\n",
    "poten_file = f\"_h2s_poten_coefs_{poten_max_order}.npy\"\n",
    "if os.path.exists(poten_file):\n",
    "    print(\n",
    "        f\"load potential expansion coefs from file {poten_file} (delete file to recompute coefficients)\"\n",
    "    )\n",
    "    poten_coefs = np.load(poten_file)\n",
    "else:\n",
    "    poten_coefs = deriv_list(h2s_AYT2.poten, poten_terms, r0, if_taylor=True)\n",
    "    np.save(poten_file, poten_coefs)"
   ]
  },
  {
   "cell_type": "markdown",
   "id": "d678846e",
   "metadata": {},
   "source": [
    "Define mapping between the coordinate $x\\in (-\\infty, \\infty)$ of Hermite basis functions and the internal valence coordinates as $r_1=a_1 x_1 + b_1$, $r_2=a_2x_2+b_2$, $\\alpha=a_3x_3+b_3$. The parameters $a_1,b_1,...,b_3$ are determined by mapping the vibrational Hamiltonian in valence coordinates onto the harmonic-oscillator Hamiltonian."
   ]
  },
  {
   "cell_type": "code",
   "execution_count": 6,
   "id": "b7a0f44b",
   "metadata": {},
   "outputs": [
    {
     "name": "stdout",
     "output_type": "stream",
     "text": [
      "x->r linear mapping parameters 'a': [0.11245619 0.11245619 0.17845517]\n",
      "x->r linear mapping parameters 'b': [1.3358387  1.3358387  1.61042427]\n"
     ]
    }
   ],
   "source": [
    "mask = gmat_terms != 0  # Mask for derivatives\n",
    "\n",
    "# Vibrational G-matrix elements at equilibrium geometry\n",
    "ind0 = np.where(mask.sum(axis=1) == 0)[0][0]\n",
    "mu = np.diag(gmat_coefs[ind0])[:ncoo]\n",
    "\n",
    "# Second-order derivative of potential at equilibrium\n",
    "mask = poten_terms != 0  # Mask for derivatives\n",
    "ind2 = np.array(\n",
    "    [   np.where((mask.sum(axis=1) == 1) & (poten_terms[:, icoo] == 2))[0][0]\n",
    "        for icoo in range(ncoo)]\n",
    ")\n",
    "\n",
    "freq = poten_coefs[ind2] * 2\n",
    "\n",
    "# Linear mapping parameters\n",
    "lin_a = jnp.sqrt(jnp.sqrt(mu / freq))\n",
    "lin_b = r0\n",
    "\n",
    "print(\"x->r linear mapping parameters 'a':\", lin_a)\n",
    "print(\"x->r linear mapping parameters 'b':\", lin_b)\n",
    "\n",
    "# Linear mapping function and its derivative\n",
    "x_to_r_map = lambda x, icoo: lin_a[icoo] * x + lin_b[icoo]"
   ]
  },
  {
   "cell_type": "code",
   "execution_count": 7,
   "id": "a8e20e1b",
   "metadata": {},
   "outputs": [],
   "source": [
    "nbas = [30, 30, 24]\n",
    "npoints = [80] * ncoo\n",
    "\n",
    "bas_r1, bas_r2, bas_alpha = [\n",
    "    HermiteBasis(\n",
    "        icoo,\n",
    "        nbas[icoo],\n",
    "        npoints[icoo],\n",
    "        lambda x: x_to_r_map(x, icoo),\n",
    "        lambda r: r - r0[icoo],\n",
    "        lambda r: r - r0[icoo],\n",
    "        gmat_terms[:, icoo],\n",
    "        poten_terms[:, icoo],\n",
    "        pseudo_terms[:, icoo],\n",
    "    )\n",
    "    for icoo in range(ncoo)\n",
    "]"
   ]
  },
  {
   "cell_type": "code",
   "execution_count": 8,
   "id": "4332d18b",
   "metadata": {},
   "outputs": [
    {
     "name": "stdout",
     "output_type": "stream",
     "text": [
      "Solutions for r1 mode:\n",
      " zpe = 2361.7950570907624\n",
      " [    0.          2627.83310095  5165.68583648  7629.77901979\n",
      " 10056.05642783 12496.83825129 15001.60164644 17601.69818093\n",
      " 20311.16466355 23134.07657558 26069.98236833 29116.65213762\n",
      " 32271.47762591 35532.58893808]\n",
      "\n",
      "Solutions for r2 mode:\n",
      " zpe = 2361.795057137522\n",
      " [    0.          2627.83310095  5165.68583648  7629.77901976\n",
      " 10056.05642772 12496.83825106 15001.60164602 17601.69818028\n",
      " 20311.16466265 23134.07657442 26069.98236687 29116.65213587\n",
      " 32271.47762385 35532.5889357 ]\n",
      "\n",
      "Solutions for alpha mode:\n",
      " zpe = 2026.5007139178238\n",
      " [    0.          1214.1828581   2422.52098472  3624.57606553\n",
      "  4819.78084361  6007.22739247  7185.15140905  7351.13931048\n",
      "  8350.72917815  9496.80946149 10608.78971238 11656.6267001\n",
      " 12623.30073129 13598.36265685 14676.14362905 15845.09195459\n",
      " 17086.46640086 18383.87068341 19733.52931523 21161.16514744\n",
      " 22547.85661979 24182.30837895 25650.8574639  27516.3243721 ]\n"
     ]
    }
   ],
   "source": [
    "bas_r1, bas_r2, bas_alpha = [\n",
    "    ContrBasis(\n",
    "        (icoo,),\n",
    "        [bas_r1, bas_r2, bas_alpha],\n",
    "        lambda _: True,\n",
    "        gmat_terms,\n",
    "        gmat_coefs,\n",
    "        poten_terms,\n",
    "        poten_coefs,\n",
    "        emax=40000,\n",
    "    )\n",
    "    for icoo in range(ncoo)\n",
    "]\n",
    "\n",
    "e = bas_r1.enr\n",
    "print(\"Solutions for r1 mode:\\n\", f\"zpe = {e[0]}\\n\", e - e[0])\n",
    "e = bas_r2.enr\n",
    "print(\"\\nSolutions for r2 mode:\\n\", f\"zpe = {e[0]}\\n\", e - e[0])\n",
    "e = bas_alpha.enr\n",
    "print(\"\\nSolutions for alpha mode:\\n\", f\"zpe = {e[0]}\\n\", e - e[0])"
   ]
  },
  {
   "cell_type": "code",
   "execution_count": 9,
   "id": "89b90f7f",
   "metadata": {},
   "outputs": [
    {
     "name": "stdout",
     "output_type": "stream",
     "text": [
      "Solutions for r1+r2 modes:\n",
      " zpe = 3007.6990842319456\n",
      " [    0.          2619.90705667  2634.8276465   5162.02005279\n",
      "  5164.09721121  5256.79160138  7624.76506304  7624.98092962\n",
      "  7777.25184655  7808.28535541 10043.99499206 10044.16583823\n",
      " 10250.03809698 10254.24460664 10341.27565912 12465.94443921\n",
      " 12465.9880656  12675.59150262 12680.95873993 12784.76619573\n",
      " 12831.35654899 14922.64250302 14922.81774822 15113.73208083\n",
      " 15120.85597332 15236.04565629 15244.47015989 15316.94989962\n",
      " 17415.62402997 17416.78502129 17591.76911473 17605.69269665\n",
      " 17708.08285624 17712.16906552 17783.01057169 17827.16046844\n",
      " 19943.09630031 19948.31598366 20086.09714161 20110.66965888\n",
      " 20211.94617504 20218.17776495 20287.50073459 20451.59139603\n",
      " 20461.01277018 22509.70899216 22530.21894059 22594.90067929\n",
      " 22635.29051442 22738.85409258 22796.31685408 22909.43217483\n",
      " 22953.78071497 23271.99211995 23274.18600127 25078.04379493\n",
      " 25106.78947529 25205.36068661 25229.12038641 25384.35159444\n",
      " 25464.2595517  25573.17196892 25759.45872861 25777.98723432\n",
      " 26275.93912001 26277.31321999]\n"
     ]
    }
   ],
   "source": [
    "def select_quanta(ind):\n",
    "    cond =np.sum(ind)<=10\n",
    "    # if cond:\n",
    "    #     print(ind)\n",
    "    return cond\n",
    "\n",
    "bas_r1_r2 = ContrBasis(\n",
    "    (0, 1),\n",
    "    (bas_r1, bas_r2, bas_alpha),\n",
    "    select_quanta,\n",
    "    gmat_terms,\n",
    "    gmat_coefs,\n",
    "    poten_terms,\n",
    "    poten_coefs,\n",
    "    emax=40000,\n",
    ")\n",
    "\n",
    "e = bas_r1_r2.enr\n",
    "print(\"Solutions for r1+r2 modes:\\n\", f\"zpe = {e[0]}\\n\", e - e[0])"
   ]
  },
  {
   "cell_type": "code",
   "execution_count": 10,
   "id": "67eef3d4",
   "metadata": {},
   "outputs": [
    {
     "name": "stdout",
     "output_type": "stream",
     "text": [
      "13\n",
      "Solutions for r1+r2+alpha modes:\n",
      " zpe = 3300.8614510239067\n",
      " [   0.         1182.77903903 2361.24957436 2619.11753962 2631.05710132\n",
      " 3549.27328806 3797.31855916 3798.73203777 4721.75186548 4966.84620744\n",
      " 4976.62818808 5158.44031537 5159.68186747]\n"
     ]
    }
   ],
   "source": [
    "p_max = 4\n",
    "\n",
    "\n",
    "def select_quanta(ind):\n",
    "    ind_str, ind_bnd = ind\n",
    "    cond = int(np.ceil(ind_str / 2)) * 2 + ind_bnd <= p_max\n",
    "    # cond = ind_str + ind_bnd <= p_max\n",
    "    # if cond:\n",
    "    #     print(ind)\n",
    "    return cond\n",
    "\n",
    "\n",
    "bas_r1_r2_alpha = ContrBasis(\n",
    "    (0, 1),\n",
    "    (bas_r1_r2, bas_alpha),\n",
    "    select_quanta,\n",
    "    gmat_terms,\n",
    "    gmat_coefs,\n",
    "    poten_terms,\n",
    "    poten_coefs,\n",
    ")\n",
    "\n",
    "e = bas_r1_r2_alpha.enr\n",
    "print(len(e))\n",
    "print(\"Solutions for r1+r2+alpha modes:\\n\", f\"zpe = {e[0]}\\n\", e - e[0])"
   ]
  },
  {
   "cell_type": "code",
   "execution_count": 11,
   "id": "5f71106b",
   "metadata": {},
   "outputs": [
    {
     "name": "stdout",
     "output_type": "stream",
     "text": [
      "14\n",
      "Solutions for r1+r2+alpha modes:\n",
      " zpe = 3300.860811017275\n",
      " [   0.         1182.79323452 2361.27810455 2618.96029563 2631.08481639\n",
      " 3549.45945933 3797.31861866 3798.92604393 4721.98390385 4967.14211047\n",
      " 4976.73952383 5158.62053948 5159.9018466  5252.05117218]\n"
     ]
    }
   ],
   "source": [
    "p_coefs = np.array([2, 2, 1])\n",
    "p_max = 4\n",
    "\n",
    "\n",
    "def select_quanta(ind):\n",
    "    cond = np.sum(np.array(ind) * p_coefs) <= p_max\n",
    "    # if cond:\n",
    "    #     print(ind)\n",
    "    return cond\n",
    "\n",
    "\n",
    "bas_r1_r2_alpha = ContrBasis(\n",
    "    (0, 1, 2),\n",
    "    (bas_r1, bas_r2, bas_alpha),\n",
    "    select_quanta,\n",
    "    gmat_terms,\n",
    "    gmat_coefs,\n",
    "    poten_terms,\n",
    "    poten_coefs,\n",
    ")\n",
    "\n",
    "e = bas_r1_r2_alpha.enr\n",
    "print(len(e))\n",
    "print(\"Solutions for r1+r2+alpha modes:\\n\", f\"zpe = {e[0]}\\n\", e - e[0])"
   ]
  },
  {
   "cell_type": "code",
   "execution_count": null,
   "id": "1eebe2ff",
   "metadata": {},
   "outputs": [],
   "source": []
  }
 ],
 "metadata": {
  "kernelspec": {
   "display_name": "myenv",
   "language": "python",
   "name": "python3"
  },
  "language_info": {
   "codemirror_mode": {
    "name": "ipython",
    "version": 3
   },
   "file_extension": ".py",
   "mimetype": "text/x-python",
   "name": "python",
   "nbconvert_exporter": "python",
   "pygments_lexer": "ipython3",
   "version": "3.13.3"
  }
 },
 "nbformat": 4,
 "nbformat_minor": 5
}
