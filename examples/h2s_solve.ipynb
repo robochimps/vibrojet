{
 "cells": [
  {
   "cell_type": "markdown",
   "id": "36e1554a",
   "metadata": {},
   "source": [
    "# Example of computing vibrational energy levels of a triatomic molecule using the Taylor series expansion approximation for the kinetic and potential energy operators\n",
    "\n",
    "Compute vibrational states of $\\text{H}_2\\text{S}$ molecule using the potential energy surface from\n",
    "[A. A. A. Azzam, J. Tennyson, S. N. Yurchenko, O. V. Naumenko, \"ExoMol molecular line lists - XVI. The rotation–vibration spectrum of hot H2S\", MNRAS 460, 4063–4074 (2016)](https://doi.org/10.1093/mnras/stw1133)\n"
   ]
  },
  {
   "cell_type": "code",
   "execution_count": 1,
   "id": "ce48a54e",
   "metadata": {},
   "outputs": [],
   "source": [
    "from typing import Callable, List\n",
    "\n",
    "import jax\n",
    "import jax.numpy as jnp\n",
    "import numpy as np\n",
    "from numpy.polynomial.hermite import hermder, hermgauss, hermval\n",
    "from scipy import optimize\n",
    "from scipy.special import factorial\n",
    "\n",
    "from vibrojet.keo import Gmat, com\n",
    "from vibrojet.potentials import h2s_AYT2\n",
    "from vibrojet.taylor import deriv_list\n",
    "\n",
    "jax.config.update(\"jax_enable_x64\", True)"
   ]
  },
  {
   "cell_type": "markdown",
   "id": "6fcbef87",
   "metadata": {},
   "source": [
    "Compute equilibrium coordinates, around which the Taylor series expansions will be built"
   ]
  },
  {
   "cell_type": "code",
   "execution_count": 2,
   "id": "59171cc5",
   "metadata": {},
   "outputs": [
    {
     "name": "stdout",
     "output_type": "stream",
     "text": [
      "Equilibrium coordinates: [1.3358387  1.3358387  1.61042427]\n",
      "Min of the potential: -0.0007846164047977397\n"
     ]
    }
   ],
   "source": [
    "vmin = optimize.minimize(h2s_AYT2.poten, [1, 1, 90 * np.pi / 180])\n",
    "r0 = vmin.x\n",
    "v0 = vmin.fun\n",
    "print(\"Equilibrium coordinates:\", r0)\n",
    "print(\"Min of the potential:\", v0)"
   ]
  },
  {
   "cell_type": "markdown",
   "id": "f6fdbbd2",
   "metadata": {},
   "source": [
    "Define mapping function from internal valence coordinates, $r_1$, $r_2$, and $\\alpha$, to Cartesian coordinates"
   ]
  },
  {
   "cell_type": "code",
   "execution_count": 3,
   "id": "9393262b",
   "metadata": {},
   "outputs": [],
   "source": [
    "masses = [31.97207070, 1.00782505, 1.00782505]  # masses of S, H, H\n",
    "\n",
    "ncoo = len(r0)\n",
    "\n",
    "\n",
    "@com(masses)\n",
    "def internal_to_cartesian(coords):\n",
    "    r1, r2, alpha = coords\n",
    "    return jnp.array(\n",
    "        [\n",
    "            [0.0, 0.0, 0.0],\n",
    "            [r1 * jnp.cos(alpha / 2), 0.0, r1 * jnp.sin(alpha / 2)],\n",
    "            [r2 * jnp.cos(alpha / 2), 0.0, -r2 * jnp.sin(alpha / 2)],\n",
    "        ]\n",
    "    )"
   ]
  },
  {
   "cell_type": "markdown",
   "id": "492c67df",
   "metadata": {},
   "source": [
    "Utility function for generating index combinations corresponding to products of primitive basis functions as well as derivative indices used in the expansion of operators"
   ]
  },
  {
   "cell_type": "code",
   "execution_count": 4,
   "id": "c48df55c",
   "metadata": {},
   "outputs": [],
   "source": [
    "def generate_prod_ind(\n",
    "    indices: List[List[int]],\n",
    "    select: Callable[[List[int]], bool] = lambda _: True,\n",
    "    batch_size: int = None,\n",
    "):\n",
    "    no_elem = np.array([len(elem) for elem in indices])\n",
    "    tot_size = np.prod(no_elem)\n",
    "    if batch_size is None:\n",
    "        batch_size = tot_size\n",
    "    no_batches = (tot_size + batch_size - 1) // batch_size\n",
    "\n",
    "    for ibatch in range(no_batches):\n",
    "        start_ind = ibatch * batch_size\n",
    "        end_ind = np.minimum(start_ind + batch_size, tot_size)\n",
    "        batch_ind = np.arange(start_ind, end_ind)\n",
    "        multi_ind = np.array(np.unravel_index(batch_ind, no_elem))\n",
    "        indices_out = np.array(\n",
    "            [indices[icoo][multi_ind[icoo, :]] for icoo in range(len(indices))]\n",
    "        ).T\n",
    "        select_ind = np.where(np.asarray([select(elem) for elem in indices_out]))\n",
    "        yield indices_out[select_ind], multi_ind[:, select_ind[0]]"
   ]
  },
  {
   "cell_type": "markdown",
   "id": "11be2c89",
   "metadata": {},
   "source": [
    "Compute Taylor series expansion of the $G$-matrix and potential\n",
    "\n",
    "$$\n",
    "G_{\\lambda,\\mu}=\\sum_{\\mathbf{t}} g_{\\mathbf{t},\\lambda,\\mu} (r_1-r_1^\\text{(eq)})^{t_1}(r_2-r_2^\\text{(eq)})^{t_2}(\\alpha-\\alpha^\\text{(eq)})^{t_3},\n",
    "$$\n",
    "\n",
    "$$\n",
    "V=\\sum_{\\mathbf{t}} f_{\\mathbf{t}} (r_1-r_1^\\text{(eq)})^{t_1}(r_2-r_2^\\text{(eq)})^{t_2}(\\alpha-\\alpha^\\text{(eq)})^{t_3},\n",
    "$$\n",
    "\n",
    " where the derivative multi-index $\\mathbf{t}$ is stored in `deriv_ind`, and the expansion coefficients $g_{\\mathbf{t},\\lambda,\\mu}$ and $f_{\\mathbf{t}}$ in `Gmat_coefs[:len(deriv_ind),:3N, :3N]` and `poten_coefs[:len(deriv_ind)]` respectively, where $N$ is the number of atoms"
   ]
  },
  {
   "cell_type": "code",
   "execution_count": 5,
   "id": "fc1a8b33",
   "metadata": {},
   "outputs": [
    {
     "name": "stdout",
     "output_type": "stream",
     "text": [
      "Max expansion power: 6\n",
      "Number of expansion terms: 84\n"
     ]
    }
   ],
   "source": [
    "max_pow = 6\n",
    "powers = [np.arange(max_pow + 1)] * ncoo\n",
    "deriv_ind, deriv_mind = next(\n",
    "    generate_prod_ind(powers, select=lambda ind: np.sum(ind) <= max_pow)\n",
    ")\n",
    "\n",
    "print(\"Max expansion power:\", max_pow)\n",
    "print(\"Number of expansion terms:\", len(deriv_ind))"
   ]
  },
  {
   "cell_type": "code",
   "execution_count": 6,
   "id": "6f4e2429",
   "metadata": {},
   "outputs": [
    {
     "name": "stdout",
     "output_type": "stream",
     "text": [
      "compute expansion of potential ...\n"
     ]
    }
   ],
   "source": [
    "print(\"compute expansion of potential ...\")\n",
    "poten_coefs = deriv_list(h2s_AYT2.poten, deriv_ind, r0, if_taylor=True)"
   ]
  },
  {
   "cell_type": "code",
   "execution_count": 7,
   "id": "82a2b6d3",
   "metadata": {},
   "outputs": [
    {
     "name": "stdout",
     "output_type": "stream",
     "text": [
      "compute expansion of G-matrix ...\n"
     ]
    }
   ],
   "source": [
    "print(\"compute expansion of G-matrix ...\")\n",
    "Gmat_coefs = deriv_list(\n",
    "    lambda x: Gmat(x, masses, internal_to_cartesian), deriv_ind, r0, if_taylor=True\n",
    ")"
   ]
  },
  {
   "cell_type": "markdown",
   "id": "6737c968",
   "metadata": {},
   "source": [
    "Define primitive Hermite basis functions $\\mathcal{H}_n(x)$ and their derivatives $d\\mathcal{H}_n(x)/dx$"
   ]
  },
  {
   "cell_type": "code",
   "execution_count": 8,
   "id": "d44ce9bf",
   "metadata": {},
   "outputs": [],
   "source": [
    "def hermite(x, n):\n",
    "    sqsqpi = np.sqrt(np.sqrt(np.pi))\n",
    "    c = np.diag(1.0 / np.sqrt(2.0**n * factorial(n)) / sqsqpi)\n",
    "    f = hermval(np.asarray(x), c) * np.exp(-(x**2) / 2)\n",
    "    return f.T\n",
    "\n",
    "def hermite_deriv(x, n):\n",
    "    sqsqpi = np.sqrt(np.sqrt(np.pi))\n",
    "    c = np.diag(1.0 / np.sqrt(2.0**n * factorial(n)) / sqsqpi)\n",
    "    h = hermval(np.asarray(x), c)\n",
    "    dh = hermval(np.asarray(x), hermder(c, m=1))\n",
    "    f = (dh - h * x) * np.exp(-(x**2) / 2)\n",
    "    return f.T"
   ]
  },
  {
   "cell_type": "markdown",
   "id": "d678846e",
   "metadata": {},
   "source": [
    "Define mapping between the coordinate $x\\in (-\\infty, \\infty)$ of Hermite basis functions and the internal valence coordinates as $r_1=a_1 x_1 + b_1$, $r_2=a_2x_2+b_2$, $\\alpha=a_3x_3+b_3$. The parameters $a_1,b_1,...,b_3$ are determined by mapping the vibrational Hamiltonian in valence coordinates onto the harmonic-oscillator Hamiltonian."
   ]
  },
  {
   "cell_type": "code",
   "execution_count": 9,
   "id": "b7a0f44b",
   "metadata": {},
   "outputs": [
    {
     "name": "stdout",
     "output_type": "stream",
     "text": [
      "x->r linear mapping parameters 'a': [0.11245619 0.11245619 0.17845517]\n",
      "x->r linear mapping parameters 'b': [1.3358387  1.3358387  1.61042427]\n"
     ]
    }
   ],
   "source": [
    "mask = deriv_ind != 0\n",
    "\n",
    "# Elements of G-matrix at equilibrium\n",
    "ind0 = np.where(mask.sum(axis=1) == 0)[0][0]\n",
    "mu = np.diag(Gmat_coefs[ind0])[:ncoo]\n",
    "\n",
    "# Second-order derivative of potential at equilibrium\n",
    "ind2 = np.array(\n",
    "    [\n",
    "        np.where((mask.sum(axis=1) == 1) & (deriv_ind[:, icoo] == 2))[0][0]\n",
    "        for icoo in range(ncoo)\n",
    "    ]\n",
    ")\n",
    "freq = poten_coefs[ind2] * 2\n",
    "\n",
    "# Linear mapping parameters\n",
    "lin_a = jnp.sqrt(jnp.sqrt(mu / freq))\n",
    "lin_b = r0\n",
    "\n",
    "print(\"x->r linear mapping parameters 'a':\", lin_a)\n",
    "print(\"x->r linear mapping parameters 'b':\", lin_b)\n",
    "\n",
    "# Linear mapping function and its derivative\n",
    "x_to_r_map = lambda x, icoo: lin_a[icoo] * x + lin_b[icoo]\n",
    "jac_x_to_r_map = lambda x, icoo: np.ones_like(x) * lin_a[icoo]"
   ]
  },
  {
   "cell_type": "markdown",
   "id": "46679b1c",
   "metadata": {},
   "source": [
    "Precompute matrix elements of expansion terms in Hermite basis, i.e., $\\langle\\mathcal{H}_i|r_\\lambda^{t_\\lambda}|\\mathcal{H}_j\\rangle$, $\\langle\\mathcal{H}_i|r_\\lambda^{t_\\lambda}|\\partial_{r_\\lambda}\\mathcal{H}_j\\rangle$, and $\\langle\\partial_{r_\\lambda}\\mathcal{H}_i|r_\\lambda^{t_\\lambda}|\\partial_{r_\\lambda}\\mathcal{H}_j\\rangle$, for three internal valence coordinates $\\lambda =1..3$."
   ]
  },
  {
   "cell_type": "code",
   "execution_count": 16,
   "id": "7a25270c",
   "metadata": {},
   "outputs": [],
   "source": [
    "no_bas = [24] * ncoo\n",
    "npoints = [80] * ncoo\n",
    "\n",
    "prim_me = []\n",
    "prim_dme = []\n",
    "prim_d2me = []\n",
    "\n",
    "for icoo in range(ncoo):\n",
    "    x, w = hermgauss(npoints[icoo])\n",
    "    w /= np.exp(-(x**2))\n",
    "    r = x_to_r_map(x, icoo)\n",
    "    dr = r - r0[icoo]\n",
    "    r_pow = dr[:, None] ** powers[icoo][None, :]\n",
    "    psi = hermite(x, np.arange(no_bas[icoo] + 1))\n",
    "    dpsi = (\n",
    "        hermite_deriv(x, np.arange(no_bas[icoo] + 1)) / jac_x_to_r_map(x, icoo)[:, None]\n",
    "    )\n",
    "    me = jnp.einsum(\"gi,gt,gj,g->tij\", psi, r_pow, psi, w)\n",
    "    dme = jnp.einsum(\"gi,gt,gj,g->tij\", psi, r_pow, dpsi, w)\n",
    "    d2me = jnp.einsum(\"gi,gt,gj,g->tij\", dpsi, r_pow, dpsi, w)\n",
    "    prim_me.append(me)\n",
    "    prim_dme.append(dme)\n",
    "    prim_d2me.append(d2me)"
   ]
  },
  {
   "cell_type": "markdown",
   "id": "022b822d",
   "metadata": {},
   "source": [
    "Solve contracted problems ..."
   ]
  },
  {
   "cell_type": "code",
   "execution_count": 17,
   "id": "7c2b1ee8",
   "metadata": {},
   "outputs": [
    {
     "name": "stdout",
     "output_type": "stream",
     "text": [
      "0 2361.7892119766816 [     0.           2628.82252588   5170.63202883   7641.24915273\n",
      "  10067.06594893  12481.61932906  14917.59370122  17400.07732317\n",
      "  19944.98172078  22561.01501814  25252.33313747  28022.15051195\n",
      "  30885.0258236   33890.24235674  37139.17960787  40697.11770159\n",
      "  44626.13760067  49091.75812417  53582.45903274  58870.89057654\n",
      "  68650.59398697  86262.31051852 114543.63622474 159685.9120161\n",
      " 238353.59849477]\n",
      "1 2361.7892120232377 [     0.           2628.82252588   5170.63202882   7641.2491527\n",
      "  10067.06594885  12481.6193289   14917.59370095  17400.07732277\n",
      "  19944.98172023  22561.01501743  25252.33313659  28022.15051089\n",
      "  30885.02582234  33890.24235524  37139.17960607  40697.11769946\n",
      "  44626.13759814  49091.75812129  53582.45902944  58870.89057254\n",
      "  68650.59398227  86262.31051334 114543.63621913 159685.91201008\n",
      " 238353.59848844]\n",
      "2 2026.3208818639296 [    0.          1214.21472334  2422.60664349  3624.68903371\n",
      "  4819.88738873  6007.52005336  7186.77178498  8356.65665212\n",
      "  9515.96419433 10663.17813367 11796.34915295 12912.9039832\n",
      " 14009.50628937 15082.99977763 16136.11757274 17189.29212343\n",
      " 18279.22747238 19433.54196905 20660.34716227 21957.69419493\n",
      " 23319.90502249 24768.94122611 26238.7758789  27677.02706089\n",
      " 29908.86807014]\n"
     ]
    }
   ],
   "source": [
    "contr_vec = []\n",
    "\n",
    "for icoo in range(ncoo):\n",
    "\n",
    "    bas_ind = [\n",
    "        np.arange(no_bas[icoo] + 1) if icoo_ == icoo else np.arange(1)\n",
    "        for icoo_ in range(ncoo)\n",
    "    ]\n",
    "    bas_ind, bas_mind = next(generate_prod_ind(bas_ind))\n",
    "\n",
    "    me = np.prod(\n",
    "        [\n",
    "            prim_me[icoo_][\n",
    "                np.ix_(deriv_mind[icoo_, :], bas_mind[icoo_, :], bas_mind[icoo_, :])\n",
    "            ]\n",
    "            for icoo_ in range(ncoo)\n",
    "        ],\n",
    "        axis=0,\n",
    "    )\n",
    "\n",
    "    d2me = np.prod(\n",
    "        [\n",
    "            (\n",
    "                prim_d2me[icoo_][\n",
    "                    np.ix_(deriv_mind[icoo_, :], bas_mind[icoo_, :], bas_mind[icoo_, :])\n",
    "                ]\n",
    "                if icoo_ == icoo\n",
    "                else prim_me[icoo_][\n",
    "                    np.ix_(deriv_mind[icoo_, :], bas_mind[icoo_, :], bas_mind[icoo_, :])\n",
    "                ]\n",
    "            )\n",
    "            for icoo_ in range(ncoo)\n",
    "        ],\n",
    "        axis=0,\n",
    "    )\n",
    "\n",
    "    vme = me.T @ poten_coefs\n",
    "    gme = d2me.T @ Gmat_coefs[:, icoo, icoo]\n",
    "    hme = 0.5 * gme + vme\n",
    "    e, v = np.linalg.eigh(hme)\n",
    "    print(icoo, e[0], e - e[0])\n",
    "    contr_vec.append(v)"
   ]
  },
  {
   "cell_type": "markdown",
   "id": "d43199d1",
   "metadata": {},
   "source": [
    "Transform primitive matrix elements to the contracted basis"
   ]
  },
  {
   "cell_type": "code",
   "execution_count": 18,
   "id": "a5f3f7d4",
   "metadata": {},
   "outputs": [],
   "source": [
    "contr_me = [contr_vec[icoo].T @ prim_me[icoo] @ contr_vec[icoo] for icoo in range(ncoo)]\n",
    "contr_dme = [contr_vec[icoo].T @ prim_dme[icoo] @ contr_vec[icoo] for icoo in range(ncoo)]\n",
    "contr_d2me = [contr_vec[icoo].T @ prim_d2me[icoo] @ contr_vec[icoo] for icoo in range(ncoo)]"
   ]
  },
  {
   "cell_type": "markdown",
   "id": "754b1f31",
   "metadata": {},
   "source": [
    "Final solution "
   ]
  },
  {
   "cell_type": "code",
   "execution_count": 19,
   "id": "a8bb3f2b",
   "metadata": {},
   "outputs": [
    {
     "name": "stdout",
     "output_type": "stream",
     "text": [
      "polyad contraction number: 12\n",
      "total number of basis products: 140\n",
      "3300.950780627834 [    0.          1182.79513286  2354.55683132  2616.1577043\n",
      "  2629.46137089  3515.07707792  3781.3055432   3790.53645426\n",
      "  4664.09639833  4935.44335483  4941.04080678  5154.58801078\n",
      "  5156.09166356  5245.8819222   5801.26013574  6078.33920966\n",
      "  6080.76331473  6296.51367276  6296.86394277  6388.94154735\n",
      "  6926.21183558  7209.65214104  7209.92568363  7427.07757959\n",
      "  7427.36390327  7522.07520611  7609.14896082  7609.62978955\n",
      "  7767.4029335   7787.40036812  8038.60422988  8327.6900258\n",
      "  8330.16766049  8547.15908223  8547.68379987  8645.17325252\n",
      "  8720.41216468  8720.89806294  8895.53627912  8905.70938492\n",
      "  9141.43295258  9437.05622077  9443.00869516  9661.82987934\n",
      "  9662.08261256  9759.34604509  9826.43156788  9826.92582548\n",
      " 10001.43349757 10001.61861102 10014.59548855 10015.32012922\n",
      " 10231.49179109 10232.5837198  10237.70234358 10310.90238524\n",
      " 10538.47615121 10551.29614285 10769.54761773 10770.36189206\n",
      " 10867.5330863  10931.63010191 10931.90405602 11086.62070927\n",
      " 11086.8071536  11118.22728169 11125.48748531 11331.63672365\n",
      " 11332.06040172 11356.71417523 11414.84320432 11679.28384712\n",
      " 11704.11566091 11943.85628864 11959.82889581 12022.84623389\n",
      " 12156.51306586 12159.83303158 12266.38954816 12297.24020847\n",
      " 12304.35613455 12304.60500099 12420.02360985 12420.05252362\n",
      " 12480.77143086 12492.75292238 12553.79580156 12646.72851301\n",
      " 12658.33053931 12660.62462752 12779.09965402 12779.66416325\n",
      " 12914.13100874 13083.43829154 13138.57731916 13237.19534122\n",
      " 13339.64527733 13369.71740691 13386.72143202 13486.24712177\n",
      " 13492.66831338 13495.86807782 13580.46824709 13580.73364668\n",
      " 13606.23658749 13632.96074175 13685.85505834 13738.03371559\n",
      " 13779.27412053 13790.37839421 13790.61431779 13890.52780575\n",
      " 13924.02311063 14048.39738891 14235.30220382 14319.16181903\n",
      " 14395.4304677  14562.29228176 14564.28966388 14589.8088582\n",
      " 14667.60263525 14778.15605974 14782.62218808 14798.82269227\n",
      " 14850.66856248 14886.80477485 14946.11711207 14949.11963588\n",
      " 14973.76363981 15050.06673114 15055.03612413 15090.32105282\n",
      " 15115.96624457 15150.61804912 15150.78732532 15240.908553\n",
      " 15246.6731038  15251.95206331 15255.14489049 15275.82481331]\n"
     ]
    }
   ],
   "source": [
    "pmax = 12\n",
    "poly_coefs = np.array([2, 2, 1])\n",
    "\n",
    "bas_ind = [np.arange(no_bas[icoo] + 1) for icoo in range(ncoo)]\n",
    "bas_ind, bas_mind = next(\n",
    "    generate_prod_ind(bas_ind, select=lambda ind: np.sum(ind * poly_coefs) <= pmax)\n",
    ")\n",
    "print(\"polyad contraction number:\", pmax)\n",
    "print(\"total number of basis products:\", len(bas_ind))\n",
    "\n",
    "me = np.prod(\n",
    "    [\n",
    "        contr_me[icoo_][\n",
    "            np.ix_(deriv_mind[icoo_, :], bas_mind[icoo_, :], bas_mind[icoo_, :])\n",
    "        ]\n",
    "        for icoo_ in range(ncoo)\n",
    "    ],\n",
    "    axis=0,\n",
    ")\n",
    "\n",
    "vme = me.T @ poten_coefs\n",
    "\n",
    "gme = 0\n",
    "fac = {}\n",
    "for icoo in range(ncoo):\n",
    "    for jcoo in range(ncoo):\n",
    "        fac[icoo]=1\n",
    "        fac[jcoo]=-1\n",
    "\n",
    "        if icoo != jcoo:\n",
    "            dme = np.prod(\n",
    "                [\n",
    "                    (\n",
    "                        fac[icoo_]*contr_dme[icoo_][\n",
    "                            np.ix_(\n",
    "                                deriv_mind[icoo_, :],\n",
    "                                bas_mind[icoo_, :],\n",
    "                                bas_mind[icoo_, :],\n",
    "                            )\n",
    "                        ]\n",
    "                        if icoo_ == icoo or icoo_ == jcoo\n",
    "                        else contr_me[icoo_][\n",
    "                            np.ix_(\n",
    "                                deriv_mind[icoo_, :],\n",
    "                                bas_mind[icoo_, :],\n",
    "                                bas_mind[icoo_, :],\n",
    "                            )\n",
    "                        ]\n",
    "                    )\n",
    "                    for icoo_ in range(ncoo)\n",
    "                ],\n",
    "                axis=0,\n",
    "            )\n",
    "        else:\n",
    "            dme = np.prod(\n",
    "                [\n",
    "                    (\n",
    "                        contr_d2me[icoo_][\n",
    "                            np.ix_(\n",
    "                                deriv_mind[icoo_, :],\n",
    "                                bas_mind[icoo_, :],\n",
    "                                bas_mind[icoo_, :],\n",
    "                            )\n",
    "                        ]\n",
    "                        if icoo_ == icoo\n",
    "                        else contr_me[icoo_][\n",
    "                            np.ix_(\n",
    "                                deriv_mind[icoo_, :],\n",
    "                                bas_mind[icoo_, :],\n",
    "                                bas_mind[icoo_, :],\n",
    "                            )\n",
    "                        ]\n",
    "                    )\n",
    "                    for icoo_ in range(ncoo)\n",
    "                ],\n",
    "                axis=0,\n",
    "            )\n",
    "        gme += dme.T @ Gmat_coefs[:, icoo, jcoo]\n",
    "\n",
    "\n",
    "hme = 0.5 * gme + vme\n",
    "e, v = np.linalg.eigh(hme)\n",
    "print(e[0], e - e[0])"
   ]
  },
  {
   "cell_type": "code",
   "execution_count": null,
   "id": "0a353596",
   "metadata": {},
   "outputs": [],
   "source": []
  }
 ],
 "metadata": {
  "kernelspec": {
   "display_name": "myenv",
   "language": "python",
   "name": "python3"
  },
  "language_info": {
   "codemirror_mode": {
    "name": "ipython",
    "version": 3
   },
   "file_extension": ".py",
   "mimetype": "text/x-python",
   "name": "python",
   "nbconvert_exporter": "python",
   "pygments_lexer": "ipython3",
   "version": "3.13.0"
  }
 },
 "nbformat": 4,
 "nbformat_minor": 5
}
