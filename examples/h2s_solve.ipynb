{
 "cells": [
  {
   "cell_type": "markdown",
   "id": "36e1554a",
   "metadata": {},
   "source": [
    "# Example of computing vibrational energy levels of a triatomic molecule using the Taylor series expansion approximation for the kinetic and potential energy operators\n",
    "\n",
    "Compute vibrational states of $\\text{H}_2\\text{S}$ molecule using the potential energy surface from\n",
    "[A. A. A. Azzam, J. Tennyson, S. N. Yurchenko, O. V. Naumenko, \"ExoMol molecular line lists - XVI. The rotation–vibration spectrum of hot H2S\", MNRAS 460, 4063–4074 (2016)](https://doi.org/10.1093/mnras/stw1133)\n"
   ]
  },
  {
   "cell_type": "code",
   "execution_count": 1,
   "id": "ce48a54e",
   "metadata": {},
   "outputs": [],
   "source": [
    "from typing import Callable, List\n",
    "\n",
    "import jax\n",
    "import jax.numpy as jnp\n",
    "import numpy as np\n",
    "from numpy.polynomial.hermite import hermder, hermgauss, hermval\n",
    "from scipy import optimize\n",
    "from scipy.special import factorial\n",
    "\n",
    "from vibrojet.keo import Gmat, com\n",
    "from vibrojet.potentials import h2s_AYT2\n",
    "from vibrojet.taylor import deriv_list\n",
    "\n",
    "jax.config.update(\"jax_enable_x64\", True)"
   ]
  },
  {
   "cell_type": "markdown",
   "id": "6fcbef87",
   "metadata": {},
   "source": [
    "Compute equilibrium coordinates, around which the Taylor series expansions will be built"
   ]
  },
  {
   "cell_type": "code",
   "execution_count": 2,
   "id": "59171cc5",
   "metadata": {},
   "outputs": [
    {
     "name": "stdout",
     "output_type": "stream",
     "text": [
      "Equilibrium coordinates: [1.3358387  1.3358387  1.61042427]\n",
      "Min of the potential: -0.0007846164047977397\n"
     ]
    }
   ],
   "source": [
    "vmin = optimize.minimize(h2s_AYT2.poten, [1, 1, 90 * np.pi / 180])\n",
    "r0 = vmin.x\n",
    "v0 = vmin.fun\n",
    "print(\"Equilibrium coordinates:\", r0)\n",
    "print(\"Min of the potential:\", v0)"
   ]
  },
  {
   "cell_type": "markdown",
   "id": "f6fdbbd2",
   "metadata": {},
   "source": [
    "Define mapping function from internal valence coordinates, $r_1$, $r_2$, and $\\alpha$, to Cartesian coordinates"
   ]
  },
  {
   "cell_type": "code",
   "execution_count": 3,
   "id": "9393262b",
   "metadata": {},
   "outputs": [],
   "source": [
    "masses = [31.97207070, 1.00782505, 1.00782505]  # masses of S, H, H\n",
    "\n",
    "ncoo = len(r0)\n",
    "\n",
    "\n",
    "@com(masses)\n",
    "def internal_to_cartesian(coords):\n",
    "    r1, r2, alpha = coords\n",
    "    return jnp.array(\n",
    "        [\n",
    "            [0.0, 0.0, 0.0],\n",
    "            [r1 * jnp.cos(alpha / 2), 0.0, r1 * jnp.sin(alpha / 2)],\n",
    "            [r2 * jnp.cos(alpha / 2), 0.0, -r2 * jnp.sin(alpha / 2)],\n",
    "        ]\n",
    "    )"
   ]
  },
  {
   "cell_type": "markdown",
   "id": "492c67df",
   "metadata": {},
   "source": [
    "Utility function for generating index combinations corresponding to products of primitive basis functions as well as derivative indices used in the expansion of operators"
   ]
  },
  {
   "cell_type": "code",
   "execution_count": 4,
   "id": "c48df55c",
   "metadata": {},
   "outputs": [],
   "source": [
    "def generate_prod_ind(\n",
    "    indices: List[List[int]],\n",
    "    select: Callable[[List[int]], bool] = lambda _: True,\n",
    "    batch_size: int = None,\n",
    "):\n",
    "    no_elem = np.array([len(elem) for elem in indices])\n",
    "    tot_size = np.prod(no_elem)\n",
    "    if batch_size is None:\n",
    "        batch_size = tot_size\n",
    "    no_batches = (tot_size + batch_size - 1) // batch_size\n",
    "\n",
    "    for ibatch in range(no_batches):\n",
    "        start_ind = ibatch * batch_size\n",
    "        end_ind = np.minimum(start_ind + batch_size, tot_size)\n",
    "        batch_ind = np.arange(start_ind, end_ind)\n",
    "        multi_ind = np.array(np.unravel_index(batch_ind, no_elem))\n",
    "        indices_out = np.array(\n",
    "            [indices[icoo][multi_ind[icoo, :]] for icoo in range(len(indices))]\n",
    "        ).T\n",
    "        select_ind = np.where(np.asarray([select(elem) for elem in indices_out]))\n",
    "        yield indices_out[select_ind], multi_ind[:, select_ind[0]]"
   ]
  },
  {
   "cell_type": "markdown",
   "id": "11be2c89",
   "metadata": {},
   "source": [
    "Compute Taylor series expansion of the $G$-matrix and potential\n",
    "\n",
    "$$\n",
    "G_{\\lambda,\\mu}=\\sum_{\\mathbf{t}} g_{\\mathbf{t},\\lambda,\\mu} (r_1-r_1^\\text{(eq)})^{t_1}(r_2-r_2^\\text{(eq)})^{t_2}(\\alpha-\\alpha^\\text{(eq)})^{t_3},\n",
    "$$\n",
    "\n",
    "$$\n",
    "V=\\sum_{\\mathbf{t}} f_{\\mathbf{t}} (r_1-r_1^\\text{(eq)})^{t_1}(r_2-r_2^\\text{(eq)})^{t_2}(\\alpha-\\alpha^\\text{(eq)})^{t_3},\n",
    "$$\n",
    "\n",
    " where the derivative multi-index $\\mathbf{t}$ is stored in `deriv_ind`, and the expansion coefficients $g_{\\mathbf{t},\\lambda,\\mu}$ and $f_{\\mathbf{t}}$ in `Gmat_coefs[:len(deriv_ind),:3N, :3N]` and `poten_coefs[:len(deriv_ind)]` respectively, where $N$ is the number of atoms"
   ]
  },
  {
   "cell_type": "code",
   "execution_count": null,
   "id": "fc1a8b33",
   "metadata": {},
   "outputs": [
    {
     "name": "stdout",
     "output_type": "stream",
     "text": [
      "Max expansion power: 8\n",
      "Number of expansion terms: 405\n",
      "compute expansion of potential ...\n"
     ]
    }
   ],
   "source": [
    "max_pow = 8\n",
    "powers = [np.arange(max_pow + 1)] * ncoo\n",
    "deriv_ind, deriv_mind = next(\n",
    "    generate_prod_ind(powers, select=lambda ind: np.sum(ind[:2]) <= max_pow)\n",
    ")\n",
    "\n",
    "print(\"Max expansion power:\", max_pow)\n",
    "print(\"Number of expansion terms:\", len(deriv_ind))\n",
    "\n",
    "print(\"compute expansion of potential ...\")\n",
    "poten_coefs = deriv_list(h2s_AYT2.poten, deriv_ind, r0, if_taylor=True)\n",
    "\n",
    "print(\"compute expansion of G-matrix ...\")\n",
    "Gmat_coefs = deriv_list(\n",
    "    lambda x: Gmat(x, masses, internal_to_cartesian), deriv_ind, r0, if_taylor=True\n",
    ")"
   ]
  },
  {
   "cell_type": "markdown",
   "id": "6737c968",
   "metadata": {},
   "source": [
    "Define primitive Hermite basis functions $\\mathcal{H}_n(x)$ and their derivatives $d\\mathcal{H}_n(x)/dx$"
   ]
  },
  {
   "cell_type": "code",
   "execution_count": null,
   "id": "d44ce9bf",
   "metadata": {},
   "outputs": [],
   "source": [
    "def hermite(x, n):\n",
    "    sqsqpi = np.sqrt(np.sqrt(np.pi))\n",
    "    c = np.diag(1.0 / np.sqrt(2.0**n * factorial(n)) / sqsqpi)\n",
    "    f = hermval(np.asarray(x), c) * np.exp(-(x**2) / 2)\n",
    "    return f.T\n",
    "\n",
    "def hermite_deriv(x, n):\n",
    "    sqsqpi = np.sqrt(np.sqrt(np.pi))\n",
    "    c = np.diag(1.0 / np.sqrt(2.0**n * factorial(n)) / sqsqpi)\n",
    "    h = hermval(np.asarray(x), c)\n",
    "    dh = hermval(np.asarray(x), hermder(c, m=1))\n",
    "    f = (dh - h * x) * np.exp(-(x**2) / 2)\n",
    "    return f.T"
   ]
  },
  {
   "cell_type": "markdown",
   "id": "d678846e",
   "metadata": {},
   "source": [
    "Define mapping between the coordinate $x\\in (-\\infty, \\infty)$ of Hermite basis functions and the internal valence coordinates as $r_1=a_1 x_1 + b_1$, $r_2=a_2x_2+b_2$, $\\alpha=a_3x_3+b_3$. The parameters $a_1,b_1,...,b_3$ are determined by mapping the vibrational Hamiltonian in valence coordinates onto the harmonic-oscillator Hamiltonian."
   ]
  },
  {
   "cell_type": "code",
   "execution_count": null,
   "id": "b7a0f44b",
   "metadata": {},
   "outputs": [
    {
     "name": "stdout",
     "output_type": "stream",
     "text": [
      "x->r linear mapping parameters 'a': [0.11245619 0.11245619 0.17845517]\n",
      "x->r linear mapping parameters 'b': [1.3358387  1.3358387  1.61042427]\n"
     ]
    }
   ],
   "source": [
    "mask = deriv_ind != 0\n",
    "\n",
    "# Elements of G-matrix at equilibrium\n",
    "ind0 = np.where(mask.sum(axis=1) == 0)[0][0]\n",
    "mu = np.diag(Gmat_coefs[ind0])[:ncoo]\n",
    "\n",
    "# Second-order derivative of potential at equilibrium\n",
    "ind2 = np.array(\n",
    "    [\n",
    "        np.where((mask.sum(axis=1) == 1) & (deriv_ind[:, icoo] == 2))[0][0]\n",
    "        for icoo in range(ncoo)\n",
    "    ]\n",
    ")\n",
    "freq = poten_coefs[ind2] * 2\n",
    "\n",
    "# Linear mapping parameters\n",
    "lin_a = jnp.sqrt(jnp.sqrt(mu / freq))\n",
    "lin_b = r0\n",
    "\n",
    "print(\"x->r linear mapping parameters 'a':\", lin_a)\n",
    "print(\"x->r linear mapping parameters 'b':\", lin_b)\n",
    "\n",
    "# Linear mapping function and its derivative\n",
    "x_to_r_map = lambda x, icoo: lin_a[icoo] * x + lin_b[icoo]\n",
    "jac_x_to_r_map = lambda x, icoo: np.ones_like(x) * lin_a[icoo]"
   ]
  },
  {
   "cell_type": "markdown",
   "id": "46679b1c",
   "metadata": {},
   "source": [
    "Precompute matrix elements of expansion terms in Hermite basis, i.e., $\\langle\\mathcal{H}_i|r_\\lambda^{t_\\lambda}|\\mathcal{H}_j\\rangle$, $\\langle\\mathcal{H}_i|r_\\lambda^{t_\\lambda}|\\partial_{r_\\lambda}\\mathcal{H}_j\\rangle$, and $\\langle\\partial_{r_\\lambda}\\mathcal{H}_i|r_\\lambda^{t_\\lambda}|\\partial_{r_\\lambda}\\mathcal{H}_j\\rangle$, for three internal valence coordinates $\\lambda =1..3$."
   ]
  },
  {
   "cell_type": "code",
   "execution_count": null,
   "id": "7a25270c",
   "metadata": {},
   "outputs": [],
   "source": [
    "no_bas = [20] * ncoo\n",
    "npoints = [80] * ncoo\n",
    "\n",
    "prim_me = []\n",
    "prim_dme = []\n",
    "prim_d2me = []\n",
    "\n",
    "for icoo in range(ncoo):\n",
    "    x, w = hermgauss(npoints[icoo])\n",
    "    w /= np.exp(-(x**2))\n",
    "    r = x_to_r_map(x, icoo)\n",
    "    dr = r - r0[icoo]\n",
    "    r_pow = dr[:, None] ** powers[icoo][None, :]\n",
    "    psi = hermite(x, np.arange(no_bas[icoo] + 1))\n",
    "    dpsi = (\n",
    "        hermite_deriv(x, np.arange(no_bas[icoo] + 1)) / jac_x_to_r_map(x, icoo)[:, None]\n",
    "    )\n",
    "    me = jnp.einsum(\"gi,gt,gj,g->tij\", psi, r_pow, psi, w)\n",
    "    dme = jnp.einsum(\"gi,gt,gj,g->tij\", psi, r_pow, dpsi, w)\n",
    "    d2me = jnp.einsum(\"gi,gt,gj,g->tij\", dpsi, r_pow, dpsi, w)\n",
    "    prim_me.append(me)\n",
    "    prim_dme.append(dme)\n",
    "    prim_d2me.append(d2me)"
   ]
  },
  {
   "cell_type": "markdown",
   "id": "022b822d",
   "metadata": {},
   "source": [
    "Solve contracted problems ..."
   ]
  },
  {
   "cell_type": "code",
   "execution_count": null,
   "id": "7c2b1ee8",
   "metadata": {},
   "outputs": [
    {
     "name": "stdout",
     "output_type": "stream",
     "text": [
      "0 2361.7950570907747 [     0.           2627.83310096   5165.68583661   7629.77903368\n",
      "  10056.05687722  12496.84714452  15001.69278415  17602.2923534\n",
      "  20313.71106937  23141.21204003  26085.54001494  29158.08835826\n",
      "  32412.02243726  35975.96051399  40073.32846806  44265.74056481\n",
      "  49520.08920755  60164.42659295  80827.07835753 118195.6035581\n",
      " 192185.37003263]\n",
      "1 2361.7950571375327 [     0.           2627.83310096   5165.6858366    7629.77903364\n",
      "  10056.05687712  12496.84714429  15001.69278373  17602.29235276\n",
      "  20313.71106847  23141.21203885  26085.54001347  29158.0883565\n",
      "  32412.02243523  35975.96051167  40073.32846549  44265.74056187\n",
      "  49520.08920387  60164.42658833  80827.07835174 118195.60355008\n",
      " 192185.37001902]\n",
      "2 2026.5007139178244 [    0.          1214.1828581   2422.52098473  3624.57606586\n",
      "  4819.78085719  6007.22797727  7185.24499818  8350.44883354\n",
      "  9494.45913345 10573.94144988 11195.07551955 11884.93586704\n",
      " 12954.76498972 14079.89600022 15258.65700998 16485.15096834\n",
      " 17803.26359338 19105.48033391 20557.83616099 22027.20493717\n",
      " 23511.84882593]\n"
     ]
    }
   ],
   "source": [
    "contr_vec = []\n",
    "\n",
    "for icoo in range(ncoo):\n",
    "\n",
    "    bas_ind = [\n",
    "        np.arange(no_bas[icoo] + 1) if icoo_ == icoo else np.arange(1)\n",
    "        for icoo_ in range(ncoo)\n",
    "    ]\n",
    "    bas_ind, bas_mind = next(generate_prod_ind(bas_ind))\n",
    "\n",
    "    me = np.prod(\n",
    "        [\n",
    "            prim_me[icoo_][\n",
    "                np.ix_(deriv_mind[icoo_, :], bas_mind[icoo_, :], bas_mind[icoo_, :])\n",
    "            ]\n",
    "            for icoo_ in range(ncoo)\n",
    "        ],\n",
    "        axis=0,\n",
    "    )\n",
    "\n",
    "    d2me = np.prod(\n",
    "        [\n",
    "            (\n",
    "                prim_d2me[icoo_][\n",
    "                    np.ix_(deriv_mind[icoo_, :], bas_mind[icoo_, :], bas_mind[icoo_, :])\n",
    "                ]\n",
    "                if icoo_ == icoo\n",
    "                else prim_me[icoo_][\n",
    "                    np.ix_(deriv_mind[icoo_, :], bas_mind[icoo_, :], bas_mind[icoo_, :])\n",
    "                ]\n",
    "            )\n",
    "            for icoo_ in range(ncoo)\n",
    "        ],\n",
    "        axis=0,\n",
    "    )\n",
    "\n",
    "    vme = me.T @ poten_coefs\n",
    "    gme = d2me.T @ Gmat_coefs[:, icoo, icoo]\n",
    "    hme = 0.5 * gme + vme\n",
    "    e, v = np.linalg.eigh(hme)\n",
    "    print(icoo, e[0], e - e[0])\n",
    "    contr_vec.append(v)"
   ]
  },
  {
   "cell_type": "markdown",
   "id": "d43199d1",
   "metadata": {},
   "source": [
    "Transform primitive matrix elements to the contracted basis"
   ]
  },
  {
   "cell_type": "code",
   "execution_count": null,
   "id": "a5f3f7d4",
   "metadata": {},
   "outputs": [],
   "source": [
    "contr_me = [contr_vec[icoo].T @ prim_me[icoo] @ contr_vec[icoo] for icoo in range(ncoo)]\n",
    "contr_dme = [contr_vec[icoo].T @ prim_dme[icoo] @ contr_vec[icoo] for icoo in range(ncoo)]\n",
    "contr_d2me = [contr_vec[icoo].T @ prim_d2me[icoo] @ contr_vec[icoo] for icoo in range(ncoo)]"
   ]
  },
  {
   "cell_type": "markdown",
   "id": "754b1f31",
   "metadata": {},
   "source": [
    "Final solution "
   ]
  },
  {
   "cell_type": "code",
   "execution_count": null,
   "id": "a8bb3f2b",
   "metadata": {},
   "outputs": [
    {
     "name": "stdout",
     "output_type": "stream",
     "text": [
      "polyad contraction number: 12\n",
      "total number of basis products: 140\n",
      "3300.812959773243 [    0.          1182.65669984  2354.03526785  2614.96653302\n",
      "  2629.17452148  3513.71874995  3779.97399184  3790.16808876\n",
      "  4661.0741687   4933.63712603  4940.11760148  5151.11526201\n",
      "  5153.00665699  5245.23574808  5795.01872261  6075.47115904\n",
      "  6078.41499941  6295.15870418  6295.69441616  6387.76999692\n",
      "  6913.57306331  7204.21313212  7204.71082564  7427.33553857\n",
      "  7427.79204805  7519.60678044  7606.54135726  7606.66902216\n",
      "  7761.4567233   7788.65428409  8012.78971612  8316.39783804\n",
      "  8320.2917218   8547.43437398  8548.66373341  8640.21400403\n",
      "  8729.97959813  8730.29329308  8889.42450278  8907.85856274\n",
      "  9083.6583926   9413.78034837  9422.0896032   9656.11413126\n",
      "  9657.80572732  9749.45212026  9843.1829964   9843.59636478\n",
      "  9935.44634628 10006.52687312 10015.09043862 10015.48501902\n",
      " 10017.20862814 10227.43644892 10228.68210183 10314.73095526\n",
      " 10374.98789289 10494.16396706 10533.12682853 10754.45848638\n",
      " 10756.42923529 10849.85885703 10947.24021413 10947.64179138\n",
      " 11113.82977715 11116.29755683 11122.14322776 11122.27187275\n",
      " 11333.17966689 11337.0421597  11417.01147257 11540.65006115\n",
      " 11584.96390782 11673.95799046 11885.46573604 11892.59696256\n",
      " 11981.77441952 12098.10894739 12098.32564037 12231.90265933\n",
      " 12257.42001012 12274.57587048 12274.59817621 12447.46603181\n",
      " 12447.54866104 12457.24082016 12463.69629579 12530.70217476\n",
      " 12613.16695977 12650.29314454 12652.33292704 12657.51980974\n",
      " 12764.99624837 12796.8402004  13011.64830477 13062.16873523\n",
      " 13076.18275151 13202.18721677 13300.59684243 13312.65709666\n",
      " 13358.19111916 13433.28555454 13459.41056237 13467.0872332\n",
      " 13573.43664608 13597.62867151 13598.34856236 13614.81809251\n",
      " 13637.73686442 13730.20239594 13747.27740827 13780.32880527\n",
      " 13783.70813417 13890.21955225 13896.08790769 14197.95917058\n",
      " 14292.61191283 14459.16243142 14465.77347979 14522.77990789\n",
      " 14588.55173677 14639.11144819 14646.93459253 14753.90150438\n",
      " 14781.71308544 14789.72933061 14813.86904029 14821.28595332\n",
      " 14924.6452719  14947.12900511 14952.05176248 14957.9510694\n",
      " 14962.73267659 15033.07628788 15061.57496071 15114.35866488\n",
      " 15122.19570608 15225.98332461 15233.007309   15301.15681419]\n"
     ]
    }
   ],
   "source": [
    "pmax = 12\n",
    "poly_coefs = np.array([2, 2, 1])\n",
    "\n",
    "bas_ind = [np.arange(nbas[icoo] + 1) for icoo in range(ncoo)]\n",
    "bas_ind, bas_mind = next(\n",
    "    generate_prod_ind(bas_ind, select=lambda ind: np.sum(ind * poly_coefs) <= pmax)\n",
    ")\n",
    "print(\"polyad contraction number:\", pmax)\n",
    "print(\"total number of basis products:\", len(bas_ind))\n",
    "\n",
    "me = np.prod(\n",
    "    [\n",
    "        contr_me[icoo_][\n",
    "            np.ix_(deriv_mind[icoo_, :], bas_mind[icoo_, :], bas_mind[icoo_, :])\n",
    "        ]\n",
    "        for icoo_ in range(ncoo)\n",
    "    ],\n",
    "    axis=0,\n",
    ")\n",
    "\n",
    "vme = me.T @ poten_coefs\n",
    "\n",
    "gme = 0\n",
    "fac = {}\n",
    "for icoo in range(ncoo):\n",
    "    for jcoo in range(ncoo):\n",
    "        fac[icoo]=1\n",
    "        fac[jcoo]=-1\n",
    "\n",
    "        if icoo != jcoo:\n",
    "            dme = np.prod(\n",
    "                [\n",
    "                    (\n",
    "                        fac[icoo_]*contr_dme[icoo_][\n",
    "                            np.ix_(\n",
    "                                deriv_mind[icoo_, :],\n",
    "                                bas_mind[icoo_, :],\n",
    "                                bas_mind[icoo_, :],\n",
    "                            )\n",
    "                        ]\n",
    "                        if icoo_ == icoo or icoo_ == jcoo\n",
    "                        else contr_me[icoo_][\n",
    "                            np.ix_(\n",
    "                                deriv_mind[icoo_, :],\n",
    "                                bas_mind[icoo_, :],\n",
    "                                bas_mind[icoo_, :],\n",
    "                            )\n",
    "                        ]\n",
    "                    )\n",
    "                    for icoo_ in range(ncoo)\n",
    "                ],\n",
    "                axis=0,\n",
    "            )\n",
    "        else:\n",
    "            dme = np.prod(\n",
    "                [\n",
    "                    (\n",
    "                        contr_d2me[icoo_][\n",
    "                            np.ix_(\n",
    "                                deriv_mind[icoo_, :],\n",
    "                                bas_mind[icoo_, :],\n",
    "                                bas_mind[icoo_, :],\n",
    "                            )\n",
    "                        ]\n",
    "                        if icoo_ == icoo\n",
    "                        else contr_me[icoo_][\n",
    "                            np.ix_(\n",
    "                                deriv_mind[icoo_, :],\n",
    "                                bas_mind[icoo_, :],\n",
    "                                bas_mind[icoo_, :],\n",
    "                            )\n",
    "                        ]\n",
    "                    )\n",
    "                    for icoo_ in range(ncoo)\n",
    "                ],\n",
    "                axis=0,\n",
    "            )\n",
    "        gme += dme.T @ Gmat_coefs[:, icoo, jcoo]\n",
    "\n",
    "\n",
    "hme = 0.5 * gme + vme\n",
    "e, v = np.linalg.eigh(hme)\n",
    "print(e[0], e - e[0])"
   ]
  },
  {
   "cell_type": "code",
   "execution_count": null,
   "id": "0a353596",
   "metadata": {},
   "outputs": [],
   "source": []
  }
 ],
 "metadata": {
  "kernelspec": {
   "display_name": "myenv",
   "language": "python",
   "name": "python3"
  },
  "language_info": {
   "codemirror_mode": {
    "name": "ipython",
    "version": 3
   },
   "file_extension": ".py",
   "mimetype": "text/x-python",
   "name": "python",
   "nbconvert_exporter": "python",
   "pygments_lexer": "ipython3",
   "version": "3.13.0"
  }
 },
 "nbformat": 4,
 "nbformat_minor": 5
}
