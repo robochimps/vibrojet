{
 "cells": [
  {
   "cell_type": "markdown",
   "id": "36e1554a",
   "metadata": {},
   "source": [
    "# Example of computing vibrational energy levels of a triatomic molecule using the Taylor series expansion approximation for the kinetic and potential energy operators\n",
    "\n",
    "Compute vibrational states of $\\text{H}_2\\text{S}$ molecule using the potential energy surface from\n",
    "[A. A. A. Azzam, J. Tennyson, S. N. Yurchenko, O. V. Naumenko, \"ExoMol molecular line lists - XVI. The rotation–vibration spectrum of hot H2S\", MNRAS 460, 4063–4074 (2016)](https://doi.org/10.1093/mnras/stw1133)\n"
   ]
  },
  {
   "cell_type": "code",
   "execution_count": 2,
   "id": "ce48a54e",
   "metadata": {},
   "outputs": [],
   "source": [
    "import sys\n",
    "\n",
    "sys.path.insert(1, \"../\")\n",
    "\n",
    "from typing import Callable, List\n",
    "\n",
    "import jax\n",
    "import jax.numpy as jnp\n",
    "import numpy as np\n",
    "from numpy.polynomial.hermite import hermder, hermgauss, hermval\n",
    "from scipy import optimize\n",
    "from scipy.special import factorial\n",
    "from vibrojet.keo import Gmat, com\n",
    "from vibrojet.potentials import h2s_AYT2\n",
    "from vibrojet.taylor import deriv_list\n",
    "\n",
    "jax.config.update(\"jax_enable_x64\", True)"
   ]
  },
  {
   "cell_type": "markdown",
   "id": "6fcbef87",
   "metadata": {},
   "source": [
    "Compute equilibrium coordinates, around which the Taylor series expansions will be built"
   ]
  },
  {
   "cell_type": "code",
   "execution_count": 3,
   "id": "59171cc5",
   "metadata": {},
   "outputs": [
    {
     "name": "stdout",
     "output_type": "stream",
     "text": [
      "Equilibrium coordinates: [1.3358387  1.3358387  1.61042427]\n",
      "Min of the potential: -0.0007846164036985615\n"
     ]
    }
   ],
   "source": [
    "vmin = optimize.minimize(h2s_AYT2.poten, [1, 1, 90 * np.pi / 180])\n",
    "r0 = vmin.x\n",
    "v0 = vmin.fun\n",
    "print(\"Equilibrium coordinates:\", r0)\n",
    "print(\"Min of the potential:\", v0)"
   ]
  },
  {
   "cell_type": "markdown",
   "id": "f6fdbbd2",
   "metadata": {},
   "source": [
    "Define mapping function from internal valence coordinates, $r_1$, $r_2$, and $\\alpha$, to Cartesian coordinates"
   ]
  },
  {
   "cell_type": "code",
   "execution_count": 4,
   "id": "9393262b",
   "metadata": {},
   "outputs": [],
   "source": [
    "masses = [31.97207070, 1.00782505, 1.00782505]  # masses of S, H, H\n",
    "\n",
    "ncoo = len(r0)\n",
    "\n",
    "\n",
    "@com(masses)\n",
    "def internal_to_cartesian(coords):\n",
    "    r1, r2, alpha = coords\n",
    "    return jnp.array(\n",
    "        [\n",
    "            [0.0, 0.0, 0.0],\n",
    "            [r1 * jnp.cos(alpha / 2), 0.0, r1 * jnp.sin(alpha / 2)],\n",
    "            [r2 * jnp.cos(alpha / 2), 0.0, -r2 * jnp.sin(alpha / 2)],\n",
    "        ]\n",
    "    )"
   ]
  },
  {
   "cell_type": "markdown",
   "id": "492c67df",
   "metadata": {},
   "source": [
    "Utility function for generating index combinations corresponding to products of primitive basis functions as well as derivative indices used in the expansion of operators"
   ]
  },
  {
   "cell_type": "code",
   "execution_count": 5,
   "id": "c48df55c",
   "metadata": {},
   "outputs": [],
   "source": [
    "def generate_prod_ind(\n",
    "    indices: List[List[int]],\n",
    "    select: Callable[[List[int]], bool] = lambda _: True,\n",
    "    batch_size: int = None,\n",
    "):\n",
    "    no_elem = np.array(\n",
    "        [len(elem) for elem in indices]\n",
    "    )  # Highest order (z) + 1  - [x^0,x^1,...,x^z] -> z+1 terms\n",
    "    tot_size = np.prod(\n",
    "        no_elem\n",
    "    )  # Total possible number of combinations (z_0*z_1*...*z_N)\n",
    "    if batch_size is None:\n",
    "        batch_size = tot_size\n",
    "    # no_batches = (tot_size + batch_size - 1) // batch_size\n",
    "    no_batches = int(np.ceil(tot_size / batch_size))\n",
    "    for ibatch in range(no_batches):  # Loop over batches\n",
    "        start_ind = ibatch * batch_size  # Start index from end index of previous batch.\n",
    "        end_ind = np.minimum(start_ind + batch_size, tot_size)\n",
    "        batch_ind = np.arange(start_ind, end_ind)  # Counting index\n",
    "        multi_ind = np.array(\n",
    "            np.unravel_index(batch_ind, no_elem)\n",
    "        )  # N-dimensional indexes (N x 1D basis indexes)\n",
    "        indices_out = np.array(\n",
    "            [indices[icoo][multi_ind[icoo, :]] for icoo in range(len(indices))]\n",
    "        ).T  # All possible N-dimensional indexes\n",
    "        select_ind = np.where(\n",
    "            np.asarray([select(elem) for elem in indices_out])\n",
    "        )  # Truncation for combinations\n",
    "        yield indices_out[select_ind], multi_ind[\n",
    "            :, select_ind[0]\n",
    "        ]  # Output indexes that adhere to the select truncation"
   ]
  },
  {
   "cell_type": "markdown",
   "id": "d960bfae-2dd9-49ec-9837-44e4749538b6",
   "metadata": {},
   "source": [
    "Compute Taylor series expansion of the $G$-matrix and potential\n",
    "\n",
    "$$\n",
    "G_{\\lambda,\\mu}=\\sum_{\\mathbf{t}} g_{\\mathbf{t},\\lambda,\\mu} (r_1-r_1^\\text{(eq)})^{t_1}(r_2-r_2^\\text{(eq)})^{t_2}(\\alpha-\\alpha^\\text{(eq)})^{t_3},\n",
    "$$\n",
    "\n",
    "$$\n",
    "V=\\sum_{\\mathbf{t}} f_{\\mathbf{t}} (r_1-r_1^\\text{(eq)})^{t_1}(r_2-r_2^\\text{(eq)})^{t_2}(\\alpha-\\alpha^\\text{(eq)})^{t_3},\n",
    "$$\n",
    "\n",
    " where the derivative multi-index $\\mathbf{t}$ is stored in `deriv_ind`, and the expansion coefficients $g_{\\mathbf{t},\\lambda,\\mu}$ and $f_{\\mathbf{t}}$ in `Gmat_coefs[:len(deriv_ind),:3N, :3N]` and `poten_coefs[:len(deriv_ind)]` respectively, where $N$ is the number of atoms\n"
   ]
  },
  {
   "cell_type": "code",
   "execution_count": 6,
   "id": "fc1a8b33",
   "metadata": {},
   "outputs": [
    {
     "name": "stdout",
     "output_type": "stream",
     "text": [
      "Max expansion power: 8\n",
      "Total number of terms before truncation: 729\n",
      "Number of expansion terms after truncation: 165\n"
     ]
    }
   ],
   "source": [
    "max_pow = 8  # Degree of Taylor Expansion\n",
    "powers = [np.arange(max_pow + 1)] * ncoo  # 1D possible powers\n",
    "tot_size = np.prod([len(p) for p in powers])  # Number of terms before truncation\n",
    "batch_size = tot_size  # batch size - tot_size => one batch\n",
    "no_batches = int(np.ceil(tot_size / batch_size))\n",
    "select = lambda ind: np.sum(ind) <= max_pow  # Truncation criterion for Taylor expansion\n",
    "gen_prod_ind = generate_prod_ind(\n",
    "    powers, select=lambda ind: np.sum(ind) <= max_pow, batch_size=batch_size\n",
    ")\n",
    "deriv_ind_list, deriv_mind_list = [], []  # Create empty lists to append to\n",
    "for i in range(no_batches):  # Loop over batches\n",
    "    _deriv_ind, _deriv_mind = next(gen_prod_ind)\n",
    "    deriv_ind_list.append(_deriv_ind)  # Append indexes\n",
    "    deriv_mind_list.append(_deriv_mind)\n",
    "\n",
    "# Concatenate lists of indexes\n",
    "deriv_ind, deriv_mind = np.concatenate(deriv_ind_list, axis=0), np.concatenate(\n",
    "    deriv_mind_list, axis=1\n",
    ")\n",
    "\n",
    "print(\"Max expansion power:\", max_pow)\n",
    "print(\"Total number of terms before truncation:\", tot_size)\n",
    "print(\"Number of expansion terms after truncation:\", len(deriv_ind))"
   ]
  },
  {
   "cell_type": "code",
   "execution_count": 7,
   "id": "26fb2f9d-6b18-4df4-9939-eccdae40cf12",
   "metadata": {},
   "outputs": [
    {
     "name": "stdout",
     "output_type": "stream",
     "text": [
      "Compute expansion of potential ...\n",
      "Time for d= 0 : 20.86 s\n",
      "Time for d= 1 : 16.78 s\n",
      "Time for d= 2 : 40.04 s\n",
      "Time for d= 3 : 61.08 s\n",
      "Time for d= 4 : 88.68 s\n",
      "Time for d= 5 : 68.3 s\n",
      "Time for d= 6 : 92.64 s\n",
      "Time for d= 7 : 114.4 s\n",
      "Time for d= 8 : 131.01 s\n"
     ]
    }
   ],
   "source": [
    "print(\"Compute expansion of potential ...\")\n",
    "poten_coefs = deriv_list(h2s_AYT2.poten, deriv_ind, r0, if_taylor=True)"
   ]
  },
  {
   "cell_type": "code",
   "execution_count": 8,
   "id": "82a2b6d3",
   "metadata": {},
   "outputs": [
    {
     "name": "stdout",
     "output_type": "stream",
     "text": [
      "Compute expansion of G-matrix ...\n",
      "Time for d= 0 : 0.97 s\n",
      "Time for d= 1 : 0.75 s\n",
      "Time for d= 2 : 1.78 s\n",
      "Time for d= 3 : 2.96 s\n",
      "Time for d= 4 : 4.96 s\n",
      "Time for d= 5 : 8.09 s\n",
      "Time for d= 6 : 8.85 s\n",
      "Time for d= 7 : 11.48 s\n",
      "Time for d= 8 : 14.33 s\n"
     ]
    }
   ],
   "source": [
    "print(\"Compute expansion of G-matrix ...\")\n",
    "Gmat_coefs = deriv_list(\n",
    "    lambda x: Gmat(x, masses, internal_to_cartesian), deriv_ind, r0, if_taylor=True\n",
    ")"
   ]
  },
  {
   "cell_type": "markdown",
   "id": "6737c968",
   "metadata": {},
   "source": [
    "Define primitive Hermite basis functions $\\mathcal{H}_n(x)$ and their derivatives $d\\mathcal{H}_n(x)/dx$"
   ]
  },
  {
   "cell_type": "code",
   "execution_count": 15,
   "id": "d44ce9bf",
   "metadata": {},
   "outputs": [],
   "source": [
    "def hermite(x, n):\n",
    "    sqsqpi = np.sqrt(np.sqrt(np.pi))\n",
    "    c = np.diag(1.0 / np.sqrt(2.0**n * factorial(n)) / sqsqpi) #Normalization constants\n",
    "    f = hermval(np.asarray(x), c) * np.exp(-(x**2) / 2) #Hermite polynomial times square root of weight function\n",
    "    return f.T\n",
    "\n",
    "\n",
    "def hermite_deriv(x, n):\n",
    "    sqsqpi = np.sqrt(np.sqrt(np.pi))\n",
    "    c = np.diag(1.0 / np.sqrt(2.0**n * factorial(n)) / sqsqpi) #Normalization constants\n",
    "    h = hermval(np.asarray(x), c) #Hermite polynomial \n",
    "    dh = hermval(np.asarray(x), hermder(c, m=1)) #Derivative of Hermite polynomial (H_l(x))\n",
    "    f = (dh - h * x) * np.exp(-(x**2) / 2) #w'(x)H_l(x) + w(x)H_l'(x), where w: weight function, w(x) = np.exp(-x**2)\n",
    "    return f.T"
   ]
  },
  {
   "cell_type": "markdown",
   "id": "d678846e",
   "metadata": {},
   "source": [
    "Define mapping between the coordinate $x\\in (-\\infty, \\infty)$ of Hermite basis functions and the internal valence coordinates as $r_1=a_1 x_1 + b_1$, $r_2=a_2x_2+b_2$, $\\alpha=a_3x_3+b_3$. The parameters $a_1,b_1,...,b_3$ are determined by mapping the vibrational Hamiltonian in valence coordinates onto the harmonic-oscillator Hamiltonian."
   ]
  },
  {
   "cell_type": "code",
   "execution_count": 16,
   "id": "b7a0f44b",
   "metadata": {},
   "outputs": [
    {
     "name": "stdout",
     "output_type": "stream",
     "text": [
      "x->r linear mapping parameters 'a': [0.11245619 0.11245619 0.17845517]\n",
      "x->r linear mapping parameters 'b': [1.3358387  1.3358387  1.61042427]\n"
     ]
    }
   ],
   "source": [
    "mask = deriv_ind != 0  # Mask for derivatives\n",
    "\n",
    "# Vibrational G-matrix elements at equilibrium geometry\n",
    "ind0 = np.where(mask.sum(axis=1) == 0)[0][0] #Equilibrium indexes\n",
    "mu = np.diag(Gmat_coefs[ind0])[:ncoo]\n",
    "\n",
    "# Second-order derivative of potential at equilibrium\n",
    "ind2 = np.array(\n",
    "    [   np.where((mask.sum(axis=1) == 1) & (deriv_ind[:, icoo] == 2))[0][0]\n",
    "        for icoo in range(ncoo)]\n",
    ")\n",
    "\n",
    "freq = poten_coefs[ind2] * 2\n",
    "\n",
    "# Linear mapping parameters\n",
    "lin_a = jnp.sqrt(jnp.sqrt(mu / freq))\n",
    "lin_b = r0\n",
    "\n",
    "print(\"x->r linear mapping parameters 'a':\", lin_a)\n",
    "print(\"x->r linear mapping parameters 'b':\", lin_b)\n",
    "\n",
    "# Linear mapping function and its derivative\n",
    "x_to_r_map = lambda x, icoo: lin_a[icoo] * x + lin_b[icoo]\n",
    "jac_x_to_r_map = lambda x, icoo: np.ones_like(x) * lin_a[icoo]"
   ]
  },
  {
   "cell_type": "markdown",
   "id": "46679b1c",
   "metadata": {},
   "source": [
    "Precompute matrix elements of expansion terms in Hermite basis, i.e., $\\langle\\mathcal{H}_i|r_\\lambda^{t_\\lambda}|\\mathcal{H}_j\\rangle$, $\\langle\\mathcal{H}_i|r_\\lambda^{t_\\lambda}|\\partial_{r_\\lambda}\\mathcal{H}_j\\rangle$, and $\\langle\\partial_{r_\\lambda}\\mathcal{H}_i|r_\\lambda^{t_\\lambda}|\\partial_{r_\\lambda}\\mathcal{H}_j\\rangle$, for three internal valence coordinates $\\lambda =1..3$."
   ]
  },
  {
   "cell_type": "code",
   "execution_count": 17,
   "id": "7a25270c",
   "metadata": {},
   "outputs": [],
   "source": [
    "no_bas = [24] * ncoo #Number of primitive basis functions\n",
    "npoints = [80] * ncoo #Number of quadrature points\n",
    "\n",
    "prim_me = []\n",
    "prim_dme = []\n",
    "prim_d2me = []\n",
    "\n",
    "for icoo in range(ncoo):\n",
    "    x, w = hermgauss(npoints[icoo]) #Generate quadrature\n",
    "    w /= np.exp(-(x**2))            #Divide by weight function, because it is a part of the basis\n",
    "    r = x_to_r_map(x, icoo)         #Obtain r (coordinate values) from x (quadrature values)\n",
    "    dr = r - r0[icoo]               #Displacement coordinate (subtraction of equilibrium geometry, r0)\n",
    "    r_pow = dr[:, None] ** powers[icoo][None, :] #Generate powers of r\n",
    "    psi = hermite(x, np.arange(no_bas[icoo] + 1))#Primitive basis functions\n",
    "    dpsi = hermite_deriv(x, np.arange(no_bas[icoo] + 1)) / jac_x_to_r_map(x, icoo)[:, None] #Derivative of primitive basis functions\n",
    "    me = jnp.einsum(\"gi,gt,gj,g->tij\", psi, r_pow, psi, w)     #For Potential and p_i G_ij(q_k)p_j (averaging over q_k).\n",
    "    dme = jnp.einsum(\"gi,gt,gj,g->tij\", psi, r_pow, dpsi, w)   #For p_i G_ij p_j terms, j != i\n",
    "    d2me = jnp.einsum(\"gi,gt,gj,g->tij\", dpsi, r_pow, dpsi, w) #For p_i G_ii p_i terms (j=i)\n",
    "    prim_me.append(me)\n",
    "    prim_dme.append(dme)\n",
    "    prim_d2me.append(d2me)"
   ]
  },
  {
   "cell_type": "markdown",
   "id": "022b822d",
   "metadata": {},
   "source": [
    "Solve contracted problems with basis |i>|0>|0> with i = 0...no_bas for each mode (averaging over lowest basis function for inactive modes)."
   ]
  },
  {
   "cell_type": "code",
   "execution_count": 18,
   "id": "7c2b1ee8",
   "metadata": {},
   "outputs": [
    {
     "name": "stdout",
     "output_type": "stream",
     "text": [
      "0 2361.7950574890965 [     0.           2627.8331008    5165.68583626   7629.77902022\n",
      "  10056.05644398  12496.83848234  15001.60349714  17601.70795403\n",
      "  20311.20249726  23134.23315601  26070.907911    29121.93829635\n",
      "  32293.35520577  35602.00159154  39046.9587134   42614.21730987\n",
      "  46312.26857337  50361.50583571  54604.12115941  59880.29432958\n",
      "  70404.08624295  90155.41843916 123427.89263171 180304.67102473\n",
      " 289652.06656253]\n",
      "1 2361.7950575912123 [     0.           2627.8331008    5165.68583624   7629.77902015\n",
      "  10056.05644375  12496.83848183  15001.60349622  17601.70795262\n",
      "  20311.2024953   23134.23315346  26070.90790783  29121.93829252\n",
      "  32293.35520127  35602.0015863   39046.9587073   42614.21730277\n",
      "  46312.26856538  50361.50582748  54604.12115068  59880.29431964\n",
      "  70404.08623126  90155.41842511 123427.89261331 180304.67099721\n",
      " 289652.06651237]\n",
      "2 2026.5007149073547 [    0.          1214.18285843  2422.52098539  3624.57606606\n",
      "  4819.78075734  5195.07909558  6007.22907106  7185.25403922\n",
      "  8350.55543099  9495.94709524 10602.88831955 11617.86897518\n",
      " 12485.11258787 13392.93366131 14459.75780566 15621.9002724\n",
      " 16846.57715076 18132.27638692 19465.64942162 20854.78471656\n",
      " 22310.37605281 23728.89086723 25416.25115023 26884.10781884\n",
      " 28951.64162895]\n"
     ]
    }
   ],
   "source": [
    "contr_vec = []\n",
    "for icoo in range(ncoo):\n",
    "    bas_ind = [\n",
    "        np.arange(no_bas[icoo] + 1) if icoo_ == icoo else np.arange(1)\n",
    "        for icoo_ in range(ncoo)\n",
    "    ]\n",
    "    bas_ind, bas_mind = next(generate_prod_ind(bas_ind))\n",
    "    \n",
    "    me = np.prod(\n",
    "        [\n",
    "            prim_me[icoo_][\n",
    "                np.ix_(deriv_mind[icoo_, :], bas_mind[icoo_, :], bas_mind[icoo_, :])\n",
    "            ]\n",
    "            for icoo_ in range(ncoo)\n",
    "        ],\n",
    "        axis=0,\n",
    "    )\n",
    "\n",
    "    d2me = np.prod(\n",
    "        [\n",
    "            (\n",
    "                prim_d2me[icoo_][\n",
    "                    np.ix_(deriv_mind[icoo_, :], bas_mind[icoo_, :], bas_mind[icoo_, :])\n",
    "                ]\n",
    "                if icoo_ == icoo\n",
    "                else prim_me[icoo_][\n",
    "                    np.ix_(deriv_mind[icoo_, :], bas_mind[icoo_, :], bas_mind[icoo_, :])\n",
    "                ]\n",
    "            )\n",
    "            for icoo_ in range(ncoo)\n",
    "        ],\n",
    "        axis=0,\n",
    "    )\n",
    "\n",
    "    vme = me.T @ poten_coefs\n",
    "    gme = d2me.T @ Gmat_coefs[:, icoo, icoo]\n",
    "    hme = 0.5 * gme + vme\n",
    "    e, v = np.linalg.eigh(hme)\n",
    "    print(icoo, e[0], e - e[0])\n",
    "    contr_vec.append(v)"
   ]
  },
  {
   "cell_type": "markdown",
   "id": "d43199d1",
   "metadata": {},
   "source": [
    "Transform primitive matrix elements to the contracted basis"
   ]
  },
  {
   "cell_type": "code",
   "execution_count": 19,
   "id": "a5f3f7d4",
   "metadata": {},
   "outputs": [],
   "source": [
    "contr_me = [contr_vec[icoo].T @ prim_me[icoo] @ contr_vec[icoo] for icoo in range(ncoo)]\n",
    "contr_dme = [contr_vec[icoo].T @ prim_dme[icoo] @ contr_vec[icoo] for icoo in range(ncoo)]\n",
    "contr_d2me = [ contr_vec[icoo].T @ prim_d2me[icoo] @ contr_vec[icoo] for icoo in range(ncoo)]"
   ]
  },
  {
   "cell_type": "markdown",
   "id": "754b1f31",
   "metadata": {},
   "source": [
    "Final solution "
   ]
  },
  {
   "cell_type": "code",
   "execution_count": 20,
   "id": "a8bb3f2b",
   "metadata": {},
   "outputs": [
    {
     "name": "stdout",
     "output_type": "stream",
     "text": [
      "polyad contraction number: 16\n",
      "total number of basis products: 285\n",
      "3300.812812486518 [    0.          1182.65648813  2354.03454468  2614.96594692\n",
      "  2629.1741213   3349.08891174  3513.71735093  3779.97121436\n",
      "  3790.16617169  4661.07048177  4933.62839273  4940.11098613\n",
      "  5151.10750011  5152.99824515  5195.6605576   5245.23225739\n",
      "  5508.6890239   5795.01248293  6075.454126    6078.39858205\n",
      "  6295.12621333  6295.66241479  6387.75505656  6913.5366013\n",
      "  6977.42613527  7184.75071492  7204.16245646  7204.67324144\n",
      "  7427.19362789  7427.64376561  7519.57069209  7606.33228248\n",
      "  7606.46030241  7710.41843418  7761.40986348  7788.6202203\n",
      "  8012.61970144  8315.99329193  8319.88955389  8546.86690542\n",
      "  8548.02489438  8639.94225595  8729.14528262  8729.44893933\n",
      "  8860.44477557  8889.18457458  8907.68857967  9082.6095362\n",
      "  9137.9931939   9411.33932732  9418.28655872  9653.64009024\n",
      "  9655.25981375  9660.72786037  9747.83379827  9840.64663429\n",
      "  9841.0238575  10005.95503917 10013.63755782 10013.89180121\n",
      " 10016.38416116 10092.33109954 10226.97168255 10228.38666416\n",
      " 10314.56125697 10344.28456142 10485.10834022 10492.85546929\n",
      " 10745.92652858 10747.74059146 10841.26269388 10939.84589652\n",
      " 10939.94168342 10940.56400565 11013.65947771 11111.01277121\n",
      " 11112.86663291 11115.65279074 11115.93428598 11331.70370149\n",
      " 11335.48983758 11416.00485623 11519.42601232 11524.51532255\n",
      " 11608.29224151 11710.17286533 11821.17948349 11823.72466707\n",
      " 11918.83819635 12028.82341331 12029.13207373 12197.67980564\n",
      " 12204.07677474 12208.15672536 12208.3283512  12335.60053841\n",
      " 12418.27216806 12418.34575461 12424.71710592 12432.37636424\n",
      " 12492.45419908 12505.61158345 12508.34453225 12639.3677132\n",
      " 12644.51534694 12680.27422722 12756.24823963 12792.68690266\n",
      " 12880.27351121 12882.79284461 12980.13605836 13110.48608878\n",
      " 13110.61812838 13127.97086534 13269.73900796 13287.7464186\n",
      " 13289.03161137 13291.91766967 13292.23721416 13436.47780138\n",
      " 13504.45462058 13504.49282157 13506.94309163 13517.10751166\n",
      " 13591.16970532 13727.28847728 13732.7894621  13790.27753743\n",
      " 13850.71942992 13870.67689062 13896.79668032 13912.50100434\n",
      " 13913.56866747 14002.25874048 14020.1309237  14181.47087097\n",
      " 14184.20162324 14199.49569845 14334.27696803 14340.47847816\n",
      " 14379.07427539 14383.816352   14384.00214508 14583.5014087\n",
      " 14593.49806676 14596.82275092 14596.83266072 14666.73137264\n",
      " 14808.31646214 14813.22910376 14860.61016365 14860.95203959\n",
      " 14936.44266471 14939.91792926 14958.54932817 14999.01392959\n",
      " 15062.46742974 15066.10416884 15096.72626387 15166.35430147\n",
      " 15193.54065834 15203.89620141 15265.51413127 15265.76099007\n",
      " 15333.84442299 15339.77945938 15411.14468017 15444.45671957\n",
      " 15498.93036414 15594.48788939 15595.0017169  15696.77437153\n",
      " 15697.68251248 15717.68094996 15733.56321275 15803.39531268\n",
      " 15846.00996624 15892.57687691 15894.91196126 15947.59474211\n",
      " 15959.25062871 15959.68767117 16006.02846627 16022.08300947\n",
      " 16144.34570194 16147.01845428 16263.6234584  16290.48963651\n",
      " 16302.59736971 16331.07951794 16416.13936838 16494.84715868\n",
      " 16504.86273016 16559.72258577 16603.80360115 16637.32494285\n",
      " 16790.79861071 16791.75657334 16826.75128104 16887.2198577\n",
      " 16915.57875135 16957.27114653 16971.5412183  16991.74709137\n",
      " 17007.42754333 17044.66715162 17074.621903   17091.82162169\n",
      " 17134.92764816 17165.36278553 17213.6720079  17214.11668962\n",
      " 17224.17828409 17305.81238513 17310.5831888  17363.24850277\n",
      " 17369.28845917 17396.47693627 17417.42680741 17418.79133177\n",
      " 17434.60526666 17564.32504047 17567.70523228 17630.3444027\n",
      " 17645.55411883 17653.3622953  17697.12336265 17719.08840066\n",
      " 17721.28662945 17753.97457691 17764.80562273 17925.17118165\n",
      " 17982.34529413 17996.14483271 18084.54660381 18212.36548129\n",
      " 18246.15493853 18262.0468892  18266.62682168 18310.05849336\n",
      " 18322.16187042 18417.22925388 18430.92545381 18448.35420074\n",
      " 18449.40667256 18479.33371122 18480.77997228 18507.89169199\n",
      " 18576.30351347 18594.11870499 18645.20741575 18647.40412716\n",
      " 18713.21787792 18718.35332138 18725.43479279 18760.90287692\n",
      " 18819.71286427 18826.33611417 18828.43719821 18842.33841162\n",
      " 19644.99616123 19647.20845207 19667.89026823 19688.67419244\n",
      " 19726.78732463 19731.99762002 19807.20651519 19889.16484385\n",
      " 19902.41213671 19914.28277074 19939.09950669 19969.94393276\n",
      " 19994.69863706 19997.61973527 20044.6310519  20056.32285244\n",
      " 20098.13696728 20130.75435995 20160.99430355 20188.6165905\n",
      " 20224.10221992 20273.82044994 20319.10948243 20523.66384799\n",
      " 20529.35809615]\n"
     ]
    }
   ],
   "source": [
    "pmax = 16\n",
    "poly_coefs = np.array([2, 2, 1])\n",
    "\n",
    "bas_ind = [np.arange(no_bas[icoo] + 1) for icoo in range(ncoo)]\n",
    "bas_ind, bas_mind = next(\n",
    "    generate_prod_ind(bas_ind, select=lambda ind: np.sum(ind * poly_coefs) <= pmax)\n",
    ") #Polyad truncation: np.sum(ind * poly_coefs) <= pmax\n",
    "print(\"polyad contraction number:\", pmax)\n",
    "print(\"total number of basis products:\", len(bas_ind))\n",
    "\n",
    "me = np.prod(\n",
    "    [\n",
    "        contr_me[icoo_][\n",
    "            np.ix_(deriv_mind[icoo_, :], bas_mind[icoo_, :], bas_mind[icoo_, :])\n",
    "        ]\n",
    "        for icoo_ in range(ncoo)\n",
    "    ],\n",
    "    axis=0,\n",
    ")\n",
    "\n",
    "vme = me.T @ poten_coefs\n",
    "\n",
    "gme = 0\n",
    "fac = {}\n",
    "for icoo in range(ncoo):\n",
    "    for jcoo in range(ncoo):\n",
    "        fac[icoo] = 1\n",
    "        fac[jcoo] = -1\n",
    "\n",
    "        if icoo != jcoo:\n",
    "            dme = np.prod(\n",
    "                [\n",
    "                    (\n",
    "                        fac[icoo_]\n",
    "                        * contr_dme[icoo_][\n",
    "                            np.ix_(\n",
    "                                deriv_mind[icoo_, :],\n",
    "                                bas_mind[icoo_, :],\n",
    "                                bas_mind[icoo_, :],\n",
    "                            )\n",
    "                        ]\n",
    "                        if icoo_ == icoo or icoo_ == jcoo\n",
    "                        else contr_me[icoo_][\n",
    "                            np.ix_(\n",
    "                                deriv_mind[icoo_, :],\n",
    "                                bas_mind[icoo_, :],\n",
    "                                bas_mind[icoo_, :],\n",
    "                            )\n",
    "                        ]\n",
    "                    )\n",
    "                    for icoo_ in range(ncoo)\n",
    "                ],\n",
    "                axis=0,\n",
    "            )\n",
    "        else:\n",
    "            dme = np.prod(\n",
    "                [\n",
    "                    (\n",
    "                        contr_d2me[icoo_][\n",
    "                            np.ix_(\n",
    "                                deriv_mind[icoo_, :],\n",
    "                                bas_mind[icoo_, :],\n",
    "                                bas_mind[icoo_, :],\n",
    "                            )\n",
    "                        ]\n",
    "                        if icoo_ == icoo\n",
    "                        else contr_me[icoo_][\n",
    "                            np.ix_(\n",
    "                                deriv_mind[icoo_, :],\n",
    "                                bas_mind[icoo_, :],\n",
    "                                bas_mind[icoo_, :],\n",
    "                            )\n",
    "                        ]\n",
    "                    )\n",
    "                    for icoo_ in range(ncoo)\n",
    "                ],\n",
    "                axis=0,\n",
    "            )\n",
    "        gme += dme.T @ Gmat_coefs[:, icoo, jcoo]\n",
    "\n",
    "\n",
    "hme = 0.5 * gme + vme\n",
    "e, v = np.linalg.eigh(hme)\n",
    "print(e[0], e - e[0])"
   ]
  },
  {
   "cell_type": "code",
   "execution_count": null,
   "id": "fc1c2720-60d4-42bb-b85b-cae4c8565ab7",
   "metadata": {},
   "outputs": [],
   "source": []
  }
 ],
 "metadata": {
  "kernelspec": {
   "display_name": "py310_clone",
   "language": "python",
   "name": "py310_clone"
  },
  "language_info": {
   "codemirror_mode": {
    "name": "ipython",
    "version": 3
   },
   "file_extension": ".py",
   "mimetype": "text/x-python",
   "name": "python",
   "nbconvert_exporter": "python",
   "pygments_lexer": "ipython3",
   "version": "3.10.14"
  }
 },
 "nbformat": 4,
 "nbformat_minor": 5
}
