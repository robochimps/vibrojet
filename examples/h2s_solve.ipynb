{
 "cells": [
  {
   "cell_type": "markdown",
   "id": "36e1554a",
   "metadata": {},
   "source": [
    "# Example of computing vibrational energy levels of a triatomic molecule using the Taylor series expansion approximation for the kinetic and potential energy operators\n",
    "\n",
    "Compute vibrational states of $\\text{H}_2\\text{S}$ molecule using the potential energy surface from\n",
    "[A. A. A. Azzam, J. Tennyson, S. N. Yurchenko, O. V. Naumenko, \"ExoMol molecular line lists - XVI. The rotation–vibration spectrum of hot H2S\", MNRAS 460, 4063–4074 (2016)](https://doi.org/10.1093/mnras/stw1133). See Python implementation in [h2s_AYT2.py](../vibrojet/potentials/h2s_AYT2.py).\n"
   ]
  },
  {
   "cell_type": "code",
   "execution_count": 1,
   "id": "ce48a54e",
   "metadata": {},
   "outputs": [],
   "source": [
    "import itertools\n",
    "import os\n",
    "\n",
    "import jax\n",
    "import jax.numpy as jnp\n",
    "import numpy as np\n",
    "from scipy import optimize\n",
    "\n",
    "from vibrojet.basis_utils import ContrBasis, HermiteBasis\n",
    "from vibrojet.keo import Gmat, pseudo, com\n",
    "from vibrojet.potentials import h2s_AYT2\n",
    "from vibrojet.taylor import deriv_list\n",
    "\n",
    "jax.config.update(\"jax_enable_x64\", True)"
   ]
  },
  {
   "cell_type": "markdown",
   "id": "6fcbef87",
   "metadata": {},
   "source": [
    "Compute equilibrium coordinates, around which the Taylor series expansions will be built"
   ]
  },
  {
   "cell_type": "code",
   "execution_count": 2,
   "id": "59171cc5",
   "metadata": {},
   "outputs": [
    {
     "name": "stdout",
     "output_type": "stream",
     "text": [
      "Equilibrium coordinates: [1.3358387  1.3358387  1.61042427]\n",
      "Min of the potential: -0.0007846164047977397\n"
     ]
    }
   ],
   "source": [
    "vmin = optimize.minimize(h2s_AYT2.poten, [1, 1, 90 * np.pi / 180])\n",
    "r0 = vmin.x\n",
    "v0 = vmin.fun\n",
    "print(\"Equilibrium coordinates:\", r0)\n",
    "print(\"Min of the potential:\", v0)"
   ]
  },
  {
   "cell_type": "markdown",
   "id": "f6fdbbd2",
   "metadata": {},
   "source": [
    "Define mapping function from internal valence coordinates, $r_1$, $r_2$, and $\\alpha$, to Cartesian coordinates"
   ]
  },
  {
   "cell_type": "code",
   "execution_count": 3,
   "id": "9393262b",
   "metadata": {},
   "outputs": [],
   "source": [
    "masses = [31.97207070, 1.00782505, 1.00782505]  # masses of S, H, H\n",
    "\n",
    "ncoo = len(r0)\n",
    "\n",
    "\n",
    "@com(masses)\n",
    "def internal_to_cartesian(coords):\n",
    "    r1, r2, alpha = coords\n",
    "    return jnp.array(\n",
    "        [\n",
    "            [0.0, 0.0, 0.0],\n",
    "            [r1 * jnp.cos(alpha / 2), 0.0, r1 * jnp.sin(alpha / 2)],\n",
    "            [r2 * jnp.cos(alpha / 2), 0.0, -r2 * jnp.sin(alpha / 2)],\n",
    "        ]\n",
    "    )"
   ]
  },
  {
   "cell_type": "markdown",
   "id": "d960bfae-2dd9-49ec-9837-44e4749538b6",
   "metadata": {},
   "source": [
    "Compute Taylor series expansion of the $G$-matrix and potential\n",
    "\n",
    "$$\n",
    "G_{\\lambda,\\mu}=\\sum_{\\mathbf{t}} g_{\\mathbf{t},\\lambda,\\mu} (r_1-r_1^\\text{(eq)})^{t_1}(r_2-r_2^\\text{(eq)})^{t_2}(\\alpha-\\alpha^\\text{(eq)})^{t_3},\n",
    "$$\n",
    "\n",
    "$$\n",
    "V=\\sum_{\\mathbf{t}} f_{\\mathbf{t}} (r_1-r_1^\\text{(eq)})^{t_1}(r_2-r_2^\\text{(eq)})^{t_2}(\\alpha-\\alpha^\\text{(eq)})^{t_3},\n",
    "$$\n",
    "\n",
    " where the derivative multi-index $\\mathbf{t}$ is stored in `gmat_terms` and `poten_terms`, and the expansion coefficients $g_{\\mathbf{t},\\lambda,\\mu}$ and $f_{\\mathbf{t}}$ in `gmat_coefs[:len(gmat_terms),:3N, :3N]` and `poten_coefs[:len(poten_terms)]` respectively, where $N$ is the number of atoms\n"
   ]
  },
  {
   "cell_type": "code",
   "execution_count": 5,
   "id": "78fcf11c",
   "metadata": {},
   "outputs": [
    {
     "name": "stdout",
     "output_type": "stream",
     "text": [
      "max expansion order for G-matrix: 8\n",
      "number of expansion terms in G-matrix: 165\n",
      "load G-matrix expansion coefs from file _h2s_gmat_coefs_8.npy (delete file to recompute coefficients)\n",
      "load pseudopotential expansion coefs from file _h2s_pseudo_coefs_8.npy (delete file to recompute coefficients)\n"
     ]
    }
   ],
   "source": [
    "gmat_max_order = 8  # max total expansion order\n",
    "\n",
    "gmat_terms = np.array(\n",
    "    [\n",
    "        elem\n",
    "        for elem in itertools.product(\n",
    "            *[range(0, gmat_max_order + 1) for _ in range(len(r0))]\n",
    "        )\n",
    "        if sum(elem) <= gmat_max_order\n",
    "    ]\n",
    ")\n",
    "pseudo_terms = gmat_terms\n",
    "print(\"max expansion order for G-matrix:\", gmat_max_order)\n",
    "print(\"number of expansion terms in G-matrix:\", len(gmat_terms))\n",
    "\n",
    "# expansion of G-matrix\n",
    "\n",
    "gmat_file = f\"_h2s_gmat_coefs_{gmat_max_order}.npy\"\n",
    "if os.path.exists(gmat_file):\n",
    "    print(\n",
    "        f\"load G-matrix expansion coefs from file {gmat_file} (delete file to recompute coefficients)\"\n",
    "    )\n",
    "    gmat_coefs = np.load(gmat_file)\n",
    "else:\n",
    "    gmat_coefs = deriv_list(\n",
    "        lambda x: Gmat(x, masses, internal_to_cartesian), gmat_terms, r0, if_taylor=True\n",
    "    )\n",
    "    np.save(gmat_file, gmat_coefs)\n",
    "\n",
    "# expansion of pseudopotential\n",
    "\n",
    "pseudo_file = f\"_h2s_pseudo_coefs_{gmat_max_order}.npy\"\n",
    "if os.path.exists(pseudo_file):\n",
    "    print(\n",
    "        f\"load pseudopotential expansion coefs from file {pseudo_file} (delete file to recompute coefficients)\"\n",
    "    )\n",
    "    pseudo_coefs = np.load(pseudo_file)\n",
    "else:\n",
    "    pseudo_coefs = deriv_list(\n",
    "        lambda x: pseudo(x, masses, internal_to_cartesian),\n",
    "        gmat_terms,\n",
    "        r0,\n",
    "        if_taylor=True,\n",
    "    )\n",
    "    np.save(pseudo_file, pseudo_coefs)"
   ]
  },
  {
   "cell_type": "code",
   "execution_count": 6,
   "id": "66790ea2",
   "metadata": {},
   "outputs": [
    {
     "name": "stdout",
     "output_type": "stream",
     "text": [
      "max expansion order for PES: 8\n",
      "number of expansion terms in PES: 165\n",
      "load potential expansion coefs from file _h2s_poten_coefs_8.npy (delete file to recompute coefficients)\n"
     ]
    }
   ],
   "source": [
    "poten_max_order = 8\n",
    "\n",
    "poten_terms = np.array(\n",
    "    [\n",
    "        elem\n",
    "        for elem in itertools.product(\n",
    "            *[range(0, poten_max_order + 1) for _ in range(len(r0))]\n",
    "        )\n",
    "        if sum(elem) <= poten_max_order\n",
    "    ]\n",
    ")\n",
    "print(\"max expansion order for PES:\", poten_max_order)\n",
    "print(\"number of expansion terms in PES:\", len(poten_terms))\n",
    "\n",
    "poten_file = f\"_h2s_poten_coefs_{poten_max_order}.npy\"\n",
    "if os.path.exists(poten_file):\n",
    "    print(\n",
    "        f\"load potential expansion coefs from file {poten_file} (delete file to recompute coefficients)\"\n",
    "    )\n",
    "    poten_coefs = np.load(poten_file)\n",
    "else:\n",
    "    poten_coefs = deriv_list(h2s_AYT2.poten, poten_terms, r0, if_taylor=True)\n",
    "    np.save(poten_file, poten_coefs)"
   ]
  },
  {
   "cell_type": "markdown",
   "id": "d678846e",
   "metadata": {},
   "source": [
    "Define mapping between the coordinate $x\\in (-\\infty, \\infty)$ of Hermite basis functions and the internal valence coordinates as $r_1=a_1 x_1 + b_1$, $r_2=a_2x_2+b_2$, $\\alpha=a_3x_3+b_3$. The parameters $a_1,b_1,...,b_3$ are determined by mapping the vibrational Hamiltonian in valence coordinates onto the harmonic-oscillator Hamiltonian."
   ]
  },
  {
   "cell_type": "code",
   "execution_count": 7,
   "id": "b7a0f44b",
   "metadata": {},
   "outputs": [
    {
     "name": "stdout",
     "output_type": "stream",
     "text": [
      "x->r linear mapping parameters 'a': [0.11245619 0.11245619 0.17845517]\n",
      "x->r linear mapping parameters 'b': [1.3358387  1.3358387  1.61042427]\n"
     ]
    }
   ],
   "source": [
    "mask = gmat_terms != 0  # Mask for derivatives\n",
    "\n",
    "# Vibrational G-matrix elements at equilibrium geometry\n",
    "ind0 = np.where(mask.sum(axis=1) == 0)[0][0]\n",
    "mu = np.diag(gmat_coefs[ind0])[:ncoo]\n",
    "\n",
    "# Second-order derivative of potential at equilibrium\n",
    "mask = poten_terms != 0  # Mask for derivatives\n",
    "ind2 = np.array(\n",
    "    [   np.where((mask.sum(axis=1) == 1) & (poten_terms[:, icoo] == 2))[0][0]\n",
    "        for icoo in range(ncoo)]\n",
    ")\n",
    "\n",
    "freq = poten_coefs[ind2] * 2\n",
    "\n",
    "# Linear mapping parameters\n",
    "lin_a = jnp.sqrt(jnp.sqrt(mu / freq))\n",
    "lin_b = r0\n",
    "\n",
    "print(\"x->r linear mapping parameters 'a':\", lin_a)\n",
    "print(\"x->r linear mapping parameters 'b':\", lin_b)\n",
    "\n",
    "# Linear mapping function\n",
    "x_to_r_map = lambda x, icoo: lin_a[icoo] * x + lin_b[icoo]"
   ]
  },
  {
   "cell_type": "markdown",
   "id": "398e0392",
   "metadata": {},
   "source": [
    "Generate primitive Hermite basis sets for each coordinate."
   ]
  },
  {
   "cell_type": "code",
   "execution_count": 8,
   "id": "a8e20e1b",
   "metadata": {},
   "outputs": [],
   "source": [
    "nbas = [30, 30, 24]\n",
    "npoints = [80] * ncoo\n",
    "\n",
    "bas_r1, bas_r2, bas_alpha = [\n",
    "    HermiteBasis(\n",
    "        icoo,\n",
    "        nbas[icoo],\n",
    "        npoints[icoo],\n",
    "        lambda x: x_to_r_map(x, icoo),\n",
    "        lambda r: r - r0[icoo],\n",
    "        lambda r: r - r0[icoo],\n",
    "        gmat_terms[:, icoo],\n",
    "        poten_terms[:, icoo],\n",
    "        pseudo_terms[:, icoo],\n",
    "    )\n",
    "    for icoo in range(ncoo)\n",
    "]"
   ]
  },
  {
   "cell_type": "markdown",
   "id": "db846ead",
   "metadata": {},
   "source": [
    "Compute 1D contracted basis sets, by solving 1D reduced-mode Schrödinger equations for each coordinate."
   ]
  },
  {
   "cell_type": "code",
   "execution_count": 9,
   "id": "4332d18b",
   "metadata": {},
   "outputs": [
    {
     "name": "stdout",
     "output_type": "stream",
     "text": [
      "Solutions for r1 mode:\n",
      " zpe = 2361.7950570907633\n",
      " [    0.          2627.83310095  5165.68583648  7629.77901979\n",
      " 10056.05642783 12496.83825129 15001.60164644 17601.69818093\n",
      " 20311.16466355 23134.07657558 26069.98236833 29116.65213762\n",
      " 32271.47762591 35532.58893808 38899.21252554]\n",
      "\n",
      "Solutions for r2 mode:\n",
      " zpe = 2361.795057137522\n",
      " [    0.          2627.83310095  5165.68583648  7629.77901976\n",
      " 10056.05642772 12496.83825106 15001.60164602 17601.69818028\n",
      " 20311.16466265 23134.07657442 26069.98236687 29116.65213587\n",
      " 32271.47762385 35532.5889357  38899.21252283]\n",
      "\n",
      "Solutions for alpha mode:\n",
      " zpe = 2026.5007139178242\n",
      " [    0.          1214.1828581   2422.52098472  3624.57606553\n",
      "  4819.78084361  6007.22739247  7185.15140905  7351.13931048\n",
      "  8350.72917815  9496.80946149 10608.78971238 11656.6267001\n",
      " 12623.30073129 13598.36265685 14676.14362905 15845.09195459\n",
      " 17086.46640086 18383.87068341 19733.52931523 21161.16514744\n",
      " 22547.85661979 24182.30837895 25650.8574639  27516.3243721 ]\n"
     ]
    }
   ],
   "source": [
    "bas_r1, bas_r2, bas_alpha = [\n",
    "    ContrBasis(\n",
    "        (icoo,),\n",
    "        [bas_r1, bas_r2, bas_alpha],\n",
    "        lambda _: True,\n",
    "        gmat_terms,\n",
    "        gmat_coefs,\n",
    "        poten_terms,\n",
    "        poten_coefs,\n",
    "        emax=40000,\n",
    "    )\n",
    "    for icoo in range(ncoo)\n",
    "]\n",
    "\n",
    "e = bas_r1.enr\n",
    "print(\"Solutions for r1 mode:\\n\", f\"zpe = {e[0]}\\n\", e - e[0])\n",
    "e = bas_r2.enr\n",
    "print(\"\\nSolutions for r2 mode:\\n\", f\"zpe = {e[0]}\\n\", e - e[0])\n",
    "e = bas_alpha.enr\n",
    "print(\"\\nSolutions for alpha mode:\\n\", f\"zpe = {e[0]}\\n\", e - e[0])"
   ]
  },
  {
   "cell_type": "markdown",
   "id": "e9e3ae00",
   "metadata": {},
   "source": [
    "Compute 2D contracted basis sets for the stretching coordinates $r_1$ and $r_2$ by solving 2D reduced-mode Schrödinger equation, where basis functions for the bending  $\\alpha$ coordinate are fixed to the ground (zero-order function) state."
   ]
  },
  {
   "cell_type": "code",
   "execution_count": 10,
   "id": "89b90f7f",
   "metadata": {},
   "outputs": [
    {
     "name": "stdout",
     "output_type": "stream",
     "text": [
      "Solutions for r1+r2 modes:\n",
      " zpe = 3007.6990842051514\n",
      " [    0.          2619.90705622  2634.82764618  5162.02004741\n",
      "  5164.09720811  5256.79159799  7624.76498937  7624.98085051\n",
      "  7777.2518065   7808.28533577 10043.99256128 10044.16337104\n",
      " 10250.03734173 10254.24401492 10341.27551785 12465.89841443\n",
      " 12465.94175046 12675.57103761 12680.93938133 12784.75945293\n",
      " 12831.34790893 14922.10135492 14922.27900747 15113.47410355\n",
      " 15120.61312068 15235.94472002 15244.33375269 15316.87690823\n",
      " 17411.82523568 17413.00626676 17589.93727758 17604.01647165\n",
      " 17706.92091671 17711.14351955 17781.88520798 17826.13459693\n",
      " 19926.42178329 19931.35067989 20078.91950456 20104.37418121\n",
      " 20207.19846206 20212.1325486  20283.9414635  20445.75480963\n",
      " 20455.28155645 22468.17998969 22481.6613593  22579.50020085\n",
      " 22611.33678443 22715.3775176  22764.18869705 22885.55595227\n",
      " 22926.84319214 23244.61820117 23246.1718497  25034.64515157\n",
      " 25051.05211157 25132.41279492 25139.35232896 25296.10685239\n",
      " 25380.76832718 25394.23143007 25677.24432299 25691.98548947\n",
      " 26165.35755955 26165.63350809 27608.92957855 27610.5450782\n",
      " 27752.98810215 27781.91169855 27869.32083634 28066.90140527\n",
      " 28096.54980744 28158.92649932 28582.79741971 28587.22706119\n",
      " 29200.42399659 29200.48727459 30198.48893404 30201.42384238\n",
      " 30424.84291052 30496.12174135 30569.88110577 30685.06679454\n",
      " 30825.58799304 31011.93839923 31041.15322875 31605.13152954\n",
      " 31606.43897552 32346.76964237 32346.7795901  32827.65933574\n",
      " 32833.56844494 33171.95971462 33210.18283148 33331.25267579\n",
      " 33503.80616988 33592.61947957 33658.63132767 34049.84330964\n",
      " 34060.74292519 34751.86201991 34752.30140151 35507.89206823\n",
      " 35509.7809132  35606.54096421 35606.54377933 35944.51233129\n",
      " 35996.19126542 36207.52981469 36234.49071429 36562.94718104\n",
      " 36567.92548092 36617.35963348 37221.08923501 37225.06571419\n",
      " 38039.29359602 38040.14934168 38236.8099952  38240.82654175\n",
      " 38791.17302809 38794.02109285 38990.96269687 38991.60060208\n",
      " 39107.06513646 39179.42409264 39305.85149582 39545.53899165\n",
      " 39758.41050965 39779.20863706]\n"
     ]
    }
   ],
   "source": [
    "bas_r1_r2 = ContrBasis(\n",
    "    (0, 1),\n",
    "    (bas_r1, bas_r2, bas_alpha),\n",
    "    lambda _: True,\n",
    "    gmat_terms,\n",
    "    gmat_coefs,\n",
    "    poten_terms,\n",
    "    poten_coefs,\n",
    "    emax=40000,\n",
    ")\n",
    "\n",
    "e = bas_r1_r2.enr\n",
    "print(\"Solutions for r1+r2 modes:\\n\", f\"zpe = {e[0]}\\n\", e - e[0])"
   ]
  },
  {
   "cell_type": "markdown",
   "id": "b5e475c0",
   "metadata": {},
   "source": [
    "Compute full-dimensional solutions using contracted basis sets for all coordinates.\n",
    "The size of the total basis set is controlled by the scaled sum of the stretching and bending excitation numbers in `select_quanta`"
   ]
  },
  {
   "cell_type": "code",
   "execution_count": 11,
   "id": "67eef3d4",
   "metadata": {},
   "outputs": [
    {
     "name": "stdout",
     "output_type": "stream",
     "text": [
      "61\n",
      "Solutions for r1+r2+alpha modes:\n",
      " zpe = 3300.83022101828\n",
      " [    0.          1182.69016146  2354.10279399  2614.9705612\n",
      "  2629.19007474  3513.82469533  3780.07418898  3790.2972795\n",
      "  4661.41343473  4933.86307634  4940.45529102  5151.23368443\n",
      "  5153.67794154  5245.3207521   5796.70193169  5896.8296015\n",
      "  6076.35931497  6079.3534815   6295.48610317  6298.43974798\n",
      "  6388.02678711  6917.52530151  7206.10678282  7214.98781926\n",
      "  7433.50287485  7444.76751967  7533.36670098  7613.67898851\n",
      "  7614.24518363  7768.54929475  7798.43980148  8049.02697202\n",
      "  8319.75897526  8370.42791152  8558.92358929  8612.98979777\n",
      "  8717.06681379  8738.6279759   8758.27648267  8761.16398798\n",
      "  8920.74050105  9280.743632    9447.20382985  9522.25558291\n",
      "  9704.38260578  9765.05488968  9886.02236304  9909.55007997\n",
      "  9924.11230067 10001.7368067  10037.36172024 10086.96779526\n",
      " 10376.56141636 10664.64673176 10793.67283321 10920.46668403\n",
      " 10991.88208941 11072.1918288  12052.34260723 12124.58426125\n",
      " 12240.2500752 ]\n"
     ]
    }
   ],
   "source": [
    "p_max = 10\n",
    "\n",
    "\n",
    "def select_quanta(ind):\n",
    "    ind_str, ind_bnd = ind\n",
    "    cond = int(np.ceil(ind_str / 2)) * 2 + ind_bnd <= p_max\n",
    "    return cond\n",
    "\n",
    "\n",
    "bas_r1_r2_alpha = ContrBasis(\n",
    "    (0, 1),\n",
    "    (bas_r1_r2, bas_alpha),\n",
    "    select_quanta,\n",
    "    gmat_terms,\n",
    "    gmat_coefs,\n",
    "    poten_terms,\n",
    "    poten_coefs,\n",
    "    store_me=False,\n",
    ")\n",
    "\n",
    "e = bas_r1_r2_alpha.enr\n",
    "print(len(e))\n",
    "print(\"Solutions for r1+r2+alpha modes:\\n\", f\"zpe = {e[0]}\\n\", e - e[0])"
   ]
  }
 ],
 "metadata": {
  "kernelspec": {
   "display_name": "myenv",
   "language": "python",
   "name": "python3"
  },
  "language_info": {
   "codemirror_mode": {
    "name": "ipython",
    "version": 3
   },
   "file_extension": ".py",
   "mimetype": "text/x-python",
   "name": "python",
   "nbconvert_exporter": "python",
   "pygments_lexer": "ipython3",
   "version": "3.13.3"
  }
 },
 "nbformat": 4,
 "nbformat_minor": 5
}
