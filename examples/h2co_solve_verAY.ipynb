{
 "cells": [
  {
   "cell_type": "code",
   "execution_count": 1,
   "id": "ce48a54e",
   "metadata": {},
   "outputs": [],
   "source": [
    "import os\n",
    "\n",
    "import jax\n",
    "import jax.numpy as jnp\n",
    "import numpy as np\n",
    "from scipy import optimize\n",
    "\n",
    "from vibrojet.basis_utils import ContrBasis, HermiteBasis, generate_prod_ind\n",
    "from vibrojet.keo import Gmat, com\n",
    "from vibrojet.potentials import h2co_AYTY\n",
    "from vibrojet.taylor import deriv_list\n",
    "\n",
    "jax.config.update(\"jax_enable_x64\", True)"
   ]
  },
  {
   "cell_type": "markdown",
   "id": "ab333b0f",
   "metadata": {},
   "source": [
    "Equilibrium geometry"
   ]
  },
  {
   "cell_type": "code",
   "execution_count": 2,
   "id": "59171cc5",
   "metadata": {},
   "outputs": [
    {
     "name": "stdout",
     "output_type": "stream",
     "text": [
      "equilibrium coordinates: [1.19999999 1.1        1.1        2.13       2.13       3.14159264]\n",
      "min of the potential: 1.735341153700765e-11\n"
     ]
    }
   ],
   "source": [
    "vmin = optimize.minimize(h2co_AYTY.poten, [1, 1, 1, 2, 2, np.pi])\n",
    "r0 = vmin.x\n",
    "v0 = vmin.fun\n",
    "print(\"equilibrium coordinates:\", r0)\n",
    "print(\"min of the potential:\", v0)"
   ]
  },
  {
   "cell_type": "markdown",
   "id": "19c92c6e",
   "metadata": {},
   "source": [
    "Coordinate mapping"
   ]
  },
  {
   "cell_type": "code",
   "execution_count": 3,
   "id": "9393262b",
   "metadata": {},
   "outputs": [],
   "source": [
    "masses = [12.0, 15.990526, 1.00782505, 1.00782505]  # masses of C, O, H, H\n",
    "\n",
    "ncoo = len(r0)\n",
    "\n",
    "\n",
    "# @eckart(r0, masses)\n",
    "@com(masses)\n",
    "def internal_to_cartesian(internal_coords):\n",
    "    rCO, rCH1, rCH2, aOCH1, aOCH2, tau = internal_coords\n",
    "    xyz = [\n",
    "        [0.0, 0.0, 0.0],\n",
    "        [0.0, 0.0, rCO],\n",
    "        [\n",
    "            rCH1 * jnp.sin(aOCH1) * jnp.cos(tau * 0.5),\n",
    "            -rCH1 * jnp.sin(aOCH1) * jnp.sin(tau * 0.5),\n",
    "            rCH1 * jnp.cos(aOCH1),\n",
    "        ],\n",
    "        [\n",
    "            rCH2 * jnp.sin(aOCH2) * jnp.cos(tau * 0.5),\n",
    "            rCH2 * jnp.sin(aOCH2) * jnp.sin(tau * 0.5),\n",
    "            rCH2 * jnp.cos(aOCH2),\n",
    "        ],\n",
    "    ]\n",
    "    return jnp.array(xyz, dtype=jnp.float64)"
   ]
  },
  {
   "cell_type": "markdown",
   "id": "da2a4b51",
   "metadata": {},
   "source": [
    "Generate expansions for the KEO and PES"
   ]
  },
  {
   "cell_type": "code",
   "execution_count": 4,
   "id": "fc1a8b33",
   "metadata": {},
   "outputs": [
    {
     "name": "stdout",
     "output_type": "stream",
     "text": [
      "max expansion power: 4\n",
      "number of expansion terms: 210\n"
     ]
    }
   ],
   "source": [
    "max_pow = 4\n",
    "powers = [np.arange(max_pow + 1)] * ncoo\n",
    "deriv_ind, deriv_mind = next(\n",
    "    generate_prod_ind(powers, select=lambda ind: np.sum(ind) <= max_pow)\n",
    ")\n",
    "\n",
    "print(\"max expansion power:\", max_pow)\n",
    "print(\"number of expansion terms:\", len(deriv_ind))"
   ]
  },
  {
   "cell_type": "code",
   "execution_count": 5,
   "id": "80b9c792",
   "metadata": {},
   "outputs": [
    {
     "name": "stdout",
     "output_type": "stream",
     "text": [
      "load potential expansion coefs from file _h2co_poten_coefs.npy\n"
     ]
    }
   ],
   "source": [
    "poten_file = \"_h2co_poten_coefs.npy\"\n",
    "if os.path.exists(poten_file):\n",
    "    print(f\"load potential expansion coefs from file {poten_file}\")\n",
    "    poten_coefs = np.load(poten_file)\n",
    "else:\n",
    "    poten_coefs = deriv_list(h2co_AYTY.poten, deriv_ind, r0, if_taylor=True)\n",
    "    np.save(poten_file, poten_coefs)"
   ]
  },
  {
   "cell_type": "code",
   "execution_count": 6,
   "id": "1c8aea78",
   "metadata": {},
   "outputs": [
    {
     "name": "stdout",
     "output_type": "stream",
     "text": [
      "load G-matrix expansion coefs from file _h2co_Gmat_coefs.npy\n"
     ]
    }
   ],
   "source": [
    "Gmat_file = \"_h2co_Gmat_coefs.npy\"\n",
    "if os.path.exists(Gmat_file):\n",
    "    print(f\"load G-matrix expansion coefs from file {Gmat_file}\")\n",
    "    Gmat_coefs = np.load(Gmat_file)\n",
    "else:\n",
    "    Gmat_coefs = deriv_list(\n",
    "        lambda x: Gmat(x, masses, internal_to_cartesian), deriv_ind, r0, if_taylor=True\n",
    "    )\n",
    "    np.save(Gmat_file, Gmat_coefs)"
   ]
  },
  {
   "cell_type": "markdown",
   "id": "e59ff1af",
   "metadata": {},
   "source": [
    "Define linear mapping between coordinates of Hermite functions and internal valence coordinates"
   ]
  },
  {
   "cell_type": "code",
   "execution_count": 7,
   "id": "b7a0f44b",
   "metadata": {},
   "outputs": [
    {
     "name": "stdout",
     "output_type": "stream",
     "text": [
      "x->r linear mapping parameters 'a': [0.05235088 0.11034365 0.11034365 0.15434588 0.15434588 0.3003904 ]\n",
      "x->r linear mapping parameters 'b': [1.19999999 1.1        1.1        2.13       2.13       3.14159264]\n"
     ]
    }
   ],
   "source": [
    "mask = deriv_ind != 0\n",
    "ind0 = np.where(mask.sum(axis=1) == 0)[0][0]\n",
    "mu = np.diag(Gmat_coefs[ind0])[:ncoo]\n",
    "\n",
    "ind2 = np.array(\n",
    "    [\n",
    "        np.where((mask.sum(axis=1) == 1) & (deriv_ind[:, icoo] == 2))[0][0]\n",
    "        for icoo in range(ncoo)\n",
    "    ]\n",
    ")\n",
    "freq = poten_coefs[ind2] * 2\n",
    "\n",
    "lin_a = jnp.sqrt(jnp.sqrt(mu / freq))\n",
    "lin_b = r0\n",
    "\n",
    "print(\"x->r linear mapping parameters 'a':\", lin_a)\n",
    "print(\"x->r linear mapping parameters 'b':\", lin_b)\n",
    "\n",
    "# x->r linear mapping function\n",
    "x_to_r_map = lambda x, icoo: lin_a[icoo] * x + lin_b[icoo]\n",
    "jac_x_to_r_map = lambda x, icoo: np.ones_like(x) * lin_a[icoo]"
   ]
  },
  {
   "cell_type": "markdown",
   "id": "fc3b2129",
   "metadata": {},
   "source": [
    "Define primitive basis"
   ]
  },
  {
   "cell_type": "code",
   "execution_count": 8,
   "id": "f80d024f",
   "metadata": {},
   "outputs": [],
   "source": [
    "nbas = [10] * ncoo\n",
    "npoints = [80] * ncoo\n",
    "\n",
    "p0, p1, p2, p3, p4, p5 = [\n",
    "    HermiteBasis(\n",
    "        icoo,\n",
    "        nbas[icoo],\n",
    "        npoints[icoo],\n",
    "        lambda x: x_to_r_map(x, icoo),\n",
    "        r0[icoo],\n",
    "        deriv_ind[:, icoo],\n",
    "    )\n",
    "    for icoo in range(ncoo)\n",
    "]"
   ]
  },
  {
   "cell_type": "markdown",
   "id": "2551e378",
   "metadata": {},
   "source": [
    "Build contracted basis"
   ]
  },
  {
   "cell_type": "code",
   "execution_count": 9,
   "id": "4939ae80",
   "metadata": {},
   "outputs": [
    {
     "name": "stdout",
     "output_type": "stream",
     "text": [
      "3498.4005430664756 [    0.          1767.49826544  3516.20988539  5249.45524218\n",
      "  6972.82534736  8710.87648757 10566.40021498 12531.54185015\n",
      " 14998.00989534 20431.50042489]\n",
      "3754.100055613889 [    0.          2877.97162589  5734.12572548  8622.19292086\n",
      " 11576.24234791 14682.33717759 18077.95305985 21796.68277158\n",
      " 28565.75690689 45995.46037177]\n",
      "3754.100056503732 [    0.          2877.97162626  5734.12572571  8622.19292046\n",
      " 11576.24234645 14682.33717391 18077.95305288 21796.68275781\n",
      " 28565.75687903 45995.46032979]\n",
      "3439.8386374881943 [    0.          1504.00373554  3008.09100223  4512.26469289\n",
      "  6016.52858298  7520.88536795  9025.41834462 10535.49831869\n",
      " 12042.95127454 13552.30491157]\n",
      "3439.8386363352856 [    0.          1504.00373377  3008.09099864  4512.26468744\n",
      "  6016.52857563  7520.88535865  9025.41833339 10535.49830526\n",
      " 12042.9512593  13552.30489777]\n",
      "3370.6659956656254 [    0.          1229.29736327  2475.70531137  3738.29867426\n",
      "  5016.30579807  6308.99769789  7619.60750169  8940.69553125\n",
      " 10361.33090809 11758.05213476]\n",
      "4446.890290396182 [    0.          2859.51845377  2899.11226279  5705.59353217\n",
      "  5737.34262697  5791.36627579  8556.69192822  8603.11103231\n",
      "  8646.84552585  8684.26250246 11410.76184469 11488.95103619\n",
      " 11544.78416638 11602.11047753 11612.52822028 14274.95101684\n",
      " 14383.31505055 14477.39844311 14509.66774807 14697.05064306\n",
      " 14697.33318614 17159.89534253 17304.56894759 17397.4418592\n",
      " 17584.57682212 17588.50553633 18085.35394912 18085.35907068\n",
      " 20077.42572431 20259.08356804 20444.40231328 20476.91771923\n",
      " 20966.7814223  20966.9515179  21802.71157062 21802.71196327\n",
      " 23043.39503979 23292.99385155 23412.34182442 23827.57510795\n",
      " 23830.73586927 24689.55876422 24689.5749679  26083.13245634\n",
      " 26357.07154059 26711.47119166 26743.0488898  27557.39008966\n",
      " 27557.77959803 28551.66748883 28551.66756832 29216.47186045\n",
      " 29611.16918906 29763.1989535  30460.338478   30466.13011634\n",
      " 31412.98992172 31412.99189081 32483.3250161  32862.72234558\n",
      " 33423.08448559 33479.72831054 34259.50780635 34259.54457103\n",
      " 35878.45793246 36461.2990372  36737.15414564 37144.34645745\n",
      " 37144.74722077 39489.5421176  40096.34205492 40100.57633756\n",
      " 40217.73963556 43212.26245353 43230.74714127 43533.16483266\n",
      " 45967.67746449 45967.67750679 46619.82129941 46679.45078956\n",
      " 48810.99124246 48810.99128506 50045.26780293 50722.58865172\n",
      " 51644.43210408 51644.43308284 54520.02340737 54520.044397\n",
      " 57261.3143602  57470.54958378 57470.867203   60589.63282039\n",
      " 60592.65463541 64009.62044368 64019.1265681  67800.13280996\n",
      " 67843.65165111 74587.09176212 74989.90966231 92358.89032567]\n"
     ]
    }
   ],
   "source": [
    "# test 1D shit\n",
    "c0, c1, c2, c3, c4, c5 = [\n",
    "    ContrBasis(\n",
    "        (icoo,), (p0, p1, p2, p3, p4, p5), lambda _: True, Gmat_coefs, poten_coefs\n",
    "    )\n",
    "    for icoo in range(ncoo)\n",
    "]\n",
    "\n",
    "# test coupling shit\n",
    "c12 = ContrBasis(\n",
    "    (1, 2), (p0, c1, c2, p3, p4, p5), lambda _: True, Gmat_coefs, poten_coefs\n",
    ")"
   ]
  },
  {
   "cell_type": "code",
   "execution_count": null,
   "id": "7ec21a79",
   "metadata": {},
   "outputs": [],
   "source": []
  },
  {
   "cell_type": "code",
   "execution_count": null,
   "id": "69ff3d22",
   "metadata": {},
   "outputs": [],
   "source": []
  }
 ],
 "metadata": {
  "kernelspec": {
   "display_name": "myenv",
   "language": "python",
   "name": "python3"
  },
  "language_info": {
   "codemirror_mode": {
    "name": "ipython",
    "version": 3
   },
   "file_extension": ".py",
   "mimetype": "text/x-python",
   "name": "python",
   "nbconvert_exporter": "python",
   "pygments_lexer": "ipython3",
   "version": "3.13.0"
  }
 },
 "nbformat": 4,
 "nbformat_minor": 5
}
