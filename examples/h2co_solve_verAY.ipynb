{
 "cells": [
  {
   "cell_type": "code",
   "execution_count": 1,
   "id": "ce48a54e",
   "metadata": {},
   "outputs": [],
   "source": [
    "import os\n",
    "\n",
    "import jax\n",
    "import jax.numpy as jnp\n",
    "import numpy as np\n",
    "from scipy import optimize\n",
    "\n",
    "from vibrojet.basis_utils import ContrBasis, HermiteBasis, generate_prod_ind\n",
    "from vibrojet.keo import Gmat, com\n",
    "from vibrojet.potentials import h2co_AYTY\n",
    "from vibrojet.taylor import deriv_list\n",
    "\n",
    "jax.config.update(\"jax_enable_x64\", True)"
   ]
  },
  {
   "cell_type": "markdown",
   "id": "ab333b0f",
   "metadata": {},
   "source": [
    "Equilibrium geometry"
   ]
  },
  {
   "cell_type": "code",
   "execution_count": 2,
   "id": "59171cc5",
   "metadata": {},
   "outputs": [
    {
     "name": "stdout",
     "output_type": "stream",
     "text": [
      "equilibrium coordinates: [1.19999999 1.1        1.1        2.13       2.13       3.14159264]\n",
      "min of the potential: 1.735341153700765e-11\n"
     ]
    }
   ],
   "source": [
    "vmin = optimize.minimize(h2co_AYTY.poten, [1, 1, 1, 2, 2, np.pi])\n",
    "r0 = vmin.x\n",
    "v0 = vmin.fun\n",
    "print(\"equilibrium coordinates:\", r0)\n",
    "print(\"min of the potential:\", v0)"
   ]
  },
  {
   "cell_type": "markdown",
   "id": "19c92c6e",
   "metadata": {},
   "source": [
    "Coordinate mapping"
   ]
  },
  {
   "cell_type": "code",
   "execution_count": 3,
   "id": "9393262b",
   "metadata": {},
   "outputs": [],
   "source": [
    "masses = [12.0, 15.990526, 1.00782505, 1.00782505]  # masses of C, O, H, H\n",
    "\n",
    "ncoo = len(r0)\n",
    "\n",
    "\n",
    "# @eckart(r0, masses)\n",
    "@com(masses)\n",
    "def internal_to_cartesian(internal_coords):\n",
    "    rCO, rCH1, rCH2, aOCH1, aOCH2, tau = internal_coords\n",
    "    xyz = [\n",
    "        [0.0, 0.0, 0.0],\n",
    "        [0.0, 0.0, rCO],\n",
    "        [\n",
    "            rCH1 * jnp.sin(aOCH1) * jnp.cos(tau * 0.5),\n",
    "            -rCH1 * jnp.sin(aOCH1) * jnp.sin(tau * 0.5),\n",
    "            rCH1 * jnp.cos(aOCH1),\n",
    "        ],\n",
    "        [\n",
    "            rCH2 * jnp.sin(aOCH2) * jnp.cos(tau * 0.5),\n",
    "            rCH2 * jnp.sin(aOCH2) * jnp.sin(tau * 0.5),\n",
    "            rCH2 * jnp.cos(aOCH2),\n",
    "        ],\n",
    "    ]\n",
    "    return jnp.array(xyz, dtype=jnp.float64)"
   ]
  },
  {
   "cell_type": "markdown",
   "id": "da2a4b51",
   "metadata": {},
   "source": [
    "Generate expansions for the KEO and PES"
   ]
  },
  {
   "cell_type": "code",
   "execution_count": 4,
   "id": "fc1a8b33",
   "metadata": {},
   "outputs": [
    {
     "name": "stdout",
     "output_type": "stream",
     "text": [
      "max expansion power: 6\n",
      "number of expansion terms: 924\n"
     ]
    }
   ],
   "source": [
    "max_pow = 6\n",
    "powers = [np.arange(max_pow + 1)] * ncoo\n",
    "deriv_ind, deriv_mind = next(\n",
    "    generate_prod_ind(powers, select=lambda ind: np.sum(ind) <= max_pow)\n",
    ")\n",
    "\n",
    "print(\"max expansion power:\", max_pow)\n",
    "print(\"number of expansion terms:\", len(deriv_ind))"
   ]
  },
  {
   "cell_type": "code",
   "execution_count": 5,
   "id": "80b9c792",
   "metadata": {},
   "outputs": [
    {
     "name": "stdout",
     "output_type": "stream",
     "text": [
      "load potential expansion coefs from file _h2co_poten_coefs.npy\n"
     ]
    }
   ],
   "source": [
    "poten_file = \"_h2co_poten_coefs.npy\"\n",
    "if os.path.exists(poten_file):\n",
    "    print(f\"load potential expansion coefs from file {poten_file}\")\n",
    "    poten_coefs = np.load(poten_file)\n",
    "else:\n",
    "    poten_coefs = deriv_list(h2co_AYTY.poten, deriv_ind, r0, if_taylor=True)\n",
    "    np.save(poten_file, poten_coefs)"
   ]
  },
  {
   "cell_type": "code",
   "execution_count": 6,
   "id": "1c8aea78",
   "metadata": {},
   "outputs": [
    {
     "name": "stdout",
     "output_type": "stream",
     "text": [
      "load G-matrix expansion coefs from file _h2co_Gmat_coefs.npy\n"
     ]
    }
   ],
   "source": [
    "Gmat_file = \"_h2co_Gmat_coefs.npy\"\n",
    "if os.path.exists(Gmat_file):\n",
    "    print(f\"load G-matrix expansion coefs from file {Gmat_file}\")\n",
    "    Gmat_coefs = np.load(Gmat_file)\n",
    "else:\n",
    "    Gmat_coefs = deriv_list(\n",
    "        lambda x: Gmat(x, masses, internal_to_cartesian), deriv_ind, r0, if_taylor=True\n",
    "    )\n",
    "    np.save(Gmat_file, Gmat_coefs)"
   ]
  },
  {
   "cell_type": "markdown",
   "id": "e59ff1af",
   "metadata": {},
   "source": [
    "Define linear mapping between coordinates of Hermite functions and internal valence coordinates"
   ]
  },
  {
   "cell_type": "code",
   "execution_count": 7,
   "id": "b7a0f44b",
   "metadata": {},
   "outputs": [
    {
     "name": "stdout",
     "output_type": "stream",
     "text": [
      "x->r linear mapping parameters 'a': [0.05235088 0.11034365 0.11034365 0.15434588 0.15434588 0.3003904 ]\n",
      "x->r linear mapping parameters 'b': [1.19999999 1.1        1.1        2.13       2.13       3.14159264]\n"
     ]
    }
   ],
   "source": [
    "mask = deriv_ind != 0\n",
    "ind0 = np.where(mask.sum(axis=1) == 0)[0][0]\n",
    "mu = np.diag(Gmat_coefs[ind0])[:ncoo]\n",
    "\n",
    "ind2 = np.array(\n",
    "    [\n",
    "        np.where((mask.sum(axis=1) == 1) & (deriv_ind[:, icoo] == 2))[0][0]\n",
    "        for icoo in range(ncoo)\n",
    "    ]\n",
    ")\n",
    "freq = poten_coefs[ind2] * 2\n",
    "\n",
    "lin_a = jnp.sqrt(jnp.sqrt(mu / freq))\n",
    "lin_b = r0\n",
    "\n",
    "print(\"x->r linear mapping parameters 'a':\", lin_a)\n",
    "print(\"x->r linear mapping parameters 'b':\", lin_b)\n",
    "\n",
    "# x->r linear mapping function\n",
    "x_to_r_map = lambda x, icoo: lin_a[icoo] * x + lin_b[icoo]\n",
    "jac_x_to_r_map = lambda x, icoo: np.ones_like(x) * lin_a[icoo]"
   ]
  },
  {
   "cell_type": "markdown",
   "id": "fc3b2129",
   "metadata": {},
   "source": [
    "Define primitive basis"
   ]
  },
  {
   "cell_type": "code",
   "execution_count": 8,
   "id": "f80d024f",
   "metadata": {},
   "outputs": [],
   "source": [
    "nbas = [10] * ncoo\n",
    "npoints = [80] * ncoo\n",
    "\n",
    "p0, p1, p2, p3, p4, p5 = [\n",
    "    HermiteBasis(\n",
    "        icoo,\n",
    "        nbas[icoo],\n",
    "        npoints[icoo],\n",
    "        lambda x: x_to_r_map(x, icoo),\n",
    "        r0[icoo],\n",
    "        deriv_ind[:, icoo],\n",
    "    )\n",
    "    for icoo in range(ncoo)\n",
    "]"
   ]
  },
  {
   "cell_type": "markdown",
   "id": "2551e378",
   "metadata": {},
   "source": [
    "Build contracted basis"
   ]
  },
  {
   "cell_type": "code",
   "execution_count": 9,
   "id": "4939ae80",
   "metadata": {},
   "outputs": [
    {
     "name": "stdout",
     "output_type": "stream",
     "text": [
      "5896.959659374803 [   0.         1089.44177422 1170.56694786 1405.2708966  2094.09954829\n",
      " 2208.15711713 2299.44508092 2357.20088939 2500.54497363 2582.85224961\n",
      " 2790.8613031  2965.2738412  3111.50973988 3185.20854927 3284.203136\n",
      " 3322.0587227  3433.62520039 3543.560982   3549.25597141 3788.39499255\n",
      " 3878.09886886 3923.97124758 3950.31394818 3953.59753604 4019.3720713\n",
      " 4078.55938002 4125.76979541 4268.49802008 4317.07340424 4420.52497405\n",
      " 4509.66817599 4634.14721163 4679.34197841 4784.27775602 4870.01118546\n",
      " 4881.58856067 5079.07542926 5118.31673326 5129.92606184 5144.67581563\n",
      " 5177.75101619 5321.49358002 5419.05264154 5703.87345504 5745.81548523\n",
      " 6050.1521393  6059.90222099 6097.56538997 6319.0045481  6332.94008466]\n"
     ]
    }
   ],
   "source": [
    "# test 1D shit\n",
    "c0, c1, c2, c3, c4, c5 = [\n",
    "    ContrBasis(\n",
    "        (icoo,), (p0, p1, p2, p3, p4, p5), lambda _: True, Gmat_coefs, poten_coefs\n",
    "    )\n",
    "    for icoo in range(ncoo)\n",
    "]\n",
    "\n",
    "# couple CH1 and CH2\n",
    "c12 = ContrBasis(\n",
    "    (1, 2),\n",
    "    (p0, c1, c2, p3, p4, p5),\n",
    "    lambda _: True,\n",
    "    Gmat_coefs,\n",
    "    poten_coefs,\n",
    "    emax=20000,\n",
    ")\n",
    "\n",
    "# couple H1CO and H2CO\n",
    "c34 = ContrBasis(\n",
    "    (3, 4),\n",
    "    (p0, p1, p2, c3, c4, p5),\n",
    "    lambda _: True,\n",
    "    Gmat_coefs,\n",
    "    poten_coefs,\n",
    "    emax=20000,\n",
    ")\n",
    "\n",
    "# couple all together\n",
    "p_coefs = np.array([2, 2, 1, 1])\n",
    "p_max = 6\n",
    "c = ContrBasis(\n",
    "    (0, 1, 2, 3),\n",
    "    (c0, c12, c34, c5),\n",
    "    lambda ind: np.sum(np.array(ind) * p_coefs) < p_max,\n",
    "    Gmat_coefs,\n",
    "    poten_coefs,\n",
    ")\n",
    "e = c.enr\n",
    "print(e[0], e - e[0])"
   ]
  },
  {
   "cell_type": "code",
   "execution_count": null,
   "id": "059714b6",
   "metadata": {},
   "outputs": [],
   "source": []
  }
 ],
 "metadata": {
  "kernelspec": {
   "display_name": "myenv",
   "language": "python",
   "name": "python3"
  },
  "language_info": {
   "codemirror_mode": {
    "name": "ipython",
    "version": 3
   },
   "file_extension": ".py",
   "mimetype": "text/x-python",
   "name": "python",
   "nbconvert_exporter": "python",
   "pygments_lexer": "ipython3",
   "version": "3.13.0"
  }
 },
 "nbformat": 4,
 "nbformat_minor": 5
}
