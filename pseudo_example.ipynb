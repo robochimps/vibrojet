{
 "cells": [
  {
   "cell_type": "code",
   "execution_count": 1,
   "id": "65680864-0460-46fc-9a94-fc73488ec84b",
   "metadata": {},
   "outputs": [],
   "source": [
    "import itertools\n",
    "\n",
    "import jax\n",
    "import jax.numpy as jnp\n",
    "import numpy as np\n",
    "from scipy.special import factorial\n",
    "\n",
    "from vibrojet.keo import Gmat, batch_Gmat, com, eckart, batch_pseudo\n",
    "from vibrojet.taylor import deriv_list\n",
    "\n",
    "jax.config.update(\"jax_enable_x64\", True)"
   ]
  },
  {
   "cell_type": "code",
   "execution_count": 2,
   "id": "2d9a0673-04db-4302-ab46-6efbc9f0252f",
   "metadata": {},
   "outputs": [],
   "source": [
    "# Masses of O, H, H atoms\n",
    "masses = np.array([31.97207070, 1.00782505, 1.00782505])\n",
    "\n",
    "# Equilibrium values of valence coordinates\n",
    "r1, r2, alpha = 1.3358387, 1.3358387, 92.2705139*np.pi/180\n",
    "x0 = jnp.array([r1, r2, alpha], dtype=jnp.float64)\n",
    "\n",
    "# Valence-to-Cartesian coordinate transformation\n",
    "#   input: array of three valence coordinates\n",
    "#   output: array of shape (number of atoms, 3) containing Cartesian coordinates of atoms\n",
    "# `eckart` rotates coordinates to the Eckart frame and corrects for center of mass\n",
    "@eckart(x0, masses)\n",
    "def valence_to_cartesian(internal_coords):\n",
    "    r1, r2, a = internal_coords\n",
    "    return jnp.array(\n",
    "        [\n",
    "            [0.0, 0.0, 0.0],\n",
    "            [r1 * jnp.sin(a / 2), 0.0, r1 * jnp.cos(a / 2)],\n",
    "            [-r2 * jnp.sin(a / 2), 0.0, r2 * jnp.cos(a / 2)],\n",
    "        ]\n",
    "    )"
   ]
  },
  {
   "cell_type": "code",
   "execution_count": 3,
   "id": "75aaaa60-6d69-406c-be31-9c6a77548e1f",
   "metadata": {},
   "outputs": [
    {
     "name": "stdout",
     "output_type": "stream",
     "text": [
      "(1000, 3)\n"
     ]
    }
   ],
   "source": [
    "# Generate grid of coordinates\n",
    "r1_arr = np.linspace(r1 - 0.5, r1 + 0.5, 10)\n",
    "r2_arr = np.linspace(r2 - 0.5, r2 + 0.5, 10)\n",
    "alpha_arr = np.linspace(alpha - 40 * np.pi / 180, alpha + 40 * np.pi / 180, 10)\n",
    "xa, xb, xc = np.meshgrid(r1_arr, r2_arr, alpha_arr, indexing=\"ij\")\n",
    "x = np.column_stack([xa.ravel(), xb.ravel(), xc.ravel()])\n",
    "print(np.shape(x))"
   ]
  },
  {
   "cell_type": "code",
   "execution_count": 4,
   "id": "1b42514d-1988-4025-be1f-b19d881e873c",
   "metadata": {},
   "outputs": [
    {
     "name": "stdout",
     "output_type": "stream",
     "text": [
      "(1000,)\n"
     ]
    }
   ],
   "source": [
    "pseudo_vals = batch_pseudo(x, masses, valence_to_cartesian)\n",
    "print(np.shape(pseudo_vals))"
   ]
  },
  {
   "cell_type": "code",
   "execution_count": null,
   "id": "5b489157-f036-4fbb-8dee-1624ac37404d",
   "metadata": {},
   "outputs": [],
   "source": []
  },
  {
   "cell_type": "code",
   "execution_count": null,
   "id": "1fb99985-faa5-460d-82b1-a8fc4d947804",
   "metadata": {},
   "outputs": [],
   "source": []
  }
 ],
 "metadata": {
  "kernelspec": {
   "display_name": "py310_clone",
   "language": "python",
   "name": "py310_clone"
  },
  "language_info": {
   "codemirror_mode": {
    "name": "ipython",
    "version": 3
   },
   "file_extension": ".py",
   "mimetype": "text/x-python",
   "name": "python",
   "nbconvert_exporter": "python",
   "pygments_lexer": "ipython3",
   "version": "3.10.14"
  }
 },
 "nbformat": 4,
 "nbformat_minor": 5
}
